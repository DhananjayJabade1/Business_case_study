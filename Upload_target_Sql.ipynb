{
  "nbformat": 4,
  "nbformat_minor": 0,
  "metadata": {
    "colab": {
      "provenance": [],
      "collapsed_sections": [],
      "include_colab_link": true
    },
    "kernelspec": {
      "name": "python3",
      "display_name": "Python 3"
    },
    "language_info": {
      "name": "python"
    }
  },
  "cells": [
    {
      "cell_type": "markdown",
      "metadata": {
        "id": "view-in-github",
        "colab_type": "text"
      },
      "source": [
        "<a href=\"https://colab.research.google.com/github/DhananjayJabade1/Business_case_study/blob/main/Upload_target_Sql.ipynb\" target=\"_parent\"><img src=\"https://colab.research.google.com/assets/colab-badge.svg\" alt=\"Open In Colab\"/></a>"
      ]
    },
    {
      "cell_type": "code",
      "execution_count": null,
      "metadata": {
        "id": "gh_z6hw97TNM"
      },
      "outputs": [],
      "source": [
        "import pandas as pd\n",
        "import numpy as np"
      ]
    },
    {
      "cell_type": "code",
      "source": [
        "from google.colab import auth\n",
        "auth.authenticate_user()"
      ],
      "metadata": {
        "id": "ePnAq_Uu8APi"
      },
      "execution_count": null,
      "outputs": []
    },
    {
      "cell_type": "code",
      "source": [
        "from google.cloud import bigquery\n",
        "client = bigquery.Client(project='terget')"
      ],
      "metadata": {
        "id": "6UdA4fVM7gIb"
      },
      "execution_count": null,
      "outputs": []
    },
    {
      "cell_type": "code",
      "source": [
        "query_customers = ('''select * from `target_db.customers` ''')\n",
        "query_geolocation = ('''select * from `target_db.geolocation` ''')\n",
        "query_order_items = ('''select * from `target_db.order_items` ''')\n",
        "query_order_reviews = ('''select * from `target_db.order_reviews` ''')\n",
        "query_orders = ('''select * from `target_db.orders` ''')\n",
        "query_payments = ('''select * from `target_db.payments` ''')\n",
        "query_products = ('''select * from `target_db.products` ''')\n",
        "query_sellers = ('''select * from `target_db.sellers` ''')"
      ],
      "metadata": {
        "id": "ftNe9NmA7gcI"
      },
      "execution_count": null,
      "outputs": []
    },
    {
      "cell_type": "code",
      "source": [
        "df_customers = client.query(query_customers).to_dataframe()\n",
        "df_geolocation = client.query(query_geolocation).to_dataframe()\n",
        "df_order_items = client.query(query_order_items).to_dataframe()\n",
        "df_order_reviews = client.query(query_order_reviews).to_dataframe()\n",
        "df_orders = client.query(query_orders).to_dataframe()\n",
        "df_payments = client.query(query_payments).to_dataframe()\n",
        "df_products = client.query(query_products).to_dataframe()\n",
        "df_sellers = client.query(query_sellers).to_dataframe()"
      ],
      "metadata": {
        "id": "s8s8yxpm7gfR"
      },
      "execution_count": null,
      "outputs": []
    },
    {
      "cell_type": "code",
      "source": [
        "df_customers.dtypes"
      ],
      "metadata": {
        "colab": {
          "base_uri": "https://localhost:8080/"
        },
        "id": "U9Sw8ZAi7giX",
        "outputId": "7c665fc4-3d6d-485a-ab95-6f2d7fdd8a05"
      },
      "execution_count": null,
      "outputs": [
        {
          "output_type": "execute_result",
          "data": {
            "text/plain": [
              "customer_id                 object\n",
              "customer_unique_id          object\n",
              "customer_zip_code_prefix     int64\n",
              "customer_city               object\n",
              "customer_state              object\n",
              "dtype: object"
            ]
          },
          "metadata": {},
          "execution_count": 70
        }
      ]
    },
    {
      "cell_type": "code",
      "source": [
        "df_geolocation.dtypes"
      ],
      "metadata": {
        "colab": {
          "base_uri": "https://localhost:8080/"
        },
        "id": "AZZiIQcv52A2",
        "outputId": "16cde92e-dc8c-4b0c-e484-890f81d7e2fa"
      },
      "execution_count": null,
      "outputs": [
        {
          "output_type": "execute_result",
          "data": {
            "text/plain": [
              "geolocation_zip_code_prefix      int64\n",
              "geolocation_lat                float64\n",
              "geolocation_lng                float64\n",
              "geolocation_city                object\n",
              "geolocation_state               object\n",
              "dtype: object"
            ]
          },
          "metadata": {},
          "execution_count": 71
        }
      ]
    },
    {
      "cell_type": "code",
      "source": [
        "df_order_items.dtypes"
      ],
      "metadata": {
        "colab": {
          "base_uri": "https://localhost:8080/"
        },
        "id": "NEOLThj152If",
        "outputId": "c0b650c5-d6be-4892-f519-3a9de3c9f615"
      },
      "execution_count": null,
      "outputs": [
        {
          "output_type": "execute_result",
          "data": {
            "text/plain": [
              "order_id                            object\n",
              "order_item_id                        int64\n",
              "product_id                          object\n",
              "seller_id                           object\n",
              "shipping_limit_date    datetime64[ns, UTC]\n",
              "price                              float64\n",
              "freight_value                      float64\n",
              "dtype: object"
            ]
          },
          "metadata": {},
          "execution_count": 72
        }
      ]
    },
    {
      "cell_type": "code",
      "source": [
        "df_order_reviews.dtypes"
      ],
      "metadata": {
        "colab": {
          "base_uri": "https://localhost:8080/"
        },
        "id": "k00bRZL_52LJ",
        "outputId": "8adba67d-3402-4cb6-f9fc-cf481b0f7a2c"
      },
      "execution_count": null,
      "outputs": [
        {
          "output_type": "execute_result",
          "data": {
            "text/plain": [
              "review_id                  object\n",
              "order_id                   object\n",
              "review_score                int64\n",
              "review_comment_title       object\n",
              "review_creation_date       object\n",
              "review_answer_timestamp    object\n",
              "dtype: object"
            ]
          },
          "metadata": {},
          "execution_count": 73
        }
      ]
    },
    {
      "cell_type": "code",
      "source": [
        "df_orders.dtypes"
      ],
      "metadata": {
        "colab": {
          "base_uri": "https://localhost:8080/"
        },
        "id": "PMvaR8HK52OB",
        "outputId": "31018ae3-42ca-409f-a8bc-9e08fda81bd2"
      },
      "execution_count": null,
      "outputs": [
        {
          "output_type": "execute_result",
          "data": {
            "text/plain": [
              "order_id                                      object\n",
              "customer_id                                   object\n",
              "order_status                                  object\n",
              "order_purchase_timestamp         datetime64[ns, UTC]\n",
              "order_approved_at                datetime64[ns, UTC]\n",
              "order_delivered_carrier_date     datetime64[ns, UTC]\n",
              "order_delivered_customer_date    datetime64[ns, UTC]\n",
              "order_estimated_delivery_date    datetime64[ns, UTC]\n",
              "dtype: object"
            ]
          },
          "metadata": {},
          "execution_count": 74
        }
      ]
    },
    {
      "cell_type": "code",
      "source": [
        "df_payments.dtypes"
      ],
      "metadata": {
        "colab": {
          "base_uri": "https://localhost:8080/"
        },
        "id": "LHjfI3F_52Q5",
        "outputId": "db731fa3-838f-4fda-8934-616b5c485f5d"
      },
      "execution_count": null,
      "outputs": [
        {
          "output_type": "execute_result",
          "data": {
            "text/plain": [
              "order_id                 object\n",
              "payment_sequential        int64\n",
              "payment_type             object\n",
              "payment_installments      int64\n",
              "payment_value           float64\n",
              "dtype: object"
            ]
          },
          "metadata": {},
          "execution_count": 75
        }
      ]
    },
    {
      "cell_type": "code",
      "source": [
        "df_products.dtypes"
      ],
      "metadata": {
        "colab": {
          "base_uri": "https://localhost:8080/"
        },
        "id": "cRgtcqoJ52UT",
        "outputId": "c150dcf2-29f5-4833-c07a-9f1f8ee363f3"
      },
      "execution_count": null,
      "outputs": [
        {
          "output_type": "execute_result",
          "data": {
            "text/plain": [
              "product_id                     object\n",
              "product_category               object\n",
              "product_name_length           float64\n",
              "product_description_length    float64\n",
              "product_photos_qty            float64\n",
              "product_weight_g              float64\n",
              "product_length_cm             float64\n",
              "product_height_cm             float64\n",
              "product_width_cm              float64\n",
              "dtype: object"
            ]
          },
          "metadata": {},
          "execution_count": 76
        }
      ]
    },
    {
      "cell_type": "code",
      "source": [
        "df_sellers.dtypes"
      ],
      "metadata": {
        "colab": {
          "base_uri": "https://localhost:8080/"
        },
        "id": "jWMpjBFD6WSU",
        "outputId": "45622422-d939-4c5e-cbec-415aac127d46"
      },
      "execution_count": null,
      "outputs": [
        {
          "output_type": "execute_result",
          "data": {
            "text/plain": [
              "seller_id                 object\n",
              "seller_zip_code_prefix     int64\n",
              "seller_city               object\n",
              "seller_state              object\n",
              "dtype: object"
            ]
          },
          "metadata": {},
          "execution_count": 77
        }
      ]
    },
    {
      "cell_type": "markdown",
      "source": [
        "Getting Min and MAX date"
      ],
      "metadata": {
        "id": "PhAA1013HOVU"
      }
    },
    {
      "cell_type": "code",
      "source": [
        "df_orders['order_purchase_timestamp'].agg(['min', 'max'])"
      ],
      "metadata": {
        "colab": {
          "base_uri": "https://localhost:8080/"
        },
        "id": "Kuv5ms9CBJoX",
        "outputId": "e346aa4e-8795-44a6-d6bf-ab83b5045b89"
      },
      "execution_count": null,
      "outputs": [
        {
          "output_type": "execute_result",
          "data": {
            "text/plain": [
              "min   2016-09-04 21:15:19+00:00\n",
              "max   2018-10-17 17:30:18+00:00\n",
              "Name: order_purchase_timestamp, dtype: datetime64[ns, UTC]"
            ]
          },
          "metadata": {},
          "execution_count": 78
        }
      ]
    },
    {
      "cell_type": "code",
      "source": [
        "df_orders['order_delivered_customer_date'].agg(['min', 'max'])"
      ],
      "metadata": {
        "colab": {
          "base_uri": "https://localhost:8080/"
        },
        "id": "EtU3NlsmBJuE",
        "outputId": "a9bad21a-e4f9-44e7-f318-368294612566"
      },
      "execution_count": null,
      "outputs": [
        {
          "output_type": "execute_result",
          "data": {
            "text/plain": [
              "min   2016-10-11 13:46:32+00:00\n",
              "max   2018-10-17 13:22:46+00:00\n",
              "Name: order_delivered_customer_date, dtype: datetime64[ns, UTC]"
            ]
          },
          "metadata": {},
          "execution_count": 79
        }
      ]
    },
    {
      "cell_type": "markdown",
      "source": [
        "Data is From 2016-09-04 to 2018-10-17"
      ],
      "metadata": {
        "id": "-WiG9QStHgEU"
      }
    },
    {
      "cell_type": "code",
      "source": [
        "cities = df_geolocation['geolocation_city'].unique()\n",
        "cities"
      ],
      "metadata": {
        "colab": {
          "base_uri": "https://localhost:8080/"
        },
        "id": "5ByYTUbeBJzj",
        "outputId": "493784c7-bc42-4c7c-e646-db4b7cd792ff"
      },
      "execution_count": null,
      "outputs": [
        {
          "output_type": "execute_result",
          "data": {
            "text/plain": [
              "array(['aracaju', 'riachuelo', 'nossa senhora do socorro', ...,\n",
              "       'sorocaba', 'guarulhos', 'sao bernardo do campo'], dtype=object)"
            ]
          },
          "metadata": {},
          "execution_count": 80
        }
      ]
    },
    {
      "cell_type": "code",
      "source": [
        "df_geolocation['geolocation_city'].nunique()"
      ],
      "metadata": {
        "colab": {
          "base_uri": "https://localhost:8080/"
        },
        "id": "SPiaWXRdITLY",
        "outputId": "cec30d0a-4ff5-4faa-9356-f417bf1ecd5d"
      },
      "execution_count": null,
      "outputs": [
        {
          "output_type": "execute_result",
          "data": {
            "text/plain": [
              "8011"
            ]
          },
          "metadata": {},
          "execution_count": 81
        }
      ]
    },
    {
      "cell_type": "code",
      "source": [
        "states = df_geolocation['geolocation_state'].unique()\n",
        "states"
      ],
      "metadata": {
        "colab": {
          "base_uri": "https://localhost:8080/"
        },
        "id": "G_x22JAqBJ2b",
        "outputId": "95b35cde-f636-49ab-b5c4-313b2ae5af75"
      },
      "execution_count": null,
      "outputs": [
        {
          "output_type": "execute_result",
          "data": {
            "text/plain": [
              "array(['SE', 'AL', 'PI', 'AP', 'AM', 'RR', 'AC', 'RO', 'TO', 'BA', 'CE',\n",
              "       'DF', 'ES', 'GO', 'MA', 'MG', 'MS', 'MT', 'PA', 'PB', 'PE', 'PR',\n",
              "       'RJ', 'RN', 'RS', 'SC', 'SP'], dtype=object)"
            ]
          },
          "metadata": {},
          "execution_count": 82
        }
      ]
    },
    {
      "cell_type": "code",
      "source": [
        "df_geolocation['geolocation_state'].nunique()"
      ],
      "metadata": {
        "colab": {
          "base_uri": "https://localhost:8080/"
        },
        "id": "KPwkOw0z6Waz",
        "outputId": "1d793008-4563-479a-8535-06efb0b7723c"
      },
      "execution_count": null,
      "outputs": [
        {
          "output_type": "execute_result",
          "data": {
            "text/plain": [
              "27"
            ]
          },
          "metadata": {},
          "execution_count": 83
        }
      ]
    },
    {
      "cell_type": "markdown",
      "source": [
        "There are 8011 Cities and 27 states"
      ],
      "metadata": {
        "id": "DGU4hzykIb_5"
      }
    },
    {
      "cell_type": "code",
      "source": [
        "hours_query = \"SELECT EXTRACT(hour FROM order_purchase_timestamp) as HR FROM (SELECT order_id, order_purchase_timestamp FROM `terget.target_db.orders`)\"\n",
        "df_hours = client.query(hours_query).to_dataframe()\n",
        "df_hours"
      ],
      "metadata": {
        "id": "xUMKjICRIi_B",
        "colab": {
          "base_uri": "https://localhost:8080/",
          "height": 424
        },
        "outputId": "836041a2-9acb-4544-905b-458ed33a251b"
      },
      "execution_count": null,
      "outputs": [
        {
          "output_type": "execute_result",
          "data": {
            "text/plain": [
              "       HR\n",
              "0       3\n",
              "1       3\n",
              "2       4\n",
              "3       5\n",
              "4       3\n",
              "...    ..\n",
              "99436  23\n",
              "99437  23\n",
              "99438  23\n",
              "99439  23\n",
              "99440  23\n",
              "\n",
              "[99441 rows x 1 columns]"
            ],
            "text/html": [
              "\n",
              "  <div id=\"df-7d5047bc-0e2e-42e6-ad87-1ad212e449ae\">\n",
              "    <div class=\"colab-df-container\">\n",
              "      <div>\n",
              "<style scoped>\n",
              "    .dataframe tbody tr th:only-of-type {\n",
              "        vertical-align: middle;\n",
              "    }\n",
              "\n",
              "    .dataframe tbody tr th {\n",
              "        vertical-align: top;\n",
              "    }\n",
              "\n",
              "    .dataframe thead th {\n",
              "        text-align: right;\n",
              "    }\n",
              "</style>\n",
              "<table border=\"1\" class=\"dataframe\">\n",
              "  <thead>\n",
              "    <tr style=\"text-align: right;\">\n",
              "      <th></th>\n",
              "      <th>HR</th>\n",
              "    </tr>\n",
              "  </thead>\n",
              "  <tbody>\n",
              "    <tr>\n",
              "      <th>0</th>\n",
              "      <td>3</td>\n",
              "    </tr>\n",
              "    <tr>\n",
              "      <th>1</th>\n",
              "      <td>3</td>\n",
              "    </tr>\n",
              "    <tr>\n",
              "      <th>2</th>\n",
              "      <td>4</td>\n",
              "    </tr>\n",
              "    <tr>\n",
              "      <th>3</th>\n",
              "      <td>5</td>\n",
              "    </tr>\n",
              "    <tr>\n",
              "      <th>4</th>\n",
              "      <td>3</td>\n",
              "    </tr>\n",
              "    <tr>\n",
              "      <th>...</th>\n",
              "      <td>...</td>\n",
              "    </tr>\n",
              "    <tr>\n",
              "      <th>99436</th>\n",
              "      <td>23</td>\n",
              "    </tr>\n",
              "    <tr>\n",
              "      <th>99437</th>\n",
              "      <td>23</td>\n",
              "    </tr>\n",
              "    <tr>\n",
              "      <th>99438</th>\n",
              "      <td>23</td>\n",
              "    </tr>\n",
              "    <tr>\n",
              "      <th>99439</th>\n",
              "      <td>23</td>\n",
              "    </tr>\n",
              "    <tr>\n",
              "      <th>99440</th>\n",
              "      <td>23</td>\n",
              "    </tr>\n",
              "  </tbody>\n",
              "</table>\n",
              "<p>99441 rows × 1 columns</p>\n",
              "</div>\n",
              "      <button class=\"colab-df-convert\" onclick=\"convertToInteractive('df-7d5047bc-0e2e-42e6-ad87-1ad212e449ae')\"\n",
              "              title=\"Convert this dataframe to an interactive table.\"\n",
              "              style=\"display:none;\">\n",
              "        \n",
              "  <svg xmlns=\"http://www.w3.org/2000/svg\" height=\"24px\"viewBox=\"0 0 24 24\"\n",
              "       width=\"24px\">\n",
              "    <path d=\"M0 0h24v24H0V0z\" fill=\"none\"/>\n",
              "    <path d=\"M18.56 5.44l.94 2.06.94-2.06 2.06-.94-2.06-.94-.94-2.06-.94 2.06-2.06.94zm-11 1L8.5 8.5l.94-2.06 2.06-.94-2.06-.94L8.5 2.5l-.94 2.06-2.06.94zm10 10l.94 2.06.94-2.06 2.06-.94-2.06-.94-.94-2.06-.94 2.06-2.06.94z\"/><path d=\"M17.41 7.96l-1.37-1.37c-.4-.4-.92-.59-1.43-.59-.52 0-1.04.2-1.43.59L10.3 9.45l-7.72 7.72c-.78.78-.78 2.05 0 2.83L4 21.41c.39.39.9.59 1.41.59.51 0 1.02-.2 1.41-.59l7.78-7.78 2.81-2.81c.8-.78.8-2.07 0-2.86zM5.41 20L4 18.59l7.72-7.72 1.47 1.35L5.41 20z\"/>\n",
              "  </svg>\n",
              "      </button>\n",
              "      \n",
              "  <style>\n",
              "    .colab-df-container {\n",
              "      display:flex;\n",
              "      flex-wrap:wrap;\n",
              "      gap: 12px;\n",
              "    }\n",
              "\n",
              "    .colab-df-convert {\n",
              "      background-color: #E8F0FE;\n",
              "      border: none;\n",
              "      border-radius: 50%;\n",
              "      cursor: pointer;\n",
              "      display: none;\n",
              "      fill: #1967D2;\n",
              "      height: 32px;\n",
              "      padding: 0 0 0 0;\n",
              "      width: 32px;\n",
              "    }\n",
              "\n",
              "    .colab-df-convert:hover {\n",
              "      background-color: #E2EBFA;\n",
              "      box-shadow: 0px 1px 2px rgba(60, 64, 67, 0.3), 0px 1px 3px 1px rgba(60, 64, 67, 0.15);\n",
              "      fill: #174EA6;\n",
              "    }\n",
              "\n",
              "    [theme=dark] .colab-df-convert {\n",
              "      background-color: #3B4455;\n",
              "      fill: #D2E3FC;\n",
              "    }\n",
              "\n",
              "    [theme=dark] .colab-df-convert:hover {\n",
              "      background-color: #434B5C;\n",
              "      box-shadow: 0px 1px 3px 1px rgba(0, 0, 0, 0.15);\n",
              "      filter: drop-shadow(0px 1px 2px rgba(0, 0, 0, 0.3));\n",
              "      fill: #FFFFFF;\n",
              "    }\n",
              "  </style>\n",
              "\n",
              "      <script>\n",
              "        const buttonEl =\n",
              "          document.querySelector('#df-7d5047bc-0e2e-42e6-ad87-1ad212e449ae button.colab-df-convert');\n",
              "        buttonEl.style.display =\n",
              "          google.colab.kernel.accessAllowed ? 'block' : 'none';\n",
              "\n",
              "        async function convertToInteractive(key) {\n",
              "          const element = document.querySelector('#df-7d5047bc-0e2e-42e6-ad87-1ad212e449ae');\n",
              "          const dataTable =\n",
              "            await google.colab.kernel.invokeFunction('convertToInteractive',\n",
              "                                                     [key], {});\n",
              "          if (!dataTable) return;\n",
              "\n",
              "          const docLinkHtml = 'Like what you see? Visit the ' +\n",
              "            '<a target=\"_blank\" href=https://colab.research.google.com/notebooks/data_table.ipynb>data table notebook</a>'\n",
              "            + ' to learn more about interactive tables.';\n",
              "          element.innerHTML = '';\n",
              "          dataTable['output_type'] = 'display_data';\n",
              "          await google.colab.output.renderOutput(dataTable, element);\n",
              "          const docLink = document.createElement('div');\n",
              "          docLink.innerHTML = docLinkHtml;\n",
              "          element.appendChild(docLink);\n",
              "        }\n",
              "      </script>\n",
              "    </div>\n",
              "  </div>\n",
              "  "
            ]
          },
          "metadata": {},
          "execution_count": 84
        }
      ]
    },
    {
      "cell_type": "code",
      "source": [
        "hours_query = \"SELECT order_purchase_timestamp as HH FROM `terget.target_db.orders`\"\n",
        "df_hours = client.query(hours_query).to_dataframe()"
      ],
      "metadata": {
        "id": "edY8eOINvijZ"
      },
      "execution_count": null,
      "outputs": []
    },
    {
      "cell_type": "code",
      "source": [
        "Dawn = 0\n",
        "Morning = 0\n",
        "Afternoon = 0\n",
        "Evening = 0\n",
        "Night = 0\n",
        "\n",
        "import datetime\n",
        "\n",
        "for index,row in df_hours.iterrows():\n",
        "  tt = str(row[0])\n",
        "  d = datetime.datetime.fromisoformat(tt)\n",
        "  i = d.hour\n",
        "  if i < 3 :\n",
        "    Night += 1\n",
        "  elif i >= 3 and i < 7:\n",
        "    Dawn += 1\n",
        "  elif i >= 7 and i < 12:\n",
        "    Morning += 1\n",
        "  elif i >= 12 and i < 16:\n",
        "    Afternoon += 1\n",
        "  elif i >= 16 and i < 20:\n",
        "    Evening += 1\n",
        "  elif i >= 20:\n",
        "    Night += 1\n",
        "\n",
        "\n",
        "print(Dawn)\n",
        "print(Morning)\n",
        "print(Afternoon)\n",
        "print(Evening)\n",
        "print(Night)"
      ],
      "metadata": {
        "id": "1HwuI7atIjCT",
        "colab": {
          "base_uri": "https://localhost:8080/"
        },
        "outputId": "18f0ce40-7fea-4b8b-8b4b-b2ea0569c2bd"
      },
      "execution_count": null,
      "outputs": [
        {
          "output_type": "stream",
          "name": "stdout",
          "text": [
            "1168\n",
            "21738\n",
            "25536\n",
            "24576\n",
            "26423\n"
          ]
        }
      ]
    },
    {
      "cell_type": "markdown",
      "source": [
        "Most of the orders are place at Night, compared to Dawn, Morning or Afternoon.From evening 4pm to morning 3am 50999 orders are placed. Below is the hour wise order details."
      ],
      "metadata": {
        "id": "VSuKzMKTSH9X"
      }
    },
    {
      "cell_type": "code",
      "source": [
        "count_0 = 0\n",
        "count_1 = 0\n",
        "count_2 = 0\n",
        "count_3 = 0\n",
        "count_4 = 0\n",
        "count_5 = 0\n",
        "count_6 = 0\n",
        "count_7 = 0\n",
        "count_8 = 0\n",
        "count_9 = 0\n",
        "count_10 = 0\n",
        "count_11 = 0\n",
        "count_12 = 0\n",
        "count_13 = 0\n",
        "count_14 = 0\n",
        "count_15 = 0\n",
        "count_16 = 0\n",
        "count_17 = 0\n",
        "count_18 = 0\n",
        "count_19 = 0\n",
        "count_20 = 0\n",
        "count_21 = 0\n",
        "count_22 = 0\n",
        "count_23 = 0\n",
        "\n",
        "\n",
        "for index,row in df_hours.iterrows():\n",
        "  tt = str(row[0])\n",
        "  d = datetime.datetime.fromisoformat(tt)\n",
        "  i = d.hour\n",
        "  if i == 0:\n",
        "    count_0 += 1\n",
        "  if i == 1:\n",
        "      count_1 += 1\n",
        "  if i == 2:\n",
        "      count_2 += 1\n",
        "  if i == 3:\n",
        "      count_3 += 1\n",
        "  if i == 4:\n",
        "      count_4 += 1\n",
        "  if i == 5:\n",
        "      count_5 += 1\n",
        "  if i == 6:\n",
        "      count_6 += 1\n",
        "  if i == 7:\n",
        "      count_7 += 1\n",
        "  if i == 8:\n",
        "      count_8 += 1\n",
        "  if i == 9:\n",
        "      count_9 += 1\n",
        "  if i == 10:\n",
        "      count_10 += 1\n",
        "  if i == 11:\n",
        "      count_11 += 1\n",
        "  if i == 12:\n",
        "      count_12 += 1\n",
        "  if i == 13:\n",
        "      count_13 += 1\n",
        "  if i == 14:\n",
        "      count_14 += 1\n",
        "  if i == 15:\n",
        "      count_15 += 1\n",
        "  if i == 16:\n",
        "      count_16 += 1\n",
        "  if i == 17:\n",
        "      count_17 += 1\n",
        "  if i == 18:\n",
        "      count_18 += 1\n",
        "  if i == 19:\n",
        "      count_19 += 1\n",
        "  if i == 20:\n",
        "      count_20 += 1\n",
        "  if i == 21:\n",
        "      count_21 += 1\n",
        "  if i == 22:\n",
        "      count_22 += 1\n",
        "  if i == 23:\n",
        "      count_23 += 1\n",
        "\n",
        "\n",
        "print(f'count_0 = {count_0}')\n",
        "print(f'count_1 = {count_1}')\n",
        "print(f'count_2 = {count_2}')\n",
        "print(f'count_3 = {count_3}')\n",
        "print(f'count_4 = {count_4}')\n",
        "print(f'count_5 = {count_5}')\n",
        "print(f'count_6 = {count_6}')\n",
        "print(f'count_7 = {count_7}')\n",
        "print(f'count_8 = {count_8}')\n",
        "print(f'count_9 = {count_9}')\n",
        "print(f'count_10 = {count_10}')\n",
        "print(f'count_11 = {count_11}')\n",
        "print(f'count_12 = {count_12}')\n",
        "print(f'count_13 = {count_13}')\n",
        "print(f'count_14 = {count_14}')\n",
        "print(f'count_15 = {count_15}')\n",
        "print(f'count_16 = {count_16}')\n",
        "print(f'count_17 = {count_17}')\n",
        "print(f'count_18 = {count_18}')\n",
        "print(f'count_19 = {count_19}')\n",
        "print(f'count_20 = {count_20}')\n",
        "print(f'count_21 = {count_21}')\n",
        "print(f'count_22 = {count_22}')\n",
        "print(f'count_23 = {count_23}')"
      ],
      "metadata": {
        "id": "Ig4DVOUOIjFC",
        "colab": {
          "base_uri": "https://localhost:8080/"
        },
        "outputId": "bae40b0f-4fd2-4ba5-cd4f-618a31f63483"
      },
      "execution_count": null,
      "outputs": [
        {
          "output_type": "stream",
          "name": "stdout",
          "text": [
            "count_0 = 2394\n",
            "count_1 = 1170\n",
            "count_2 = 510\n",
            "count_3 = 272\n",
            "count_4 = 206\n",
            "count_5 = 188\n",
            "count_6 = 502\n",
            "count_7 = 1231\n",
            "count_8 = 2967\n",
            "count_9 = 4785\n",
            "count_10 = 6177\n",
            "count_11 = 6578\n",
            "count_12 = 5995\n",
            "count_13 = 6518\n",
            "count_14 = 6569\n",
            "count_15 = 6454\n",
            "count_16 = 6675\n",
            "count_17 = 6150\n",
            "count_18 = 5769\n",
            "count_19 = 5982\n",
            "count_20 = 6193\n",
            "count_21 = 6217\n",
            "count_22 = 5816\n",
            "count_23 = 4123\n"
          ]
        }
      ]
    },
    {
      "cell_type": "markdown",
      "source": [
        "Maximum orders are place from 4pm to 5pm, i.e. 6675 orders\n",
        "\n",
        "Minumum orders are place from 4am to 5am, i.e. 206 orders"
      ],
      "metadata": {
        "id": "dl-CptRPSvm0"
      }
    },
    {
      "cell_type": "code",
      "source": [
        "year_2015 = 0\n",
        "year_2016 = 0\n",
        "year_2017 = 0\n",
        "year_2018 = 0\n",
        "year_2019 = 0\n",
        "\n",
        "for index,row in df_hours.iterrows():\n",
        "  tt = str(row[0])\n",
        "  d = datetime.datetime.fromisoformat(tt)\n",
        "  i = d.year\n",
        "  if i == 2015:\n",
        "    year_2015 += 1\n",
        "  if i == 2016:\n",
        "      year_2016 += 1\n",
        "  if i == 2017:\n",
        "      year_2017 += 1\n",
        "  if i == 2018:\n",
        "      year_2018 += 1\n",
        "  if i == 2019:\n",
        "      year_2019 += 1\n",
        "\n",
        "\n",
        "print(f'year_2015 = {year_2015}')\n",
        "print(f'year_2016 = {year_2016}')\n",
        "print(f'year_2017 = {year_2017}')\n",
        "print(f'year_2018 = {year_2018}')\n",
        "print(f'year_2019 = {year_2019}')"
      ],
      "metadata": {
        "id": "1N5mKM6aIjIm",
        "colab": {
          "base_uri": "https://localhost:8080/"
        },
        "outputId": "fc085c23-98c7-4180-99cc-807af619a4ba"
      },
      "execution_count": null,
      "outputs": [
        {
          "output_type": "stream",
          "name": "stdout",
          "text": [
            "year_2015 = 0\n",
            "year_2016 = 329\n",
            "year_2017 = 45101\n",
            "year_2018 = 54011\n",
            "year_2019 = 0\n"
          ]
        }
      ]
    },
    {
      "cell_type": "markdown",
      "source": [
        "As the data is from 2016 to 2018, just to verify year 2015 and 2019 are considered. The orders can be seen increasing year over year so yes there is growing trend in e-commerce.\n"
      ],
      "metadata": {
        "id": "j6GkGTfpXvHt"
      }
    },
    {
      "cell_type": "code",
      "source": [
        "month_1 = 0\n",
        "month_2 = 0\n",
        "month_3 = 0\n",
        "month_4 = 0\n",
        "month_5 = 0\n",
        "month_6 = 0\n",
        "month_7 = 0\n",
        "month_8 = 0\n",
        "month_9 = 0\n",
        "month_10 = 0\n",
        "month_11 = 0\n",
        "month_12 = 0\n",
        "\n",
        "for index,row in df_hours.iterrows():\n",
        "  tt = str(row[0])\n",
        "  d = datetime.datetime.fromisoformat(tt)\n",
        "  i = d.month\n",
        "  if i == 1:\n",
        "      month_1 += 1\n",
        "  if i == 2:\n",
        "      month_2 += 1\n",
        "  if i == 3:\n",
        "      month_3 += 1\n",
        "  if i == 4:\n",
        "      month_4 += 1\n",
        "  if i == 5:\n",
        "      month_5 += 1\n",
        "  if i == 6:\n",
        "      month_6 += 1\n",
        "  if i == 7:\n",
        "      month_7 += 1\n",
        "  if i == 8:\n",
        "      month_8 += 1\n",
        "  if i == 9:\n",
        "      month_9 += 1\n",
        "  if i == 10:\n",
        "      month_10 += 1\n",
        "  if i == 11:\n",
        "      month_11 += 1\n",
        "  if i == 12:\n",
        "      month_12 += 1\n",
        "\n",
        "\n",
        "print(f'month_1 = {month_1}')\n",
        "print(f'month_2 = {month_2}')\n",
        "print(f'month_3 = {month_3}')\n",
        "print(f'month_4 = {month_4}')\n",
        "print(f'month_5 = {month_5}')\n",
        "print(f'month_6 = {month_6}')\n",
        "print(f'month_7 = {month_7}')\n",
        "print(f'month_8 = {month_8}')\n",
        "print(f'month_9 = {month_9}')\n",
        "print(f'month_10 = {month_10}')\n",
        "print(f'month_11 = {month_11}')\n",
        "print(f'month_12 = {month_12}')\n",
        "\n"
      ],
      "metadata": {
        "id": "G-GNGTX8IjMP",
        "colab": {
          "base_uri": "https://localhost:8080/"
        },
        "outputId": "17a9fdb9-a780-4837-cf5a-ddae2cd13f7a"
      },
      "execution_count": null,
      "outputs": [
        {
          "output_type": "stream",
          "name": "stdout",
          "text": [
            "month_1 = 8069\n",
            "month_2 = 8508\n",
            "month_3 = 9893\n",
            "month_4 = 9343\n",
            "month_5 = 10573\n",
            "month_6 = 9412\n",
            "month_7 = 10318\n",
            "month_8 = 10843\n",
            "month_9 = 4305\n",
            "month_10 = 4959\n",
            "month_11 = 7544\n",
            "month_12 = 5674\n"
          ]
        }
      ]
    },
    {
      "cell_type": "markdown",
      "source": [
        "Sale is higher during May, July and August\n",
        "\n",
        "Sale is Lower during september and October\n"
      ],
      "metadata": {
        "id": "3BfedPJAZRwa"
      }
    },
    {
      "cell_type": "markdown",
      "source": [
        "**Evolution of E-commerce**"
      ],
      "metadata": {
        "id": "LMA7VgwWL4Kg"
      }
    },
    {
      "cell_type": "code",
      "source": [
        "query_mnt_n_mnt = '''select format_datetime(\"%B\", order_purchase_timestamp) as Month, count(order_id) as Order_count, cust.customer_state, cust.customer_city from `target_db.orders`as ord\n",
        "left join `target_db.customers`as cust on ord.customer_id = cust.customer_id group by format_datetime(\"%B\", order_purchase_timestamp),cust.customer_state,cust.customer_city '''\n",
        "df_mnt_n_mnt = client.query(query_mnt_n_mnt).to_dataframe()\n",
        "df_mnt_n_mnt.head()"
      ],
      "metadata": {
        "id": "dcYKW-gRIjVI",
        "colab": {
          "base_uri": "https://localhost:8080/",
          "height": 206
        },
        "outputId": "95e4db64-4e73-4e66-f458-2ed4e6f5fb3d"
      },
      "execution_count": null,
      "outputs": [
        {
          "output_type": "execute_result",
          "data": {
            "text/plain": [
              "       Month  Order_count customer_state customer_city\n",
              "0   February          196             DF      brasilia\n",
              "1    January          151             DF      brasilia\n",
              "2  September           97             DF      brasilia\n",
              "3        May          208             DF      brasilia\n",
              "4       June          217             DF      brasilia"
            ],
            "text/html": [
              "\n",
              "  <div id=\"df-bcf1c32b-c985-4989-96c2-fbe40a2f0eb0\">\n",
              "    <div class=\"colab-df-container\">\n",
              "      <div>\n",
              "<style scoped>\n",
              "    .dataframe tbody tr th:only-of-type {\n",
              "        vertical-align: middle;\n",
              "    }\n",
              "\n",
              "    .dataframe tbody tr th {\n",
              "        vertical-align: top;\n",
              "    }\n",
              "\n",
              "    .dataframe thead th {\n",
              "        text-align: right;\n",
              "    }\n",
              "</style>\n",
              "<table border=\"1\" class=\"dataframe\">\n",
              "  <thead>\n",
              "    <tr style=\"text-align: right;\">\n",
              "      <th></th>\n",
              "      <th>Month</th>\n",
              "      <th>Order_count</th>\n",
              "      <th>customer_state</th>\n",
              "      <th>customer_city</th>\n",
              "    </tr>\n",
              "  </thead>\n",
              "  <tbody>\n",
              "    <tr>\n",
              "      <th>0</th>\n",
              "      <td>February</td>\n",
              "      <td>196</td>\n",
              "      <td>DF</td>\n",
              "      <td>brasilia</td>\n",
              "    </tr>\n",
              "    <tr>\n",
              "      <th>1</th>\n",
              "      <td>January</td>\n",
              "      <td>151</td>\n",
              "      <td>DF</td>\n",
              "      <td>brasilia</td>\n",
              "    </tr>\n",
              "    <tr>\n",
              "      <th>2</th>\n",
              "      <td>September</td>\n",
              "      <td>97</td>\n",
              "      <td>DF</td>\n",
              "      <td>brasilia</td>\n",
              "    </tr>\n",
              "    <tr>\n",
              "      <th>3</th>\n",
              "      <td>May</td>\n",
              "      <td>208</td>\n",
              "      <td>DF</td>\n",
              "      <td>brasilia</td>\n",
              "    </tr>\n",
              "    <tr>\n",
              "      <th>4</th>\n",
              "      <td>June</td>\n",
              "      <td>217</td>\n",
              "      <td>DF</td>\n",
              "      <td>brasilia</td>\n",
              "    </tr>\n",
              "  </tbody>\n",
              "</table>\n",
              "</div>\n",
              "      <button class=\"colab-df-convert\" onclick=\"convertToInteractive('df-bcf1c32b-c985-4989-96c2-fbe40a2f0eb0')\"\n",
              "              title=\"Convert this dataframe to an interactive table.\"\n",
              "              style=\"display:none;\">\n",
              "        \n",
              "  <svg xmlns=\"http://www.w3.org/2000/svg\" height=\"24px\"viewBox=\"0 0 24 24\"\n",
              "       width=\"24px\">\n",
              "    <path d=\"M0 0h24v24H0V0z\" fill=\"none\"/>\n",
              "    <path d=\"M18.56 5.44l.94 2.06.94-2.06 2.06-.94-2.06-.94-.94-2.06-.94 2.06-2.06.94zm-11 1L8.5 8.5l.94-2.06 2.06-.94-2.06-.94L8.5 2.5l-.94 2.06-2.06.94zm10 10l.94 2.06.94-2.06 2.06-.94-2.06-.94-.94-2.06-.94 2.06-2.06.94z\"/><path d=\"M17.41 7.96l-1.37-1.37c-.4-.4-.92-.59-1.43-.59-.52 0-1.04.2-1.43.59L10.3 9.45l-7.72 7.72c-.78.78-.78 2.05 0 2.83L4 21.41c.39.39.9.59 1.41.59.51 0 1.02-.2 1.41-.59l7.78-7.78 2.81-2.81c.8-.78.8-2.07 0-2.86zM5.41 20L4 18.59l7.72-7.72 1.47 1.35L5.41 20z\"/>\n",
              "  </svg>\n",
              "      </button>\n",
              "      \n",
              "  <style>\n",
              "    .colab-df-container {\n",
              "      display:flex;\n",
              "      flex-wrap:wrap;\n",
              "      gap: 12px;\n",
              "    }\n",
              "\n",
              "    .colab-df-convert {\n",
              "      background-color: #E8F0FE;\n",
              "      border: none;\n",
              "      border-radius: 50%;\n",
              "      cursor: pointer;\n",
              "      display: none;\n",
              "      fill: #1967D2;\n",
              "      height: 32px;\n",
              "      padding: 0 0 0 0;\n",
              "      width: 32px;\n",
              "    }\n",
              "\n",
              "    .colab-df-convert:hover {\n",
              "      background-color: #E2EBFA;\n",
              "      box-shadow: 0px 1px 2px rgba(60, 64, 67, 0.3), 0px 1px 3px 1px rgba(60, 64, 67, 0.15);\n",
              "      fill: #174EA6;\n",
              "    }\n",
              "\n",
              "    [theme=dark] .colab-df-convert {\n",
              "      background-color: #3B4455;\n",
              "      fill: #D2E3FC;\n",
              "    }\n",
              "\n",
              "    [theme=dark] .colab-df-convert:hover {\n",
              "      background-color: #434B5C;\n",
              "      box-shadow: 0px 1px 3px 1px rgba(0, 0, 0, 0.15);\n",
              "      filter: drop-shadow(0px 1px 2px rgba(0, 0, 0, 0.3));\n",
              "      fill: #FFFFFF;\n",
              "    }\n",
              "  </style>\n",
              "\n",
              "      <script>\n",
              "        const buttonEl =\n",
              "          document.querySelector('#df-bcf1c32b-c985-4989-96c2-fbe40a2f0eb0 button.colab-df-convert');\n",
              "        buttonEl.style.display =\n",
              "          google.colab.kernel.accessAllowed ? 'block' : 'none';\n",
              "\n",
              "        async function convertToInteractive(key) {\n",
              "          const element = document.querySelector('#df-bcf1c32b-c985-4989-96c2-fbe40a2f0eb0');\n",
              "          const dataTable =\n",
              "            await google.colab.kernel.invokeFunction('convertToInteractive',\n",
              "                                                     [key], {});\n",
              "          if (!dataTable) return;\n",
              "\n",
              "          const docLinkHtml = 'Like what you see? Visit the ' +\n",
              "            '<a target=\"_blank\" href=https://colab.research.google.com/notebooks/data_table.ipynb>data table notebook</a>'\n",
              "            + ' to learn more about interactive tables.';\n",
              "          element.innerHTML = '';\n",
              "          dataTable['output_type'] = 'display_data';\n",
              "          await google.colab.output.renderOutput(dataTable, element);\n",
              "          const docLink = document.createElement('div');\n",
              "          docLink.innerHTML = docLinkHtml;\n",
              "          element.appendChild(docLink);\n",
              "        }\n",
              "      </script>\n",
              "    </div>\n",
              "  </div>\n",
              "  "
            ]
          },
          "metadata": {},
          "execution_count": 90
        }
      ]
    },
    {
      "cell_type": "code",
      "source": [],
      "metadata": {
        "id": "S9GHFAWD6WgN"
      },
      "execution_count": null,
      "outputs": []
    },
    {
      "cell_type": "code",
      "source": [
        "query_cust_distribution = '''select count(*) as customers, customer_state, customer_city from `target_db.customers` group by customer_state,customer_city'''\n",
        "df_cust_distribution = client.query(query_cust_distribution).to_dataframe()\n",
        "df_cust_distribution.head()"
      ],
      "metadata": {
        "id": "s2nLLzLI6WjB",
        "colab": {
          "base_uri": "https://localhost:8080/",
          "height": 206
        },
        "outputId": "532ea620-139d-4f05-df14-7e13b314fc87"
      },
      "execution_count": null,
      "outputs": [
        {
          "output_type": "execute_result",
          "data": {
            "text/plain": [
              "   customers customer_state customer_city\n",
              "0          3             RN           acu\n",
              "1          8             CE           ico\n",
              "2          2             RS           ipe\n",
              "3          4             CE           ipu\n",
              "4          3             SC           ita"
            ],
            "text/html": [
              "\n",
              "  <div id=\"df-44de6410-7fae-4901-8e6f-040492f061a3\">\n",
              "    <div class=\"colab-df-container\">\n",
              "      <div>\n",
              "<style scoped>\n",
              "    .dataframe tbody tr th:only-of-type {\n",
              "        vertical-align: middle;\n",
              "    }\n",
              "\n",
              "    .dataframe tbody tr th {\n",
              "        vertical-align: top;\n",
              "    }\n",
              "\n",
              "    .dataframe thead th {\n",
              "        text-align: right;\n",
              "    }\n",
              "</style>\n",
              "<table border=\"1\" class=\"dataframe\">\n",
              "  <thead>\n",
              "    <tr style=\"text-align: right;\">\n",
              "      <th></th>\n",
              "      <th>customers</th>\n",
              "      <th>customer_state</th>\n",
              "      <th>customer_city</th>\n",
              "    </tr>\n",
              "  </thead>\n",
              "  <tbody>\n",
              "    <tr>\n",
              "      <th>0</th>\n",
              "      <td>3</td>\n",
              "      <td>RN</td>\n",
              "      <td>acu</td>\n",
              "    </tr>\n",
              "    <tr>\n",
              "      <th>1</th>\n",
              "      <td>8</td>\n",
              "      <td>CE</td>\n",
              "      <td>ico</td>\n",
              "    </tr>\n",
              "    <tr>\n",
              "      <th>2</th>\n",
              "      <td>2</td>\n",
              "      <td>RS</td>\n",
              "      <td>ipe</td>\n",
              "    </tr>\n",
              "    <tr>\n",
              "      <th>3</th>\n",
              "      <td>4</td>\n",
              "      <td>CE</td>\n",
              "      <td>ipu</td>\n",
              "    </tr>\n",
              "    <tr>\n",
              "      <th>4</th>\n",
              "      <td>3</td>\n",
              "      <td>SC</td>\n",
              "      <td>ita</td>\n",
              "    </tr>\n",
              "  </tbody>\n",
              "</table>\n",
              "</div>\n",
              "      <button class=\"colab-df-convert\" onclick=\"convertToInteractive('df-44de6410-7fae-4901-8e6f-040492f061a3')\"\n",
              "              title=\"Convert this dataframe to an interactive table.\"\n",
              "              style=\"display:none;\">\n",
              "        \n",
              "  <svg xmlns=\"http://www.w3.org/2000/svg\" height=\"24px\"viewBox=\"0 0 24 24\"\n",
              "       width=\"24px\">\n",
              "    <path d=\"M0 0h24v24H0V0z\" fill=\"none\"/>\n",
              "    <path d=\"M18.56 5.44l.94 2.06.94-2.06 2.06-.94-2.06-.94-.94-2.06-.94 2.06-2.06.94zm-11 1L8.5 8.5l.94-2.06 2.06-.94-2.06-.94L8.5 2.5l-.94 2.06-2.06.94zm10 10l.94 2.06.94-2.06 2.06-.94-2.06-.94-.94-2.06-.94 2.06-2.06.94z\"/><path d=\"M17.41 7.96l-1.37-1.37c-.4-.4-.92-.59-1.43-.59-.52 0-1.04.2-1.43.59L10.3 9.45l-7.72 7.72c-.78.78-.78 2.05 0 2.83L4 21.41c.39.39.9.59 1.41.59.51 0 1.02-.2 1.41-.59l7.78-7.78 2.81-2.81c.8-.78.8-2.07 0-2.86zM5.41 20L4 18.59l7.72-7.72 1.47 1.35L5.41 20z\"/>\n",
              "  </svg>\n",
              "      </button>\n",
              "      \n",
              "  <style>\n",
              "    .colab-df-container {\n",
              "      display:flex;\n",
              "      flex-wrap:wrap;\n",
              "      gap: 12px;\n",
              "    }\n",
              "\n",
              "    .colab-df-convert {\n",
              "      background-color: #E8F0FE;\n",
              "      border: none;\n",
              "      border-radius: 50%;\n",
              "      cursor: pointer;\n",
              "      display: none;\n",
              "      fill: #1967D2;\n",
              "      height: 32px;\n",
              "      padding: 0 0 0 0;\n",
              "      width: 32px;\n",
              "    }\n",
              "\n",
              "    .colab-df-convert:hover {\n",
              "      background-color: #E2EBFA;\n",
              "      box-shadow: 0px 1px 2px rgba(60, 64, 67, 0.3), 0px 1px 3px 1px rgba(60, 64, 67, 0.15);\n",
              "      fill: #174EA6;\n",
              "    }\n",
              "\n",
              "    [theme=dark] .colab-df-convert {\n",
              "      background-color: #3B4455;\n",
              "      fill: #D2E3FC;\n",
              "    }\n",
              "\n",
              "    [theme=dark] .colab-df-convert:hover {\n",
              "      background-color: #434B5C;\n",
              "      box-shadow: 0px 1px 3px 1px rgba(0, 0, 0, 0.15);\n",
              "      filter: drop-shadow(0px 1px 2px rgba(0, 0, 0, 0.3));\n",
              "      fill: #FFFFFF;\n",
              "    }\n",
              "  </style>\n",
              "\n",
              "      <script>\n",
              "        const buttonEl =\n",
              "          document.querySelector('#df-44de6410-7fae-4901-8e6f-040492f061a3 button.colab-df-convert');\n",
              "        buttonEl.style.display =\n",
              "          google.colab.kernel.accessAllowed ? 'block' : 'none';\n",
              "\n",
              "        async function convertToInteractive(key) {\n",
              "          const element = document.querySelector('#df-44de6410-7fae-4901-8e6f-040492f061a3');\n",
              "          const dataTable =\n",
              "            await google.colab.kernel.invokeFunction('convertToInteractive',\n",
              "                                                     [key], {});\n",
              "          if (!dataTable) return;\n",
              "\n",
              "          const docLinkHtml = 'Like what you see? Visit the ' +\n",
              "            '<a target=\"_blank\" href=https://colab.research.google.com/notebooks/data_table.ipynb>data table notebook</a>'\n",
              "            + ' to learn more about interactive tables.';\n",
              "          element.innerHTML = '';\n",
              "          dataTable['output_type'] = 'display_data';\n",
              "          await google.colab.output.renderOutput(dataTable, element);\n",
              "          const docLink = document.createElement('div');\n",
              "          docLink.innerHTML = docLinkHtml;\n",
              "          element.appendChild(docLink);\n",
              "        }\n",
              "      </script>\n",
              "    </div>\n",
              "  </div>\n",
              "  "
            ]
          },
          "metadata": {},
          "execution_count": 91
        }
      ]
    },
    {
      "cell_type": "code",
      "source": [],
      "metadata": {
        "id": "pf7Gw0KtrYV7"
      },
      "execution_count": null,
      "outputs": []
    },
    {
      "cell_type": "markdown",
      "source": [
        "**Impact on Economy**"
      ],
      "metadata": {
        "id": "yJgxsTQBNSQ9"
      }
    },
    {
      "cell_type": "code",
      "source": [
        "query_2017_orders = '''select SUM(price) as PR1 from `target_db.order_items` as item left \n",
        "join `target_db.orders` as ord on item.order_id = ord.order_id where DATE(ord.order_purchase_timestamp) between '2017-01-01' and '2017-08-31'''\n",
        "client.query(query_2017_orders)\n"
      ],
      "metadata": {
        "colab": {
          "base_uri": "https://localhost:8080/"
        },
        "id": "2TSHSb2orZjb",
        "outputId": "67094fb4-7158-4018-9f87-5d43f44a542a"
      },
      "execution_count": null,
      "outputs": [
        {
          "output_type": "execute_result",
          "data": {
            "text/plain": [
              "<google.cloud.bigquery.job.QueryJob at 0x7fa10f6465d0>"
            ]
          },
          "metadata": {},
          "execution_count": 92
        }
      ]
    },
    {
      "cell_type": "code",
      "source": [
        "query_2018_orders = '''select SUM(price) as PR1 from `target_db.order_items` as item left \n",
        "join `target_db.orders` as ord on item.order_id = ord.order_id where DATE(ord.order_purchase_timestamp) between '2018-01-01' and '2018-08-31'''\n",
        "df_2018_orders = client.query(query_2018_orders)\n",
        "df_2018_orders"
      ],
      "metadata": {
        "colab": {
          "base_uri": "https://localhost:8080/"
        },
        "id": "W59jM4TJrZmC",
        "outputId": "884617c1-491b-4301-c58e-8f3b1f48b250"
      },
      "execution_count": null,
      "outputs": [
        {
          "output_type": "execute_result",
          "data": {
            "text/plain": [
              "<google.cloud.bigquery.job.QueryJob at 0x7fa10b5e6290>"
            ]
          },
          "metadata": {},
          "execution_count": 93
        }
      ]
    },
    {
      "cell_type": "code",
      "source": [],
      "metadata": {
        "id": "QW0PxpmbrZo6"
      },
      "execution_count": null,
      "outputs": []
    },
    {
      "cell_type": "markdown",
      "source": [
        "![query_01.JPG](data:image/jpeg;base64,/9j/4AAQSkZJRgABAQEAeAB4AAD/4RE8RXhpZgAATU0AKgAAAAgABAE7AAIAAAAmAAAISodpAAQAAAABAAAIcJydAAEAAABMAAAQ6OocAAcAAAgMAAAAPgAAAAAc6gAAAAgAAAAAAAAAAAAAAAAAAAAAAAAAAAAAAAAAAAAAAAAAAAAAAAAAAAAAAAAAAAAAAAAAAAAAAAAAAAAAAAAAAAAAAAAAAAAAAAAAAAAAAAAAAAAAAAAAAAAAAAAAAAAAAAAAAAAAAAAAAAAAAAAAAAAAAAAAAAAAAAAAAAAAAAAAAAAAAAAAAAAAAAAAAAAAAAAAAAAAAAAAAAAAAAAAAAAAAAAAAAAAAAAAAAAAAAAAAAAAAAAAAAAAAAAAAAAAAAAAAAAAAAAAAAAAAAAAAAAAAAAAAAAAAAAAAAAAAAAAAAAAAAAAAAAAAAAAAAAAAAAAAAAAAAAAAAAAAAAAAAAAAAAAAAAAAAAAAAAAAAAAAAAAAAAAAAAAAAAAAAAAAAAAAAAAAAAAAAAAAAAAAAAAAAAAAAAAAAAAAAAAAAAAAAAAAAAAAAAAAAAAAAAAAAAAAAAAAAAAAAAAAAAAAAAAAAAAAAAAAAAAAAAAAAAAAAAAAAAAAAAAAAAAAAAAAAAAAAAAAAAAAAAAAAAAAAAAAAAAAAAAAAAAAAAAAAAAAAAAAAAAAAAAAAAAAAAAAAAAAAAAAAAAAAAAAAAAAAAAAAAAAAAAAAAAAAAAAAAAAAAAAAAAAAAAAAAAAAAAAAAAAAAAAAAAAAAAAAAAAAAAAAAAAAAAAAAAAAAAAAAAAAAAAAAAAAAAAAAAAAAAAAAAAAAAAAAAAAAAAAAAAAAAAAAAAAAAAAAAAAAAAAAAAAAAAAAAAAAAAAAAAAAAAAAAAAAAAAAAAAAAAAAAAAAAAAAAAAAAAAAAAAAAAAAAAAAAAAAAAAAAAAAAAAAAAAAAAAAAAAAAAAAAAAAAAAAAAAAAAAAAAAAAAAAAAAAAAAAAAAAAAAAAAAAAAAAAAAAAAAAAAAAAAAAAAAAAAAAAAAAAAAAAAAAAAAAAAAAAAAAAAAAAAAAAAAAAAAAAAAAAAAAAAAAAAAAAAAAAAAAAAAAAAAAAAAAAAAAAAAAAAAAAAAAAAAAAAAAAAAAAAAAAAAAAAAAAAAAAAAAAAAAAAAAAAAAAAAAAAAAAAAAAAAAAAAAAAAAAAAAAAAAAAAAAAAAAAAAAAAAAAAAAAAAAAAAAAAAAAAAAAAAAAAAAAAAAAAAAAAAAAAAAAAAAAAAAAAAAAAAAAAAAAAAAAAAAAAAAAAAAAAAAAAAAAAAAAAAAAAAAAAAAAAAAAAAAAAAAAAAAAAAAAAAAAAAAAAAAAAAAAAAAAAAAAAAAAAAAAAAAAAAAAAAAAAAAAAAAAAAAAAAAAAAAAAAAAAAAAAAAAAAAAAAAAAAAAAAAAAAAAAAAAAAAAAAAAAAAAAAAAAAAAAAAAAAAAAAAAAAAAAAAAAAAAAAAAAAAAAAAAAAAAAAAAAAAAAAAAAAAAAAAAAAAAAAAAAAAAAAAAAAAAAAAAAAAAAAAAAAAAAAAAAAAAAAAAAAAAAAAAAAAAAAAAAAAAAAAAAAAAAAAAAAAAAAAAAAAAAAAAAAAAAAAAAAAAAAAAAAAAAAAAAAAAAAAAAAAAAAAAAAAAAAAAAAAAAAAAAAAAAAAAAAAAAAAAAAAAAAAAAAAAAAAAAAAAAAAAAAAAAAAAAAAAAAAAAAAAAAAAAAAAAAAAAAAAAAAAAAAAAAAAAAAAAAAAAAAAAAAAAAAAAAAAAAAAAAAAAAAAAAAAAAAAAAAAAAAAAAAAAAAAAAAAAAAAAAAAAAAAAAAAAAAAAAAAAAAAAAAAAAAAAAAAAAAAAAAAAAAAAAAAAAAAAAAAAAAAAAAAAAAAAAAAAAAAAAAAAAAAAAAAAAAAAAAAAAAAAAAAAAAAAAAAAAAAAAAAAAAAAAAAAAAAAAAAAAAAAAAAAAAAAAAAAAAAAAAAAAAAAAAAAAAAAAAAAAAAAAAAAAAAAAAAAAAAAAAAAAAAAAAAAAAAAAAAAAAAAAAAAAAAAAAAAAAAAAAAAAAAAAAAAAAAAAAAAAAAAAAAAAAAAAAAAAAAAAAAAAAAAAAAAAAAAAAAAAAAAAAAAAAAAAAAAAAAAAAAAAAAAAAAAAAAAAAAAAAAAAAAAAAAAAAAAAAAAAAAAAAAAAAAAAAAAAAAAAAAAAAAAAAAAAAAAAAAAAAAAAAAAAAAAAAAAAAAAAAAAAAAAAAAAAAAAAAAAAAAAAAAAAAAAAAAAAAAAAAAAAAAAAAAAAAAAAAAAAAAAAAAAAAAAAAAAAAAAAAAAAAAAAAAAAAAAAAAAAAAAAAAAAAAAAAAAAAAAAAAAAAAAAAAAAAAAAAAAAAAAAAAAAAAAAAAAAAAAAAAAAAAAAAAAAAAAAAAAAAAAAAAAAAAAAAAAAAAAAAAAAAAAAAAAAAAAAAAAAAAAAAAAAAAAAAAAAAAAAAAAAAAAAAAAAAAAAAAAAAAAAAAAAAAAAAAAAAAAAAAAAAAAAAAAAAAAAAAAAAAAAAAAAAAAAAAAAAAAAAAAAAAAAAAAAAAAAAAAAAAAAAAAAAAAAAAAAAAAAAAAAAAAAAAAAAAAAAAAAAAAAAAAAAAAAAAAAAAAAAAAAAAAAAAAAAAAAAAAAAAAAAAAAAAAAAAAAAAAAAAAAAAAAAAAAAAAAAAAAAAAAAAAAAAAAAAAAAAAAAAAAAAAAAAAAAAAAAAAAAAAAAAAAAAAAAAAAAAAAAAAAAAAAAAAAAAAAAAAAAAAAAAAAAAAAAAAAAAAAAAAAAAAAAAAAAAAAAAAAAAAAAAAAAAAAAAAAAAAAAAEphYmFkZSwgRGhhbmFuamF5IChESSBTVyBQRSBRQVFDIE1CRCkAAAWQAwACAAAAFAAAEL6QBAACAAAAFAAAENKSkQACAAAAAzY5AACSkgACAAAAAzY5AADqHAAHAAAIDAAACLIAAAAAHOoAAAAIAAAAAAAAAAAAAAAAAAAAAAAAAAAAAAAAAAAAAAAAAAAAAAAAAAAAAAAAAAAAAAAAAAAAAAAAAAAAAAAAAAAAAAAAAAAAAAAAAAAAAAAAAAAAAAAAAAAAAAAAAAAAAAAAAAAAAAAAAAAAAAAAAAAAAAAAAAAAAAAAAAAAAAAAAAAAAAAAAAAAAAAAAAAAAAAAAAAAAAAAAAAAAAAAAAAAAAAAAAAAAAAAAAAAAAAAAAAAAAAAAAAAAAAAAAAAAAAAAAAAAAAAAAAAAAAAAAAAAAAAAAAAAAAAAAAAAAAAAAAAAAAAAAAAAAAAAAAAAAAAAAAAAAAAAAAAAAAAAAAAAAAAAAAAAAAAAAAAAAAAAAAAAAAAAAAAAAAAAAAAAAAAAAAAAAAAAAAAAAAAAAAAAAAAAAAAAAAAAAAAAAAAAAAAAAAAAAAAAAAAAAAAAAAAAAAAAAAAAAAAAAAAAAAAAAAAAAAAAAAAAAAAAAAAAAAAAAAAAAAAAAAAAAAAAAAAAAAAAAAAAAAAAAAAAAAAAAAAAAAAAAAAAAAAAAAAAAAAAAAAAAAAAAAAAAAAAAAAAAAAAAAAAAAAAAAAAAAAAAAAAAAAAAAAAAAAAAAAAAAAAAAAAAAAAAAAAAAAAAAAAAAAAAAAAAAAAAAAAAAAAAAAAAAAAAAAAAAAAAAAAAAAAAAAAAAAAAAAAAAAAAAAAAAAAAAAAAAAAAAAAAAAAAAAAAAAAAAAAAAAAAAAAAAAAAAAAAAAAAAAAAAAAAAAAAAAAAAAAAAAAAAAAAAAAAAAAAAAAAAAAAAAAAAAAAAAAAAAAAAAAAAAAAAAAAAAAAAAAAAAAAAAAAAAAAAAAAAAAAAAAAAAAAAAAAAAAAAAAAAAAAAAAAAAAAAAAAAAAAAAAAAAAAAAAAAAAAAAAAAAAAAAAAAAAAAAAAAAAAAAAAAAAAAAAAAAAAAAAAAAAAAAAAAAAAAAAAAAAAAAAAAAAAAAAAAAAAAAAAAAAAAAAAAAAAAAAAAAAAAAAAAAAAAAAAAAAAAAAAAAAAAAAAAAAAAAAAAAAAAAAAAAAAAAAAAAAAAAAAAAAAAAAAAAAAAAAAAAAAAAAAAAAAAAAAAAAAAAAAAAAAAAAAAAAAAAAAAAAAAAAAAAAAAAAAAAAAAAAAAAAAAAAAAAAAAAAAAAAAAAAAAAAAAAAAAAAAAAAAAAAAAAAAAAAAAAAAAAAAAAAAAAAAAAAAAAAAAAAAAAAAAAAAAAAAAAAAAAAAAAAAAAAAAAAAAAAAAAAAAAAAAAAAAAAAAAAAAAAAAAAAAAAAAAAAAAAAAAAAAAAAAAAAAAAAAAAAAAAAAAAAAAAAAAAAAAAAAAAAAAAAAAAAAAAAAAAAAAAAAAAAAAAAAAAAAAAAAAAAAAAAAAAAAAAAAAAAAAAAAAAAAAAAAAAAAAAAAAAAAAAAAAAAAAAAAAAAAAAAAAAAAAAAAAAAAAAAAAAAAAAAAAAAAAAAAAAAAAAAAAAAAAAAAAAAAAAAAAAAAAAAAAAAAAAAAAAAAAAAAAAAAAAAAAAAAAAAAAAAAAAAAAAAAAAAAAAAAAAAAAAAAAAAAAAAAAAAAAAAAAAAAAAAAAAAAAAAAAAAAAAAAAAAAAAAAAAAAAAAAAAAAAAAAAAAAAAAAAAAAAAAAAAAAAAAAAAAAAAAAAAAAAAAAAAAAAAAAAAAAAAAAAAAAAAAAAAAAAAAAAAAAAAAAAAAAAAAAAAAAAAAAAAAAAAAAAAAAAAAAAAAAAAAAAAAAAAAAAAAAAAAAAAAAAAAAAAAAAAAAAAAAAAAAAAAAAAAAAAAAAAAAAAAAAAAAAAAAAAAAAAAAAAAAAAAAAAAAAAAAAAAAAAAAAAAAAAAAAAAAAAAAAAAAAAAAAAAAAAAAAAAAAAAAAAAAAAAAAAAAAAAAAAAAAAAAAAAAAAAAAAAAAAAAAAAAAAAAAAAAAAAAAAAAAAAAAAAAAAAAAAAAAAAAAAAAAAAAAAAAAAAAAAAAAAAAAAAAAAAAAAAAAAAAAAAAAAAAAAAAAAAAAAAAAAAAAAAAAAAAAAAAAAAAAAAAAAAAAAAAAAAAAAAAAAAAAAAAAAAAAAAAAAAAAAAAAAAAAAAAAAAAAAAAAAAAAAAAAAAAAAAAAAAAAAAAAAAAAAAAAAAAAAAAAAAAAAAAAAAAAAAAAAAAAAAAAAAAAAAAAAAAAAAAAAAAAAAAAAAAAAAAAAAAAAAAAAAAAAAAAAAAAAAAAAAAAAAAAAAAAAAAAAAAAAAAAAAAAAAAAAAAAAAAAAAAAAAAAAAAAAAAAAAAAAAAAAAAAAAAAAAAAAAAAAAAAAAAAAAAAAAAAAAAAAAAAAAAAAAAAAAAAAAAAAAAAAAAAAAAAAAAAAAAAAAAAAAAAAAAAAAAAAAAAAAAAAAAAAAAAAAAAAAAAAAAAAAAAAAAAAAAAAAAAAAAAAAAAAAAAAAAAAAAAAAAAAAAAAAAAAAAAAAAAAAAAAAAAAAAAAAAAAAAAAAAAAAAAAAAAAAAAAAAAAAAAAAAAAAAAAAAAAAAAAAAAAAAAAAAAAAAAAAAAAAAAAAAAAAAAAAAAAAAAAAAAAAAAAAAAAAAAAAAAAAAAAAAAAAAAAAAAAAAAAAAAAAAAAAAAAAAAAAAAAAAAAAAAAAAAAAAAAAAAAAAAAAAAAAAAAAAAAAAAAAAAAAAAAAAAAAAAAAAAAAAAAAAAAAAAAAAAAAAAAAAAAAAAAAAyMDIyOjEwOjE4IDAwOjE5OjE5ADIwMjI6MTA6MTggMDA6MTk6MTkAAABKAGEAYgBhAGQAZQAsACAARABoAGEAbgBhAG4AagBhAHkAIAAoAEQASQAgAFMAVwAgAFAARQAgAFEAQQBRAEMAIABNAEIARAApAAAA/+ELOGh0dHA6Ly9ucy5hZG9iZS5jb20veGFwLzEuMC8APD94cGFja2V0IGJlZ2luPSfvu78nIGlkPSdXNU0wTXBDZWhpSHpyZVN6TlRjemtjOWQnPz4NCjx4OnhtcG1ldGEgeG1sbnM6eD0iYWRvYmU6bnM6bWV0YS8iPjxyZGY6UkRGIHhtbG5zOnJkZj0iaHR0cDovL3d3dy53My5vcmcvMTk5OS8wMi8yMi1yZGYtc3ludGF4LW5zIyI+PHJkZjpEZXNjcmlwdGlvbiByZGY6YWJvdXQ9InV1aWQ6ZmFmNWJkZDUtYmEzZC0xMWRhLWFkMzEtZDMzZDc1MTgyZjFiIiB4bWxuczpkYz0iaHR0cDovL3B1cmwub3JnL2RjL2VsZW1lbnRzLzEuMS8iLz48cmRmOkRlc2NyaXB0aW9uIHJkZjphYm91dD0idXVpZDpmYWY1YmRkNS1iYTNkLTExZGEtYWQzMS1kMzNkNzUxODJmMWIiIHhtbG5zOnhtcD0iaHR0cDovL25zLmFkb2JlLmNvbS94YXAvMS4wLyI+PHhtcDpDcmVhdGVEYXRlPjIwMjItMTAtMThUMDA6MTk6MTkuNjg4PC94bXA6Q3JlYXRlRGF0ZT48L3JkZjpEZXNjcmlwdGlvbj48cmRmOkRlc2NyaXB0aW9uIHJkZjphYm91dD0idXVpZDpmYWY1YmRkNS1iYTNkLTExZGEtYWQzMS1kMzNkNzUxODJmMWIiIHhtbG5zOmRjPSJodHRwOi8vcHVybC5vcmcvZGMvZWxlbWVudHMvMS4xLyI+PGRjOmNyZWF0b3I+PHJkZjpTZXEgeG1sbnM6cmRmPSJodHRwOi8vd3d3LnczLm9yZy8xOTk5LzAyLzIyLXJkZi1zeW50YXgtbnMjIj48cmRmOmxpPkphYmFkZSwgRGhhbmFuamF5IChESSBTVyBQRSBRQVFDIE1CRCk8L3JkZjpsaT48L3JkZjpTZXE+DQoJCQk8L2RjOmNyZWF0b3I+PC9yZGY6RGVzY3JpcHRpb24+PC9yZGY6UkRGPjwveDp4bXBtZXRhPg0KICAgICAgICAgICAgICAgICAgICAgICAgICAgICAgICAgICAgICAgICAgICAgICAgICAgICAgICAgICAgICAgICAgICAgICAgICAgICAgICAgICAgICAgICAgICAgICAgICAgIAogICAgICAgICAgICAgICAgICAgICAgICAgICAgICAgICAgICAgICAgICAgICAgICAgICAgICAgICAgICAgICAgICAgICAgICAgICAgICAgICAgICAgICAgICAgICAgICAgICAgCiAgICAgICAgICAgICAgICAgICAgICAgICAgICAgICAgICAgICAgICAgICAgICAgICAgICAgICAgICAgICAgICAgICAgICAgICAgICAgICAgICAgICAgICAgICAgICAgICAgICAKICAgICAgICAgICAgICAgICAgICAgICAgICAgICAgICAgICAgICAgICAgICAgICAgICAgICAgICAgICAgICAgICAgICAgICAgICAgICAgICAgICAgICAgICAgICAgICAgICAgIAogICAgICAgICAgICAgICAgICAgICAgICAgICAgICAgICAgICAgICAgICAgICAgICAgICAgICAgICAgICAgICAgICAgICAgICAgICAgICAgICAgICAgICAgICAgICAgICAgICAgCiAgICAgICAgICAgICAgICAgICAgICAgICAgICAgICAgICAgICAgICAgICAgICAgICAgICAgICAgICAgICAgICAgICAgICAgICAgICAgICAgICAgICAgICAgICAgICAgICAgICAKICAgICAgICAgICAgICAgICAgICAgICAgICAgICAgICAgICAgICAgICAgICAgICAgICAgICAgICAgICAgICAgICAgICAgICAgICAgICAgICAgICAgICAgICAgICAgICAgICAgIAogICAgICAgICAgICAgICAgICAgICAgICAgICAgICAgICAgICAgICAgICAgICAgICAgICAgICAgICAgICAgICAgICAgICAgICAgICAgICAgICAgICAgICAgICAgICAgICAgICAgCiAgICAgICAgICAgICAgICAgICAgICAgICAgICAgICAgICAgICAgICAgICAgICAgICAgICAgICAgICAgICAgICAgICAgICAgICAgICAgICAgICAgICAgICAgICAgICAgICAgICAKICAgICAgICAgICAgICAgICAgICAgICAgICAgICAgICAgICAgICAgICAgICAgICAgICAgICAgICAgICAgICAgICAgICAgICAgICAgICAgICAgICAgICAgICAgICAgICAgICAgIAogICAgICAgICAgICAgICAgICAgICAgICAgICAgICAgICAgICAgICAgICAgICAgICAgICAgICAgICAgICAgICAgICAgICAgICAgICAgICAgICAgICAgICAgICAgICAgICAgICAgCiAgICAgICAgICAgICAgICAgICAgICAgICAgICAgICAgICAgICAgICAgICAgICAgICAgICAgICAgICAgICAgICAgICAgICAgICAgICAgICAgICAgICAgICAgICAgICAgICAgICAKICAgICAgICAgICAgICAgICAgICAgICAgICAgICAgICAgICAgICAgICAgICAgICAgICAgICAgICAgICAgICAgICAgICAgICAgICAgICAgICAgICAgICAgICAgICAgICAgICAgIAogICAgICAgICAgICAgICAgICAgICAgICAgICAgICAgICAgICAgICAgICAgICAgICAgICAgICAgICAgICAgICAgICAgICAgICAgICAgICAgICAgICAgICAgICAgICAgICAgICAgCiAgICAgICAgICAgICAgICAgICAgICAgICAgICAgICAgICAgICAgICAgICAgICAgICAgICAgICAgICAgICAgICAgICAgICAgICAgICAgICAgICAgICAgICAgICAgICAgICAgICAKICAgICAgICAgICAgICAgICAgICAgICAgICAgICAgICAgICAgICAgICAgICAgICAgICAgICAgICAgICAgICAgICAgICAgICAgICAgICAgICAgICAgICAgICAgICAgICAgICAgIAogICAgICAgICAgICAgICAgICAgICAgICAgICAgICAgICAgICAgICAgICAgICAgICAgICAgICAgICAgICAgICAgICAgICAgICAgICAgICAgICAgICAgICAgICAgICAgICAgICAgCiAgICAgICAgICAgICAgICAgICAgICAgICAgICAgICAgICAgICAgICAgICAgICAgICAgICAgICAgICAgICAgICAgICAgICAgICAgICAgICAgICAgICAgICAgICAgICAgICAgICAKICAgICAgICAgICAgICAgICAgICAgICAgICAgICAgICAgICAgICAgICAgICAgICAgICAgICAgICAgICAgICAgICAgICAgICAgICAgICAgICAgICAgICAgICAgICAgICAgICAgIAogICAgICAgICAgICAgICAgICAgICAgICAgICAgICAgICAgICAgICAgICAgICAgICAgICAgICAgICAgICAgICAgICAgICAgICAgICAgICAgICAgICAgICAgICAgICAgICAgICAgCiAgICAgICAgICAgICAgICAgICAgICAgICAgICA8P3hwYWNrZXQgZW5kPSd3Jz8+/9sAQwAHBQUGBQQHBgUGCAcHCAoRCwoJCQoVDxAMERgVGhkYFRgXGx4nIRsdJR0XGCIuIiUoKSssKxogLzMvKjInKisq/9sAQwEHCAgKCQoUCwsUKhwYHCoqKioqKioqKioqKioqKioqKioqKioqKioqKioqKioqKioqKioqKioqKioqKioqKioq/8AAEQgCTQTKAwEiAAIRAQMRAf/EAB8AAAEFAQEBAQEBAAAAAAAAAAABAgMEBQYHCAkKC//EALUQAAIBAwMCBAMFBQQEAAABfQECAwAEEQUSITFBBhNRYQcicRQygZGhCCNCscEVUtHwJDNicoIJChYXGBkaJSYnKCkqNDU2Nzg5OkNERUZHSElKU1RVVldYWVpjZGVmZ2hpanN0dXZ3eHl6g4SFhoeIiYqSk5SVlpeYmZqio6Slpqeoqaqys7S1tre4ubrCw8TFxsfIycrS09TV1tfY2drh4uPk5ebn6Onq8fLz9PX29/j5+v/EAB8BAAMBAQEBAQEBAQEAAAAAAAABAgMEBQYHCAkKC//EALURAAIBAgQEAwQHBQQEAAECdwABAgMRBAUhMQYSQVEHYXETIjKBCBRCkaGxwQkjM1LwFWJy0QoWJDThJfEXGBkaJicoKSo1Njc4OTpDREVGR0hJSlNUVVZXWFlaY2RlZmdoaWpzdHV2d3h5eoKDhIWGh4iJipKTlJWWl5iZmqKjpKWmp6ipqrKztLW2t7i5usLDxMXGx8jJytLT1NXW19jZ2uLj5OXm5+jp6vLz9PX29/j5+v/aAAwDAQACEQMRAD8A+jLn/U/8DX/0IUlLc/6n/ga/+hCkoAKKKKACq2oX0WnafcXlySsNvG0rkdlUZP8AKrNc/wCNz/xROs/9eM3/AKLNVBc0khSdlc8ovPjlrb3UhsNPsI7fPyLMru+PchgP0qD/AIXf4l/589L/AO/Un/xyvOK7/wCFPge38W6tPc6qrNp9jt3Rg485znC59MAk49vWvqKmHwtGDnKOiPKjUqzlZMsf8Lv8S/8APnpf/fqT/wCOUf8AC7/Ev/Pnpf8A36k/+OV6lZXnge91O68MCx0+G5tnMJtJrZFEnunGG/n7V5L8VvA9v4S1aC50pWXT77dtjJz5LjGVz6YIIz7+lclF4apP2cqdm9vM2n7WMeZSuWP+F3+Jf+fPS/8Av1J/8co/4Xf4l/589L/79Sf/ABysbwR4a0jW9P1y+12S9WHS7dZ9tm6BmHzZHzAjt7Vu2fw/8P6xJ4fvtJu9SXTNUuZLaWO4KCZGVGbIIG3HyehredPCQk04bf5XM4yrSV0yP/hd/iX/AJ89L/79Sf8Axyj/AIXf4l/589L/AO/Un/xys3w/4N0/Vdb8S2dxNcrHpMUzwGNlBYoxA3ZU56dsVf8AEfw0g03wrpWtaXPcTJMsRvY5GUmPfjDLgDAzkc5ocMGpKDjqHNWavcf/AMLw8S/8+el/9+pP/jldd4A+Ktx4k1oaVrFrDDPKpaGS3yFYgZKkEnsCc57V5h4+8OWnhXxQdN0+SeSEQJJunYFssOegA/Spvhhx8SNK+sv/AKKelVw2Hlh3UhHpdDhVqKoot9T6ZByKKan3RTq+aPTCoZby2gkEc1xFG7dFdwCfwqavLrex0O58Z+K9S8TRPLHp9xC0cg80+VndzhOcfKOowMV04eiqvM23ouiu90v1Mqk3C1up6S2oWaKS93AoDFSTIBg+n1qdXV1DIwZSMgg5BrybwgvhnxJc6lpuqo13JPqUtzaxqsy5Qj7xK4wP94ium+FDM3gOEMxIWeQDJ6DNb4jBqjFu7umt13vt9xnTrObXn+h2lFcXqus6jN4uudKXXIdCSGJGtvNgRvtZYcnc/HB4wOa0NT1nU9K8DveahHFFqpURIkZDK0rHapH6HFYvDTXLqryt+P8AXS9jT2q18jpKK4qHWtau/h9ezx3ATW9Nd0uCI1O5ozk8YxyvoKt6h4gubx/DkGjT+U+qOJpGCq2IVXc45B9cUfVZ3tdbtfcr/dbYXto2udVRXntnrN9qGo6ml140g0owX0kENs8VvkoDwfmGT6fhXoKAqihm3MBgtjGfeorUHRaTf5/qioVFPYWisrW/E2leHREdYuHt1lzsbyXdSR2yoIz7UaJ4m0rxEJTo9w9wsWN7eS6KCe2WAGfap9jU5Pacrt3toPnjzct9TVooorIsKKKKACiuO8XfEGz8N3kNlCUmu/NUXEbq48uMjO7IGD24Fcz8R/Gl3LZaY3hy9li0+8R3+0RBo2kKttK5OGGMe2c130cBWquOllLq/wCvuOeeIhBPrY9Xorz/AOE+v6prGm30OqTSXK2rp5U8pyx3ZypY9cYB/H6V0HjPV7vRtFjnsnWHzLhIpblo/MFuhPMm3vj+tZVMLOFf2F9So1Yyp+06HQUVxyX+t2mkapcpq9vq9mlk81tqEaxhklAPylV+UjvnFVdS8bRx/D6K6staszrBhhLKskbPvJXf8nryeMcVSwlSTSjrrbr/AJA60Urs7uiuW8a61qWn6daW2hOBqV2xKZUNhEUs5wQR2A/Gode8R3Ungaw1XR7n7NLeSwL5gRX27jhhhgRwf5VMcLOSi/5nb+v66DdWKbXY6+iuPi1HWNJ8T/2Re6ouqJPZSXCuYEjeBl6ZC8EH3FUfCeq3usW2nz3fjWE3Mx3SaeIrcO2CcrgDdyB9ar6pLlc+ZW+fW/l5dbC9sr2tr8v8zvqKKxNZ8YaJ4fult9Xunt5HXcuYJGDD2IUg1zQpzqPlgrvyNJSUVeTsbdFZ+ja5Ya/aNdaVK80Abb5jROgJ9twGfwrQpSjKL5ZKzGmmroKKKKkYUUVyPiS4vdY8S23hfTrmSzieA3V9cRHDiLO0Ip7En+f1zrSp+0la9u/oROXKrnWCWMyGMSKXHJUNyPwp1ecWnhfw9ceML7w8mleR9jtlmS9juJBNuO3nOcZ5+ntXS+F729ju9Q0PVpjc3OnMhjuW6zROCVJ/2hgg1vVw8YxvB30T1VtH13ZEKjbs0dFRXL+L9Zu9NvNMtYb5NLtrt2WbUHiDiIgZVeflGfU1Vudc1vRfD873E1tqMktxHDp16oAWbzDjLKpwMc9OtTHCzlGMk1rt99vT8bjdWKbXY7KiuctLfxPp2q2wur9dXsplYTuYI4WtiBkEYPzAnjHJrJ0nxrFJ4IuJ9Q1qzXVlSfYryRq+QW2fJx7duaFhpSV4NPba/W/l5B7VLSSsdzRXn974h1I2nhYPriaYuo27vdXTxxYyEBB+YYHJ7Y61Pqeo6na6RYf2b4pW/e81OO2N5FBCwRSDlcKCp5wfWr+pz0u1r69G128ifbx10/L/ADO5orko9V1bSNVutH1W9S9d7GS6tLsQrG2V6qyjg465qtceINTj+E0Ospc41Boo2M3lryTIAflxjp7VP1Wbas1q0l8x+2jr5fodtRXPaRql5deMtZsZ5t1tbRQNEm0DaWXLcgZP41l+IdYvIvGqaaPEUeiWf2ETb5I4iGfeRjLj09+1THDSlPkv0v17X7DdVKPN52O1oqjo286XE0mqLqu7JF2qoA4z22ccdKm1C/t9MsZLy8LrBEMuyRs5UeuFBOKxcXzcq1NLq12WKK5ux+IHhvUr2K0sb557iVtqIttLkn/vn9a6SnUpVKbtOLXqKMoy1i7hRRRWZQUUVW1H7Z/Zlz/ZgjN55beT5hwu/HGaaV3YT0QzU9Y0/RoEm1S7jtY3bYrSHqcZx+lWLa5hvLWO5tZFlhlUOjr0YHoa8H02x8SePNQOk3epF/sCsxN0+QhztPTJJz3rQ8K3fiqz8aWvh6C9MiafMyyQNJiLYOG9yMHj0OOK9qeVxjBpVFzLV9rHDHFtyXu6M9soqhr0jw+HdRkhdo5EtpGV1OCpCnBBrkfDXiO7s/Al62pzSXN7ZRq8byMWaUSqGj5PJ5bb+FeZTw8qkOePdL7zrlUUZWZ3tFeZ6bq+sWPgueCS/ll1GXV/sC3MzmQxZIBIznpzitt4Lzwt4h0hI9Vvr+01GU280d7L5pV9uVZT26HI6VrLCOLa5tdbedtSFWTV7f0zsaK8nGoqNH1a+k8U30OrW97MtraC+LbsN8i+SScg9OmK0ta1LPiyzi17U9T02B9KSV47GSVcTFuchAfft2rT6jK9r9+j6du5P1hWvY9GorO0FbcaLC1ld3V3A+WSa7dmkbnvuAP51Nql5PYafJc21m960Y3GGNgGYd8Z6n2rhcHz8q/yN+b3bluiuQ8NePh4o1Braw0e5RY+ZppHAWMe/v6CuvqqtGdGXLNWYoTjNXiFFFFZFhRRRQAUUUUAFFFFABRRRQAUUUUAFFFFABRRRQAUUUUAFFFFABRRRQAUUUUAFFFFABRRRQAUUUUAFFFFABRRRQAUUUUAFFFFABRRRQAUUUUAFFFFABRRRQAUUUUAFFFFABRRRQAUUUUAFFFFABRRRQAUUUUAFFFFABRRRQAUUUUAFFFFABRRRQAtz/qf+Br/AOhCkpbn/U/8DX/0IUlABRRRQAVz/jf/AJEnWf8Arxm/9FmugrE8XW0t54T1S3t1LyzWkqIo7sUIAq6ek16ky+FnyrXrfwL8RWtnfX2i3cixSXhWS3LHG9gCCv1xgj6GvJWUqxVgQwOCCOlCsVYMpIIOQR2r7CvRVam4PqePTm4S5kfQjfCSz1Pxpf67r1wZoZrgyQ2kJKjHGN7dfwGPrXJ/HDX7O4utP0KxdZGsdzzlTnYxACpn1wCT9RXCf8Jz4p+xfZf7ev8Aycbceec49N3X9awmYsxZiSScknvXHRwlSNRTqyvy7I1nWi4uMFud78N9ZtNG0LxVJdSWXmvZL5FveFStww3fLtJ+btwPWuifxdpk1x4P15b22tbSzdorvSoGRfs7lSvmLGOdvP5fjXj9FbzwsZzc29/8rERquKsetWzaV4VuPFWsS+INLvk1OKVLSCzuBJKxdiRuUfdxmrdz4003T9Q8N273dvd6ZdaWtpqMccqv5ecYLY6FTn8M141RU/U4yd5O/wDw1h+2a2R23xZvrLUPHTzabdw3cH2eNRLBIHUkA8ZHFVfhh/yUjSvrL/6KeuTrsvhVazXHxCsZYkLJbrI8jAcKCjKP1IqqsFSwsoX2T/IUZOVVPzPpFPuinUifdpa+RPYCvIZPGcXhHxz4mWewa8W8nQYEgUAKG65BzndXr1ZOoeFdD1W7NzqGl2887ABpGXlsepHWuzCVqVJyVWN0109bmFaE5JODs0eXaH8Q9C8OtctpfhySJrmQu5NyCQOyj5eFHYV2Xwm/5ESP/r4k/nWr/wAIJ4Y/6Att+R/xras7K20+0S1sYI7eCP7sca4A7104rFYepTcaUWm2rtu+1/NmdGjUjJObVkc1rttrE11dQXGhW2v6dMAbdWkjja3OMEHd155yOay/+EV1+fT/AA/pUtx5EVjuuJrtSsgSQH92gVuWwD1IxXf0Vyxxc4RSilp/lb0/D1NXRi3ds5PQtB1XR/FF+13OdQstRhEktwyJHiUcYKD1XuBVfwh4X1DStduptTUfZrRGttOO4HMTOXJ4PHUDnFdpRSeKqNSWmqS+7/gaAqMU15HBafp+q6VfaoZfCKakLi/kninNxADtJ4+8cjpn8a7uNmaJGdNjFQWQnO0+madRUVqzqu7Vvv8A8yoQUNEynqulWetabLY6jEJYJRgg9QexB7EetGlaVZ6LpsVjp0QigiGAB1J7knuT61corPnly8l9OxfKr36hRRRUDCiiigDF1/wrp3iL7Ob0PG0EwlDwhQzkdmJByPavN/F/xBtJpp9Ht/D9nNbWsrIDdAkbgSCVVcbec969iqM2sBJJgjJPUlBXdhsVGk17RcyW2trHPVpOa912vvoeXeBfiLAb210R9Gt7KOeQIjWeQoc9ypyTn1zXoWvDVvskcmirDM8cgMttKQBPH3UMeh96vrbQKwZYYwR0IQcVJU169OdX2kIW7pu9yqdOUYcspX/A4GHw7qc0ut3UGjR6PFd6c9utjHOjedKc4c7flX0qxqnhN5vhzFY2ml2/9qLBCrBVQNuBXd8/Tse9dtRT+uVOZNdGn16fMXsI2aOPvPD+tap4we/S8bS4LS3WC1kEccxk3cudpzj05GayZPCWsr4UuNAe3+1wxalHLBJvRRLCTluM8YOePfivRqKI42pGySWlunb8e/3g6EWchZeF30DxFef2LYJ/ZuoWpVirKDBKoOByclW9s81U8KWeq6Pp+n2d14PXzofle9FxBkZJy3XPANd1RUvFzlFqSTvbv0+Y/YxTutArN13w/p3iOw+yapD5iBgyspwyH2Pb0rSormjKUJKUXZo1aUlZkVrawWVrHbWkSwwxKFREGAoqWiik227sYUUUUgCuN8QSN4b8aW/iSWNn024tvsd48aljCd25ZCB26D/IrsqRlV0KuoZWGCCMgitaVT2crtXT0ZE48y0OJ1iDQZ9atPFFl4jt7CWHH2iSOZWFxGB93bnr0HQ/TIFaPhcTalqup+IZoXhhvfLitEkBDeUmfnI7bicgVoR+FdAiuftEei2Ky5yGFuvB9Rxwa1q3qYiLhyRu9La22vexnGm+a7/pmJ4gXVxLA+n2UGp2RVkubCUqpkz0IZuOPQ1zUHg/UrjR9S2W0OlNJeRXdlYebvSFk65K8Dd6DgV6BRU08VOnHlil/Tv6fhcqVJSd2c7aXHibUdUtzdaemkWUKsZ1M6TNcEjgLgfKAec8Gs3R/CjweA7izvdMg/tJ0nC7lRmyxbb83TuO/FdpRS+syStFJbbX6X8/MPZJ6t3OButC1WG38KuNGGonTbd0ubYzRgAlAAMscHn0z0qfV7TWNQ0ywaz8M/Y5LLUo7j7KtxCPMUA5IIOBzgetdvRWn1yV03FaevVt9/Mn2K11/L/I5W10jU9Z1ybVtatl05VtHtLe2EolcbvvOxHH0ArI/sTxFP4Wh8KS6ZFHbxsqNqQuVKGNX3ZCfeycYxXoNFJYuaeiWlrb6W26/ncbop9TjjDrekeMtVvrLQ5NQtruOFUdbqKPGxcHhjmodRstWl8WQaw3hkX0TaeIXt3uIf3Um8nGWODgdx6129FJYpp35Ve1uu1rd/yD2Kta/n0/yKWkSTSacn2jTf7MZSQLYOjBR65XirpAIIIyD1Boormk7u5qlZWMbR/CekaFqF3eadarHNdNknrsH91fQZ5x/gK2aKKc5ym+aTuwjFRVkFFFFQMKrajZ/wBo6Zc2Zlkh8+Nk8yM4ZMjqKs0U02ndCaurHhureC/EHgeK31DT755JpiYnNkHBTjOPcHH6Vr+Ffhxqc97pmv3uomMySfaJkyyzeoG71PfpwTXrdFerLNa0ocul3u+67HIsHTUr9OxU1W1e+0e8tISokngeNSx4BKkDNcvF4JuRcaE8lxCIrOCOO+jUnExj+aPHHOGz1xxXZ0VwU686atE6JU4yd2chH4MuJNC1CyuLmOK4l1F761miy3ltkFcggfiKsW+ia3qOtWV94kmsQmnlmghsg5DuRjcxbpjsBXT0VTxVR3/rfRi9lE4pPAsv9g3sRa2j1Rr57y0ukByh3ZUE4z7Ec9as3mkeIx4mg1rTxpbS/YBbTRzyyBQ27cSuF6fWusoqvrdRu713/EXsY9Crpp1E2Y/thbVbncci1ZmTHblgDmrVFFcrd3c1WiIoLW3tfM+zQxxea5kfYoG5j1J9TUtFFDbe4wooopAFFFFABRRRQAUUUUAFFFFABRRRQAUUUUAFFFFABRRRQAUUUUAFFFFABRRRQAUUUUAFFFFABRRRQAUUUUAFFFFABRRRQAUUUUAFFFFABRRRQAUUUUAFFFFABRRRQAUUUUAFFFFABRRRQAUUUUAFFFFABRRRQAUUUUAFFFFABRRRQAUUUUAFFFFABdELb5Y4AZST/wACFRfaoP8Anqn51Nc/6n/ga/8AoQpKAIvtUH/PVPzo+1Qf89U/OpaKAIvtUH/PVPzprz27qQZUwfep6bLKkELyzOqRxqWZmOAoHUmgDlL3wb4bvrp7i4s7R5HOWYopJNV/+EB8Lf8APjZ/9+1rqNN1a01ZZmsWdlhcIxeNk5wD0IBxgjmrtX7Sa6snlj2OK/4QHwt/z42f/ftaP+EB8Lf8+Nn/AN+1rtalT7op+0n3Ycsexwv/AAgPhb/nxs/+/a0f8ID4W/58bP8A79rXd1BeXEttbGSC0lu3BGIoWQMfxdgP1oVSo3bm/EOWPY4v/hAfC3/PjZ/9+1o/4QHwt/z42f8A37Wuw0rUY9W0uG+hjkjSYEhJMblwSOcEjt61bpudSLs2wUYtXscJ/wAID4W/58bP/v2tbGj6Lo+iKy6fHbwBjk+WoXP5V0dQxXkE11PbxSbpbfb5q4Py7hkfpUuU5LVsdkiL7VB/z1T86PtUH/PVPzq3WTfeIbayvJLVba7u5YUEk4tot/kqehbkdcHgZPHSlGLk7Id7Fv7VB/z1T86PtUH/AD1T86ZaaxZ310sFrJ5pe2S6R1HytGxIBB/Cqq+KNNa5sYC0ivfTTQQ7l4LxMVYH05HHrVezne1ieZb3Lv2qD/nqn50faoP+eqfnUWn65Y6lHeyW0h8uxneCZ3GAGUAkg+nPWpNKvzqmnR3ogaGOb5og5+Zk/hYjtkc49+eeKhxadmO6F+1Qf89U/Oj7VB/z1T86t0UhlT7VB/z1T86PtUH/AD1T86kF1nUTaeRPxEJfP2fuzkkbd397jOPSp6AKn2qD/nqn50faoP8Anqn51bqjqeprpSwSzxk28kyxSSg/6kscKxHpuIBPbIPTOAB/2qD/AJ6p+dH2qD/nqn51booAqfaoP+eqfnR9qg/56p+dW6KAKn2qD/nqn50faoP+eqfnVuigCp9qg/56p+dH2qD/AJ6p+dW6KAKn2qD/AJ6p+dH2qD/nqn51S1XxJb6XfJZJaXl/eNEZjb2cQdkjzjexJAAzwBnJwcA4NMl8W6Yui2OpWxmvE1FglnDBGTLOxBO0KcYICsTuxjBzijpcDQ+1Qf8APVPzo+1Qf89U/OqMHirS5NIuNQuJJLNLWXybmK4QrJDJxhCozkncuMZzuGM5pbDxNZar4dOs6XFd3VtvdBGtuyysySGNh5bYYEMp4ODxR5gXftUH/PVPzo+1Qf8APVPzrN0/xXb6hrSaUdP1K0uXhadftVtsXYpAJzk92FbtAFT7VB/z1T86PtUH/PVPzq3RQBU+1Qf89U/Oj7VB/wA9U/Omapqa6dHCFjM9xcyiGCFTguxBPXsAAST2APXpV6gCp9qg/wCeqfnR9qg/56p+dW6hu5pLe2aSG2kunXGIomUM30LED8zQtXYCL7VB/wA9U/Oj7VB/z1T86bpGppq+mpeRRSQqzOhjlxuUqxUg4JHUHoau05JxdmJO6uVPtUH/AD1T86PtUH/PVPzq3UMd5BLezWkcmZ4FVpEwflDZ2n8dp/KizYyL7VB/z1T86PtUH/PVPzq3WXf6/BY3ptEtrq8uEjEskdrFvMaEkAtyOuDgDJODxTjFydkGxZ+1Qf8APVPzo+1Qf89U/OorTW7G/uYIbSQym4tvtMbBeCmQPwOT0qu/ijTY7i3hkeRWubx7OMlePMU4I+melV7ObdrE8yte5d+1Qf8APVPzo+1Qf89U/Oo7DWbPUZ76K2ck2MvkzMwwA2MnBp2k6kNWsBexRNHBKxMDMeZI+z47A9R7YPGcCHFxdmVcd9qg/wCeqfnR9qg/56p+dW6KQFT7VB/z1T86PtUH/PVPzqQ3WNRW08iY7ojJ5wT92MEDaW/vc5x6A1PQBU+1Qf8APVPzo+1Qf89U/OrdUdW1NdJtkup4y1t5ipPID/qVPG8juASM+gye1AD/ALVB/wA9U/Oj7VB/z1T86t0UAVPtUH/PVPzo+1Qf89U/OrdZen6zJqd3ILewkFnHI8X2pnUBmQlWwuc4yCM+1UotptdBN2LP2qD/AJ6p+dH2qD/nqn51boqRlT7VB/z1T86PtUH/AD1T86t0UAVPtUH/AD1T86PtUH/PVPzqW7ufsls03kTThcZSFdzY9QO+PQc+gNJeXkFhZSXd3J5UES7ncgnaPoOaBXRH9qg/56p+dH2qD/nqn51b60UDKn2qD/nqn50faoP+eqfnVuigCp9qg/56p+dH2qD/AJ6p+dW6gN5At+tkZP8ASHjMqpg8qCATnp1IoDYj+1Qf89U/Oj7VB/z1T86t0UAVPtUH/PVPzo+1Qf8APVPzqpB4itbj7HsimH2y6ltUyBw0e/JPPT92cfUVrUExkpbFT7VB/wA9U/Oj7VB/z1T86t0UFFT7VB/z1T86PtUH/PVPzq3VTUdRi0y3jmnV2WSeOABAM5dwoPPbJoE2km2H2qD/AJ6p+dH2qD/nqn51booGVPtUH/PVPzo+1Qf89U/OrdNkfy42fazbQTtUZJ9hQBW+1Qf89U/Oj7VB/wA9U/OpUuVayW5kR4VMfmMsi4ZBjOCPUUttcxXlrFc2z74ZkDxtjG5SMg0CuiH7VB/z1T86PtUH/PVPzq3RQMqfaoP+eqfnR9qg/wCeqfnVuoJbnyruGEwTMJc4lRMopAzhj1GfXGPfpQBH9qg/56p+dH2qD/nqn51booAqfaoP+eqfnR9qg/56p+dW6KAKn2qD/nqn50faoP8Anqn51bqC2uvtMtyn2eeLyJfL3SptEnyg7l9V5xn1BoAj+1Qf89U/Oj7VB/z1T86daajaX093DaTCSSym8i4UAjy32q+3n/ZdTx61ZoAqfaoP+eqfnR9qg/56p+dW6KAKn2qD/nqn50faoP8Anqn51booAqfaoP8Anqn50faoP+eqfnVuigCp9qg/56p+dH2qD/nqn51booAqfaoP+eqfnR9qg/56p+dW6KAKn2qD/nqn50faoP8Anqn51booAqfaoP8Anqn50faoP+eqfnVuigCp9qg/56p+dH2qD/nqn51booAqfaoP+eqfnR9qg/56p+dW6KAKn2qD/nqn50faoP8Anqn51booAqfaoP8Anqn50faoP+eqfnVuigCp9qg/56p+dH2qD/nqn51booAqfaoP+eqfnR9qg/56p+dW6KAKn2qD/nqn50faoP8Anqn51booAqfaoP8Anqn50faoP+eqfnVuigCp9qg/56p+dH2qD/nqn51booAqfaoP+eqfnR9qg/56p+dW6KAKn2qD/nqn50faoP8Anqn51booAqfaoP8Anqn50faoP+eqfnVuigCp9qg/56p+dH2qD/nqn51booAqfaoP+eqfnR9qg/56p+dW6KAKn2qD/nqn50faoP8Anqn51booAqfaoP8Anqn50faoP+eqfnVuigCp9qg/56p+dH2qD/nqn51booAiuf8AU/8AA1/9CFJS3P8Aqf8Aga/+hCkoAKKKKACiiigDG0X/AJDGu/8AX2n/AKJStmiijoAVzPixLJr2xbULixVVjk2waon+jSkkfxdFcds54JwK6apFGUGa0pz5JcwpK6scFeTLPoXh9pI47bSS8gmS+ZpYQRkR724zGeSpbj7vtW14eubHStDuZ5tUsv7P+0t5MkZKQRAgfIjMcEbs4wcc4HSulorWddSjy209fO/bfzIULW/r+vQ4Ox1Jbr4XzQ6JeJLeQxHzEt33SRqZDk4U5B27sd/Sn6PFEJb2Tw3e6YWOnuPs+mo20yceW7nJAYcjn5jn2ruaMY6VTxC96y3d/wCtAUXpfocf4cTw8bjTW0yTGpiE/aRCcyMdvzfaO+d397nPSmafYeHdM8b6hFPa6daXDNA9krxojElSCY89TuHOO9dnRik8Q229dVbfzv2EqdlYK5HW7qws9bupk1Z9D1ARLl5wphvFAyPlb75HI+Uhh+VddRWNOfI7v+vzNGro5Cz1VLPWLTUtcEelpeaVGv70+WiSK5ZkyehwwIB56+lZA0y41GDSYoT9nuJjqF1avKpGxjMskTEdR/Cfoa9GordYnld0v6s1+pHJ3ZwD2Uln4H8Y2NplngV41YdXItY8n6nk/jWh8QZIf+FValJGxWH7MjK0ZIwu5eQRz09K65lDKVYAgjBB71j3HhizufC8ugSTXAsnG1drDdGgYEIpI6DAAzniuerN1Lt9bflYrlsrLz/E5jwsNC/4WHP/AMIKbM6UdPb+0jp7AwfafMXy87fl8zb5u7+LG3Pal+GHh3Sf+Eds9akso5dTE90qXco3yRr58g2qx+6uP4RgfjXf9KKjt5fqx21ueZaVrPgXSfi5eR6RqOg2cl3ZLFKttNChmuvPbKsAfmk56Hmo2TwzJrWrr4umjj8THUm+wsp/01Ycjyfso5bbtxnYMZ37u9eo0YpRXKl5X/F3G9b+dvyseTeLFsZvHGrR+LrrRraPyYRpL6uGG1NnzNbtuAEvmbs7fn4Ttiuu1yOZPhPcxX9wby5/svY8/llDNJsADbTypLYODyCa6sgHqKqX+mxai1uLl3MUMomMQI2yMvK7vUA4OPUCmtFYd9bliEMIIxJ9/aN31xWN4unhh0MC6iSSGSeONzM7LFGC33pMdUHcHg9DxW5RVxlyzUibe7Y4HR2gNr4ntbW9jWyWGNkk0qBljjLIwZo0Bb0GdpwcVd8JSWK63NBp8enP/owZ7nSZD5LYbAEkfIV+pBySRmuxoxjpXRLEcylpv5+XoZqnZLyCvIpJdFs/GvmBtP1XVZNYA2Fmt9YtgZMYA5aWBeuPkQx+vf12jHOe9ci0kpGr1i0eQeKtUsdM0D4naXf3cUGoX7yTWlo7DzbiM2UK70Tqy5RgSOBtOcYo1PRtN1Lx1eyahYW9y58RWduWliDExNYJuTn+FsDI6HvXr+Oc0U27qPlb8Lf5Dvo/O/4nk+n+NNO8OeCNF0j+1NP0zUr1J44bm+lSOO1gSZ13ncRnaMBU7n0AJFjWmsbDSvB1/wCF9asU0WwuJYZNWeQTQxBonQyuwO0ndkZJA3Nz6V6hRU201JsrJHE/Dq2hW58R3thdy3+n3moI9veyzeb9q228SvIG6FS4YDb8vGAAAKtfDghfCExJwBquokk/9fs1dZRVX0svIb13OY8IE6tLf+J5ORqThLPP8NpGSIyP98l5Po49K6eiikBWi1G0m1K4sIp0a7tkSSaIfeRXztJ+u1vyNWaqwaZaW2pXd/FFi6vAizSEklggIUewGTwO5PrVqgDn9W48b+H2f/V+XdKuf+em1SPx2h/1qDxelo01gb+4s441LkRakmbWU4HDHICsP4c578VualpsWpwxpKzxvDIssMsZAaNx0Iz7ZBHcEireM9ea0pz5JKXYTV1Y8/upRL4X0YrFHbaT9rkW4W4kaW32jcEJbgmItjGcDG3PFbXhuex0zS764OpWP9nC4yjQEpbwZABVWJxgnng4BJFdNR06VtKvzRcbfj53+/zIULNM4XS9UW6+HuowaDeRzajGLl1jgkDSKDM5BAHPIOR+FO8PxWv9oGTQL3TN/wBicPBYI3znjY0uScMDn73zHJruKMY6U3iF7yS3/rt9wKD0v0OL8NroJbSjDJjXQhN2IjmZn2HzBP3xu/vd9uO1LDYeHtO8fXgvbXTrWSSO3ks/NRELSbn3FM9WztzjnpXZ0YpPENyb11Xfzv2F7PSwVymuXGn22uyStqsmg34gXFzLs8m6QEkLhuHKnPAww3cHmuro69axpz5Hf+v1NGro42z1QQappWr64semxXOmvEXk/dxrJ5itjn7u4AkA/TrWZLYPqq6csZMRvb+/ntZHGMZVmjfH1Ab6V6L1ordYnld4r+tf8zP2d932/DQ4a1sJ7HQvFdjA2+6jtQu9Oskpt8lvqWJP40/xnJH/AMKN1aS0bEX9huY2Q9B5PGK7brWJdeFbK78KX/h15bhLC9ikhwjDdCjjlUJBwBk4yDjp0FYzqc8nJ9bfgaRSjZdv+B/kcr4bGgf8LEgPgU2jWh06b+2DYMDH52+PyvMxx53+tzn5sZz2p3w18O6TNYzazcWMU+pQ6xqIhuZRveEfapVIQn7gIJyFwCST1r0JVCqAO1LUX/r53DpZ/wBaWPMYtZ8DaP8AGTdYahoNjc3FjPFeGGaGN5Lkzx4V8HJk+9weetN1BPDMniDX18byxx6ybsDSmJ/0tYPLTyzZjls7t2dgzuzmvUKMVK0S8r/nf/gegNXbff8Ayt/XmeV+MBYv44uU8X3GjxWH2GH+zW1xSIt2X8wxNkKJs7c4+bG3HFdVPG8Hwlmj1K8N+yaQyyXLxshm/dH5ircgn35zXVEZ61U1HTotTiiiuXfyUlWR41IAl28hW9s4OO+OeMgq3uuPcpOzT7DtOEq6Xai4z5ohQPnru2jP61Zooqm7u5KVlYjuLeG6t3guYkmhkG145FDKw9CD1rm/BGk6fa6bJdW1jbw3BurqIypEobYJ3AXI5wABx7Cuooq41HGDguonFNp9jkvB+kWEkE2oy2ySXaahdeXNJ8zRjzXGFz90cngetZCfZPsqElP+Et/tHkZ/0j/Xcj18ryv+A4r0SjHOe9brEvmcn+f4endE+z0seZz6ZY3N/I9xaQyPJc6mHZkBLBeVB9cHkeh5rvNAdpPDemPIxZ2tIizMcknYOa0KKmrXdSKi1t/wRqFpc3r+NgrnvHOnQX/hC/M1pHcSwws8RaMMyHHJX0OPSuhorlauhyipRcX1OSvbjQIPB8x0SKxmsXmRJhauFhQsVBaQx9gMEjuODVXwu8C6nrtvYT2UloLaKRBp8XlwBj5gYqNxHYZIOOPUV2+MdKOnSk43uZqk1KMu3kcj4Q0i2g8G2OoWdsh1KTTwBcN8zklRhdx5xkDjoKydJOji/wDC4sWh/tQyt9vwf3xfyJN3m987s43e+OK9ErJt9ASLUIbq5v7y8NtuNvHcMhWIkYJyFBY4JGWJ61X2rmTocsIxj0/4Gv4HG2Uay34+3Xun22uDUCSXRjdkeZwq4OTGUwOBtwfrWprWneHrXxxbXWtWmnRQXFpLuluo0CyTB0xktwWxn3612mOc96MZ61MVa3l/lYt0E4uL8unZ3AEEAjkdsVy3iL7AfEliPEfkDSfs0mz7VjyfP3LjdnjO3djPv3rZvfD+j6lcefqGl2d1NgL5k0Cu2B2yRVyC3htrdILeJIoYwFSNFAVQOgA7U7XNJRlJOL2/rp/wTzqEab/Ynh/7fs/s/wDte7LednZs/f43Z7dM549a6fwkbfGp/wBl7f7KF1/omz/V42Lv2dtu7OMcZzXRUUdb/wBdDOFHkad/wMHWNROqeCr278PTPMzRusbxAhuDhsA854NZ+j/2QPE9qPCZgNt9lf7b9lPyZyvl78ceZnd1+bGc111AGOlFtblypuTTb/ry7HJeDdIsJLeXUZbZJbyO/uvLmk+Zox5rjC5+6OTwPWsKQaYbeD7Z5J8R/wBsR+eG/wBft+0jHv5ezbj+Hp3r0qihKzXl/wAD/IzlQThy+v4/qedaqkc2taumsXen2t35w+xSXat5yR7RsMGD/ezwvOevatnVdPg1Hxro9vqSC4j/ALPnMiHIWQho/vL3GecGusxRSUbW/rpYp0b81+rv+N/+AR29vDaW0dvbRrFDEoVEQYCgdAKy/FH9kf2JL/bv2PysN5X2vbt37TjG7vVu/wBF0zVXRtT061u2jBCGeFXKj2yKms7K10+2W3sLeK2hUkrHEgVRnrwKJLmTTNNb2srf10/4JzejHS9f+H1taL9l1HybGNXi+WTy5BHwCOcNms/S/sSfDedfCotV1UaeguFtAvnCQLg7gOd33sZ5zXd0Yx0qpe85PuYxoWUbvWKte3p92x51BHYfYdQk0i90zb/ZUwngsEbL/L8rS8nDjn73zHJqKOwtLTWI5rW2ihkTUNPCuiAFd6fPj/e7+vevSsY6UVKVpX9PwdweHTjb16d1Y8/kbT4PEZfdaXt22oDClmi1CHLYwOpeMDt8q7fWvQKMc570U4q0bGsYcsm+4Vy3i6ay+26fbaklikLiRxPqWWt0Ix8pTIVmOTjJ4wcV1NHXrWtOfJLmLkrqxwFoYZ/AMUd5exx28WoSIHmhYwFFkbakik5WPGByePlrc8HS2z2t6llBbxQpcYDWcxktnO0EmPgAD1A4BzXR0dOlazr88ZK27vuQoWafYr6h9j/sy6/tXyfsPkv9p+0Y8vy8HduzxtxnOeMV558M9V8If2v4o0Xw9faP5M+qmS1sbKWPbJF9lgDMiKeV3BskDGQa9Lorni7N+at+Kf6Gj2S8zzHwbpHgzQviFr9n9g0TTtZGpB9Mh8mKKfyGtYsmEYDbSfNzt4zu96x7SK3udcmGqanpNj4rXV2KPPG51HyxP8iRgNloWiwMKNm0knnNezY5z3oxznvRfVPsrfdb/IHrfzPGLrQ9Kv8AXzJe6da3Dz6nq8crSRBjIqxllVs9QGAYA9Dz1r07wdI83gbQ5ZnZ5H06BmZjksTGuSTWzRUwXLHl9PwVvxE1eXN6/jb8rBRRRTGFFFFABRRRQAUUUUAFFFFABRRRQAUUUUAFFFFABRRRQAUUUUAFFFFABRRRQAUUUUAFFFFABRRRQAUUUUAFFFFABRRRQAUUUUAFFFFABRRRQAUUUUAFFFFAEVz/AKn/AIGv/oQpKW5/1P8AwNf/AEIUlABRRRQAVBex3E1lLHZzCCdhhJSu7Z749anqC9innsZorS4+zTOpVJtm/YfXGRmk9hrcyNKEkPiG6tba7uLqzhhHnG4kMmyYnoGP+zyR0HHSt6srR9MvdLjSCS7tZbdAfljtWR2Y/wARYyNkk5J45rVqhBWH4vgA0J72Oa5intynltDcyRjmRQcqrAN+INblZuvaTe6zp/2S1voLSF8eZ5lsZWJDAjBDrjp6GtKLUakW3ZXJkrxaH63riaQ1rCqRSXN25WJZphEgCjLMzkHAHHQE5IqmPEFzf+Hb65023tzd2jPFKhucopC7tyuFO7gqRwOvOKmvdDu7+Oznnvbf+0bN2KSi0PlOrcFWjLk4xjo2cjPtVqDTZ10m4tbq4ieWcOC8NuI0XcMcLknj3JPvWn7pQXV/Pv8Alb5gr8y7GP4Wt7638OpeLYwteXEEUgeTUJH+0EjJZyU+Q85wAfSrfhPUdW1PSIbjVYLdQ6krNHMWZzuI5TYAOnYmtXTrT7BpdrZ7/M+zwpFvxjdtUDOO3SqWiaVeaRF9le8hnso93koLcrIuWz8z7yDjOPuinOpCfO9L30321M4Rkoxv8zWrEN7eDxhb2tzAIoXgmaForssHAKcvGUGDzx8xxzW3XPrMdR8Z20ttBciGytpo5ZZbd4lLMyYClgN33ScjI9+azpLV3XR/kaS2+4S58TzQpeXcWniXTLGUxXFwZ8SfL99lTaQwX3YHg4FS6zfXdvqGmqIB9jmuo0E0V2UcsQeCmwgr/wACFQ3PhmeZL2zh1BYtMvpWkngMG6Qbvvqj7gAG56qSMnHtPrOj6jqU9qbTUba1htZUmRHs2kbeuepEi8c9MfjWq9jdf8H+r+mhD5tSS/1e7h1lNM0+wjuZntzcbpbjykADBSCQrHuOgP4das6PqQ1fSobwRGEvuV4yc7GVirDPfkHmo4dLlGsw6lc3KSSpZm2dUiKKxLBtwyxx06c/WpNH03+ydNFp5vnYlkk37dv33Z8Yyem7H4VnL2fJZb/Pz/4BXvc3l/wF+ty66h0ZTkBhg4JB/MdKq+Vc2WliOzJvJ41wn2qbaX5/icKe3fBJxz61bornZZgeFdT1fUdFjudUtoMMjFZIZ9zyEMRgrsUL09TTNP8AFRudag067gtYpbhWKLb3qzvGVGSsigDacZ6Fhx1qfTdDu7HT5tNlv45bFkdIQkBSVAxJ5fcQcZP8IqtYeGbu2vdLluNRgki0xWSKKGz8reCm3LHeee/GB7UK9zm/eqMUr+e3l/wSez12/wBQ1O6t7TSkMFndm3mnkutuQADlVCkk4PQ4+vpX1DxVdWsGoXltpa3FjYSGKSVrnY7uMA7V2ngE4ySD14NaulaV/ZkuoP53m/bLtrnG3GzKqNvXn7vX3rlNesb5hqWk6Y1z5d9OH8l9Pdl3MVLMJwdipnkhhnrjqKSvon2/HT/giqOpGDd9bvttrb9Da1TxT9i1G4tLSC3ma1jV5zPdiA8jIVAQdzY55wORzUWr67qX2fR7rQoLeS2vpYsNNOUZg4J2kbGwMY+bOR6VZvfD9w+qz32nXVvC10qrMlzaeeMqMBl+ZcHHHORwOKs6npEl9p9rDBdCG4tJY5opXiDKWX+8oI4PPAI9qFfr3X56lyVR8yXn2+X9Mv2zTvbI13FHFMR86RyF1U+zEDP5CqusamdLtY3jgNxPPMsEMO7bvdvU9hgEk4PApJn1iC0hEENlfXHPms0rWye20bZD+ZqvdWF9rGnJ9sEOnXsE6zQPBIbhVK9CcqmQckEenem/ItydrLe39eRzeqalqi2vitrgvaz28FsY44LkuqE7slGwuM/QV01lq9zJq507U7JLSdoTPCY5/NV0BAbJ2rhgSOORz1qhL4Vuby21db/UkebVEiRnhttixbM9FLHPXuf8Kv2OkXSawdS1S9juplhMEIigMSohILEgs2WJC88DjpQr83kYQjUWv+Xd7/LaxrE4GTXOw+KJpEtryTTxHpd1OIIrjz8yZZtqs0e3AUnvuJ5HFbFvBdJeXT3N2J4JSvkw+UF8kAYI3fxZPPPSseHwxOiW1lJqCvpVrMs0UAgxJlW3KrSbsFQcfwgnA5o1ujafPb3fPt8vl+JLNrt++u3ml6bpSXD2iRu8st15a4cHj7pOePTHuKj1jWr3OpWml2Sy/Y7fdPO1x5ZQspICDadzAc8le3NaNrpX2bXdQ1Lzt32xIk8vbjZsDDrnnO70qnf6DdzXl7Lp2oJax38QjuUkt/M5A27kO4YOOOcjgcVElJxaXmC51q+/lsUYPEj2ml6RaxrDcXk2nx3Ej3l35KhdoGS5DEsTnjHrk1Zm8WIvh+z1O1s3uDdXK23kLIAVcuUOD0OCD6A+tD+GJYlsJLG7gW5tLRbRzc2vmxyooGDt3Ag5yRhu/erN1oT3em2FtLdrvtbqO5aRYQoco27AUH5Qenf8a0lrK/n+F/8AIxgqqhby8t7f5/IS71q70zRJL7VLCKGRZFRY47nemGIAZnKjaATycHAHerOk39zfRyG7tY4SpGySCcTRSg91bAP1yBU2o2093aGO0ujayhgyybA4OD0ZT1B6EZH1qjoehtpU95cSywNLdspdLW38mJdoIyE3Nyc8nPOB6Ule5s+dTVtV8jRtLb7JG0YmmmUuWHnPuK552g9cemc1PRRTNTnH8WG31mGzvLa2iWe4+zoq3qvcKScKzRAcKfZiRkZFSTeJJ/7YubKzsI5/srqsiNdBJ3BAJZIyvzKAepYZwfSq0XhK6iW1txqcX2S1vRdootMSSEOWw77uevUAH1zU+r+GrnV5JI5b+A2sjh1EtoHmgxj/AFUm4bemQSpIzXb/ALPzL/g/18rmT59bfp5/8A6GsHWdfvLXWLfR9D0+K/1GaBrlluLo28UUSsFyzhHOSWwAFOcHJGK3qwdZ0G9udYg1jQtQgsdRiga2c3NqbiKWJmDYKB0OQRkEN3OQa4eq/r+tTXp/X9bGfeePUtvBya5Fpc00w1CPT5rESqrpMbgQOoY8HDEkdAeORni1d+I9U0rQnvNY0aGK8kuktrKztr3zfPaQhU3OUXZyTnhsAE5NQTeBkl8Kw6QNQbzRqUWpT3TRZM0q3Anf5QRtDEEDngY6451/EWi/27pYt0uWtLiGaO4trgIH8qVGDKSp+8MjBGRkE8jrVdPn+Gm342uHXT+t7X/C9jB8NahrF18RNet9bhW1MOnWLLbQ3bTwqWe4y6EqvJAAPyg/L3ABrsq57QfD2oWHiDUdZ1jVIL66v7aCBkt7QwRxiIyEbQXc8+b3J5HvgdDTla+guv8AXYKKKKkYUUUUAFFFFABRRRQAUUUUAFFFFABRRRQAUUUUAFFFFABRRRQAUUUUAFFFFABRRRQAUUUUAFFFFABRRRQAUUUUAFFFFABRRRQAUUUUAFFFFABRRRQAUUUUAFFFFABRRRQAUUUUAFFFFABRRRQAUUUUAFFFFABRRRQAUUUUAFFFFABRRRQAUUUUAFFFFABRRRQAUUUUAFFFFABRRRQAUUUUAFFFFABRRRQAUUUUAFFFFABRRRQAUUUUAFFFFABRRRQAUUUUAFFFFABRRRQBFc/6n/ga/wDoQpKLgjyev8a/+hCigAooooAKhu7uGxs5bq6fZDEu52xnA+nepqgvrpLGxluZI5JUiXcyxrubHfj9aAK1hrEV9cvbNb3NrOqCQRXEe0shONwwSMZ/EelaFczo88Vx4qmktb8atG1pzcgqfI+fiPKALzycYz8vJrpqOgdQqVPuioq5nW/7N/4SaIeJzbjTPsZ+zi7I8ky7zuznjdt24zzjOO9aU4c8rCk7K51lFcJaW321PDNvqSPNbvPdhEnyd8IDmMMD1G0LwfbNbnhWJLb+17O3UR29tqDpDEv3Y1KI2AOwyxOPetalFQT11X+diFO/9eVzfqC0uvtaynyJ4PLlaLEybd+043D1U9jUOsf2Z/Y13/b32X+zfKP2n7Zt8nZ337uMfWuI+G2o+Er7TtY8P6Pd6PcQNf3bLp1tJGym3ZsZEa8bCDjpjmuVaya8r/ijR6JPz/zO7s9QtdQWY2colEEzQSYBG11OGHPpVmvN/AOneDtG8SavY2lnoth4gj1C5EUCRRR3IgOGXaow2zbg8cVg+GooLjUtOa71PR7Pxct/uvQYnOoyYkPmRsN24xFcgHGwLtI6CnH3uXzS/EHpzeTZ7NRXz9d6Pps2mXt1LY273D6f4jmaVowWaSG7/dMT3KZO0/w54xXtf9t2OmWGkLqd0IpdQaO3t9wJMspTIXIHUgHk07f182v0HJW19fwt/ma1FcP4l/sj/hNV/wCE1NmNG+wL9i+3kCA3G9vM+98u/b5eO+M471mTwz3PgHw5BftcBJNaiSIu7rKbcyuI8t94Ex7fes+bT5pfjb/gm3stE7/1a+n5PzPS6pWuqQ3Wq31hGjiWy8vzGYDa29cjHNcv4q0nTNE8PWVrbWcFjoR1GN9UjiTZH5JByWx/CXEe4njGc8ZrAc2y6V4yPgYxi2/0TYbDJQR4HmmLZ/sb8bO+cc0pTa/ry/LzHGkpfP8Azt9/keqUVwfgiHTRr0svh/UNGa0NptntdHjby9+4bXc5Kh8bhg/Mc89Kl+HOg6Z/YFnq72kcmo751W6k+aRF81xtUn7q47Diqvql3uRKCinrtb8UdvUEl15d7Bb+RM/nBj5qplE244Y9s54+hqevPNX1Twfo/wAUdOuje6NZX3l3K38vmxxybise0SHrn0zRKVmhU4Od0jvb26SxsLi7lDMkETSMF6kKMnH5UWV0l9YW93EGVJ4llUN1AYZGfzrznxO2hvrXiT/hK2tTcmzX+xfPPzGPyefI77/M3Z2fNjb7V3fh7/kWdL/684v/AEAUoycm/K36/wCQ5wUYxff/AIBo0VheKLS+u7eBdPs5LplclhHq0tjtGP70YJb6GpvDdtd2ultHf2sltL5hISTUZL04wOfMkAI+nT86tamRr0Vzvj37Z/whN9/Z/nB8x+cYM+YIPMXztu3nPl78Y59KwfC39hf8J0P+EANidFOnP9v/ALNKm3Fx5ieVnb8vmbfNz/FjGe1EdXb+tr/15g9Fc9AqhqurwaQtobhJH+13cdonlgHDOcAnJ6Vx/wAMfDulf8I7aa09lFLqgmulS7lG+SNfPkG1WP3Vx/CMD8a5Wz/4R8x+H/PNqfGX9uQ/2rg/6UH8xt3mfxeX027vlxtx2qU7uK7tfi0TJ2hKXZP8me00VSuNZsLXWbPSri5VL69SR7eEqcyKmNxzjHGR1rz7xD/wjp8UeIP+E8a2Wby4xon2o4fy/K5NtnnzfN3Z2fP932pt21LSuenUV5rfafcatJ8OrPxUjyXMsUov4mYr5j/Zcur4PILdR0PQ1b8W6doOkTeHbHVraxsvCETzieCVAlospUGISD7gTJk+9xu298U5e7JrzsTF8x2Gl6vBqzXwt0kT7FdvaSbwBllAJIwenzCr9eNkwr4K1H+xmjXQj4nb7W2HMQtNq9dpz5W7ZnHy7M/w1u+HoLGPw74ok0LUdJuNKktD5dtoyEWsEgjfeUIJTLDblV6EZPLVDlam5vok/wAE/wBRxV5W7t/m1+h6PRXI/Dzw7pOn+FtI1O1soxqNzpkAnvGG6aUFFOGc8kZAwOgxgYrrq1lHlk0TCXNFS7kAus6ibTyJ+IhL5+z92ckjbu/vcZx6VX1vV4NB0W41O7SR4bcAssQBY5IHGSB3rgdK1nwLpPxcvI9I1HQbOS7slilW2mhQzXXntlWAPzSc9DzWH4o/sA2Hij/hIDa/8JX9ub7MJT/pItvMXyvK/i8rZjdt+XO/Peoi+ZJ+v4Ow5+6peX+Vz2miiimMKKKKACiiigAooooAKKKKACiiigAooooAKKKKACiiigAooooAKKKKACiiigAooooAKKKKACiiigAooooAKKKKACiiigAooooAKKKKACiiigAooooAKKKKACiiigAooooAKKKKACiiigAooooAKKKKACiiigAooooAKKKKACiiigAooooAKKKKACiiigAooooAKKKKACiiigAooooAKKKKACiiigAooooAKKKKACiiigAooooAKKKKACiiigAooooAKKKKACiiigAooooAKKKKACiiigAooooArTf6sf76/wDoQp9Mm/1Y/wB9f/QhT6ACiiigAoopk88dtbyTzuEijUs7HoAOpoAf0ormtEvtQuvFF59tdkhktI5obY8eUpZgM/7RABP1x2rpaOgdQqRRlRmo6x9U8TJpE1xHPbFhCsLqQ/31dmDHGP4QjH39quEJTdoibSV2b1Fcpfaxez61pZsICR9suYBGbgokwSMjcxxwAwPZulWW8WCDSpp7u0WK8ivPsRt/PGwynBH7wgfLtIOSOBnitPYTsrdf87E861OiorDsPEgu4tRWWKAXNhGJXW3ufOjdSCVIfaP7pBBHGKNL127vdMGqX2nJY6e1r9oEhud74wDyoXAGMnOc8dB2l0Zq91sNSTt5m5gZzjmjAznHNc5pni0X19Zwz29vEl8GNuYrsSyAhS2JEAGwlQTwW6Yro6U6cqbtJBGSlsFFca0moDTtb1a31G4E9hdTlIXcNE6JzsKkcAjIyMEVP4j1q7jlsZNOkaOK3iGoXigZ3Qgquw/UM5/4BWiw7ckkxOVr/wBeR1ZGetFc74qidLBb22vbuF2ngjxDOVXa0qqeOnQnmq+ut/Zl5o9qbzUvs800vmmFpJZWxGSB8oLEZ9KUKPOlZ73/AAVxuVjqqOnSsK41GLR/B9/qls13MtvDJMovVkVyVXoQ4DAZHpTZbuLwf4O+13nm3UsaqZMEGS5nkYKACTjLOwA7DI7CsZKzZS1tbqb4GOlFc/pXiG+l13+xtf0yHT72S2N1b/Z7s3EcsasFb5iiEMpZcjGPmGCeareGPFOq+JlhvE0KO00tnlje4lvsybkdlysYTlSV6llPsRyUK5et/Bnhi1vUvLbw9pcN1G+9Jo7ONXVvUMBnPvW3Xnd/4q1bV49DvbKwFpo13rMEcF3HfHzZ495GXiCgBGxx87EgjIHb0SlG3Lp3/RP9SpTk5Wk76fq/8gormNR8U6gmqaha6Do0epJpSq188l55JDMu8RxLsbe+3BwxQfMOeuGah412ReHn0PTm1T/hIEZ7X98IgoEXmAsSDgY69x2B6UX0uJ6bnVUVzd94i1Wyi0uy/si1k13UTJtsxfkQRqgyzmby920Ar0jzlgMd6wtM8X3GkaLq93rERa9k16SytrWS7GwOVXCCRuFQAM2ccAH5c8UX1t/W6X6g9l5/5N/oeg0AY6Vy2leM/t1rrC3Vvarf6TCJ5YrO9FxFIjKxQrJtU87GByoII7jBNnwvr2reIbW31C60WPT9OurVJ4Ha98yYlgDhowmFGCcHcT6gdA+tv61/4YV/6/r1OgoorirDx3f3EenX95oSW2kX939jW5W+DyRyFzGpaPYBsZgACGJ+YZUUdUh7Ha0YzXMXPjL7PoGu6n9g3f2ReNa+X52PNwU+bO35fv8ATB6U7WfE+oWfieHQdH0ZdQuprJrtZJbsQRoFcKQx2sR16gMc9u4XMnbz/wAr/kK618v87fmdLQeetc5f+ItTj1G20nS9Jt7vVXtRd3Mc16YobdM7ceYI2ZiW3AYTnaScVl6trmry6t4UmsNPnhubprpZdPuZ/JXcsR4kYA5UEZBCt2IFDdlf+uwN2O3oAAGAMCuYtvFd5P4fvro6TGmo2F0bS4tmvVWGNxtO8zMo/d7WDZ25x/DniqumfECG80XXLya1hmn0RPMnj0u7F3HKCm5fLk2rk8EEFRgj05p9Lj62OumhjuIJIZ41likUo6OMhlIwQR3FY2meCfC2i3yXukeHNJsbpAQs9tZRxuoIwcMoB6VV0nxZcXFhdX+r2dnb6fBbG6W+sNQF3AyAEsC2xCGA5wARjvVPRPHx1LVdPtb6ztLWPVVY2Xk6is8oIQvsmjCjy22gn5WccEZ6ZaWum/8AX/BDpfodlRRXFPrvi8fEWbSodK0t7BbRZlD6k6tsMpXzP+Pc/Ngfczj/AGqXVLv/AMOHRs7WiuY8R6nqdlr+jQ/Y0/s24vo4vtMWoNHLvKudrReUQycf3xn8Kp+IvHV5ouvXGn2mjRXkdqLIyyvemI5uZXiQKvltnDIM5I4Ptgi1272/L/MOtjs6K4j/AIWI39m2inT7WLV7m8ubMW01+I4Ea3YrI5mKZ2cDBCZJYfL1In/4WBCPCd5qrWsZuLG7WyuIY7pWhjlYqAxmxgR4kVi5XIHUZGKN9v6/q42mtH/X9WOworn7HWdcvtIupU0eyF7GVMAXUi9rcqe6zCLdwM5zH1Hoc1S8Ba34j1nwzBfeILGzUPEXjltbsyPMdxGChiRU6dmP4UdbCOtori9N8fvPr0elajZ2EE88UskUdpqi3UkZjXcUmQKPLbHoXGQRnpnMsvilqFxBbXM/h2CK1mt7C7d01Eu6Q3b+WhC+UMuG6rkDHO7PFNJvb+r/APDB/X5f5o9Hori7vx3f2o1O9/sJH0jSbxra8uftwEqqu3MqR7MMoDZILKeDgGtXxJI2nzadq8BIaO6it5gDxJFK4QgjvhmVh9D6mktUmutvx2Dv5fob9FFYHiS6vLbUdDFgpkkkvGUxeaY1kHkyHDHB4BGeh6dM1cIucrIUnZXN+iufk8VC1027lv7Tyby1uFtmt1mBVnfGzDkD5SGByQMc8cU/TvEE2oSXlrHb2hvreNZESK98yGRWyB+8CZBBByNvp1zV+xqWvbT+v8xcy2N2iuX0TW9am8O3N/qFlbyiFbhkMdyd0jI7AJt8sADAxuyegOOasL4rimvZba2tzIyS28aHfgOJeSRx/CMk/Sm6FRSa3sLnVrnQUVy48axNcb1htzY/avs3m/ax52d2zf5WPu7v9rOOcU7UfGKWd1erDBBLBp7BbhpLsRyE4DMI0IO/APcrk8Cj6vVbtYOeJ01FYVxr142p3FnpWnR3Zgto7kySXPlKyvuwB8rHPycdvUjvp6Zfx6ppdtfQqypcRLIqt1GRnBqJU5RV2NSTdkWqKgvYHurC4gilaB5Y2RZV6oSMAj6VDqFnc3VnHb2129sN6+bIn3yg6hT2J45+tZjZdorjW1a603w74gu7K6kurS1O2ynnbe27GH+Y/eUMeCc8gjtUukagY/EkFpY3d5e2VzBJm4uX3o8qbeYyecckHHy+nQ1PMr2Mvarb+t7f15HW0VgaPJqEfifUrO/v2vFjtoJF/dqioWaTIUDt8o6kn3rDk1S5GtOPt14L4aotuqAn7J5OR8pONm7bngnfu4HanfVL+uwSrJR5md3RVG41vS7W6+zXOo2sM+QPKeZQ3PTjNc7q+p+f4lvbCS8vImtoYvsltZPtkmkfcS2O4AA+98o5zScklcuU0jsKK4+/1HVbv4dJrEF+bOdLFppRHEpZ3C+pyFGQegz6EV09xf2thapNf3MVvGcDfK4UE46ZNVsKNRS+65ZornfEOvQroMVxp1/EIri7itnuopFIjVmAYg9AQM89qr6FfTzanf2FlPdG1Nsk9pPfAyHJLKWGSGKZAIzj24IpX1t/W1/yB1IqSj/X9aHVUVh+G5rxp9Xgv7x7xra98tJHVV48qNsYUAAZY1qW9s8NzdSvM0gnkDIhziMBQMDn1BP40xxlzK/m192hYoornNd8VNoU0rXFtbC2hAYmW9VJpR3MceDux7lckcVcKcqkuWO5TaSuzo6KxLvXL0atc2Gm6bHdPb28dwzy3PlKQxcbfusc/J9PUjuweJJLxNOXSLIXE99bfatk83lLFGMcswVucsBgD1qvYz7fl6i54m9RWJ4RuJ7rQPNuy5lN1cgh33FcTuAufYDH4VtmoqRcJOPYcXdXCis82N5HoCWVvfMt0sSx/anXcc8ZbBzz1655rIs55bDVNUS0u7i9sbO13Sm4kMhScZO1WP8As9R2yOmazcktxczulbc6eiuE0fWpWuNFuILy8vWvmVL9nfdAjvGWCqOgYEdF6DryRW2kmoQeNobe51Bp7ee0nlWARKix7XjC+5OGPJP4CqW9v60VzKNaMo8y8vx0OgorhvEWqXFvqmqA317FPbpEbFbbPkIWH/LUgbRluvmEDGMV1dzrGn6eyR6lf2ttKyhtskoXI9RntSTTVy1UTbXYvUVyuv6tCddtLGe+nt7SS0e4H2RyJLh9yqiqV+Y9ScDr9KptrF9J4Vt2u5rmApqJtblkx9oaMOwAG3OX+7nbk9cUub+vnb8xOrFNrt/lf8jtqK5zw5qaLpuoT3d6/wBht7po4Zb1tsiJheH3YI+YnG75sEe1aTXkOs6fcJompweZjb58JWXyyfbPXFO+hUZqSuaNFcxoFwx1+8tbS7vJrSOBWZdQ3CQSliMqHAbbgdfu56d6saPJqEfifUrO/v2vFjtoJF/dqioWaTIUDt8o6kn3oWpPtF+Njfoquts66lJcmZijxJGsXOFILEt1xk5A6dqydYdtN8RaRfQkhbub7Dcpnh1KsyNj1Vlxn0Y0zXub1FFFABRVHVr+XTrMTQwxSHcAzT3AhjjH95nIOB9ATz0rLg8XRS+H77UTAjNYzeTIsE4kjLfLhhJgDbhwSSBjnjitI0pyV0iXJJ2Z0VFZukajc34k+02sMSqFaOa2uRPFKD6NhTkY5GO45NaROATUyi4OzGnfYKK5Pw34yvPEVzFJFpMA0+ZmUSw34kntiM8XEO0eWeMYDOQeDilXxvu8Mxav/Z/+s1j+y/K8/p/phtvMzt9t23HtnvSUW7W6/qN6XudXRXn8/wARdVF1Mln4etZollvY4nk1MoXNq5DkgQnblRkYJ54OB81S+IZZ7jw/N4kOt39os9rE2kWlo2wiZ0yqsvIldnYDDZXA6Dk1PMrXX9X2+8bVpcr31/Df7ju6K4HxDrbx69pWka7qFxYo2mNdTx6dIyS3NxuRFjjK/OeS52r14zwDU3h+/wBc8QeA5G/tCbTL21u7q2lmeCKScpFI6KO8YfAXJwwyDgc5obSTfr+DsxR1/D8Vc7iiuCOt6q3wM07WUvSuoS6baTT3J2hyGCGVlz8u8qW2j+8RVnwPqD3etaxb2d3qM+lQJAYU1ZZEuY5WDl/llAk2EbMFhjO7bwKuUXGTi+gk7xUu52lFFFSMKKKKACiiigAooooAKKKKACiiigAooooAKKKKACiiigAooooAKKKKACiiigAooooAKKKKACiiigAooooAKKKKACiiigAooooAKKKKACiiigCtN/qx/vr/AOhCn0yb/Vj/AH1/9CFPoAKKKKACobyyt9QtHtbyMSwyY3ISRnnPb6VNSO4jjZ34VQST7Un5gYtj4WsdO159StRszCI1jyx2nJy2Secg4xjtW3WZpmuR6oyeTZXsccib0lmh2oR25z3rTp+QBWbqHh+HVNTtryeQhYYZYmi25Em8FQSfYFv++q0qranqaaVYLM0Uk7ySLDFFHjc7scKMkgD6mrg5KXu7/wCYna2pSsvDf2NdHzdmRtNMjOxj5nZ1IY9eOWJ70y58LrcQ3g+1bZZr4X0MnlAiJwqqAVJ+YYU56cHt1rYs5p57VXu7Y2sp6xFw+PxFT1brVFK99fl3v+ZKjG1v62t+RlW2lXQsryG9ubd3uUKD7Na+UkYwR03Ek892+mKmtdJjg8Ow6RO3nRJai2dsbd4C7Scds1foqHUkykkrGJpOiXmnSwLNfW81vbptQJZBJX4wN77iDgf3Quf0rboqBbndfPbGCZdqBxKU+R/YEdx6HHtmic3N3YklFWRht4YupfttrLqa/wBm3tw80sEdvtkYMeU8zcRg4wcKDjuKnn8J6bfaheXWq21vemdVjiEsIPkIq42qTnuScjHUela32yD7cbPzP9IEfm7MH7ucZz061NV+3qdH/X9IOWNzHfQnl8N2mly3hdrcwkzmPl/LdW5Gep246+9P1fSrq+vLC7sbyK1msndl82Ayq25dpGAy+vrWrRU+1mnf1/HcOVWsZN5pV3qnhu/0zVLqGaS7heISQwGIKGXA+Us2cHnrVabTz4q8HfYdUSayuGCCQhfmhnjYMHXIwwDqGB6EYrfoqG73uUtLHP6V4f1CPXRrPiDUre/vYrdrW3+y2ht4442ZWYlTI5LMUXJzj5eAOc2vDGhf8I54fi0z7R9p8uSV/M2bM75GfGMnpux17VoWl5Bf2qXNpJ5kMmdrYIzzjv8ASpqW4tNzioPAuowLp9gmuQjRtMvku7S1Fj++CqxYRNL5mCozgEICMDJODnp7i21CTWbO4t9QWGxiSQXFoYAxnY42HfnK7cHgA5zT9Q1KLTVtzMrt9ouEt12AcM5wCfaiw1KLUWuxCrr9luGt33gcsADke3NC7L+tl/kJyXNru/8Agv8AzMPUPC+pHVb+60DWIdOTVQovkms/PbcqbN8Tb12NtAHzBx8oOOuZh4Rt4Ljw0bGYwW3h9HjihK7jIph8oDdnjA5zg5roaKOlinruYmv6Fc6ld2Go6TfR2Op2BcQyzW/nxsjgB0dAykg4U8MCCo+lZH/CBSyaNcQXWrLLqD6odVhuxaKFimIAx5ZY7kxuXGc7W65+auyopWW/9dH+aQPX+vVfqzBstCv/AOx9QtdVvrOWa8iaINZWH2eOMFSMhS7MTzk5b6Yq7pWnyaL4Zs9OgZbqWytEgRn/AHYlZECgn720HHvj3qa31KK41S8sEVxJaLGzsQNp3gkY/KrdPv5/pf8AzErPXtf/AIP5GHpl54pmvkTV9E0m0tSDulttWkncHHGENugPP+0K5fwr4U1i80LSotbvUi02zvHu109rFo5zIs7vHvkL4Kg7WACAnA59fRKKOqfYLHF6p4G1C9XV7K01yK10vVp/tMsLWPmTJJ8uQsnmAbCUBwUzycMOMbzaHu8ZR699ox5dg1n5GzrukV927P8As4xj8a0JLjy7qGHyZW80MfMVcqmP7x7Z7US3kEN3BbSSbZrjd5S4PzbRk0lZW8v8rfkDtr5/53/Mx9X0G/m1qPWNA1G3sL8W/wBll+1WhuIpY924ZVXQhlJODu/iOQezh4dme+0S7utSkuZtLMxd5IhmcyIVPTAUDPAweOPetyii2lhvXc5O/wDBL3NrfrBqKRz3GrLqkJltvMjR1VFCOm4b1+TPVTnGMYqTTfCupWsut3V3ru6+1aOJRNaWghFs0alQUVmfI5zhiT15PbqKKfS39bW/JCsr3/r+tTkNP8Dsb/UrvXriwuX1CzaymTTrA2iSxseWkBkcu/YHIwCeOas+H/DeqaRPAl5qtld2lrHsh8vTRDPJxgGWTeQxx/dVMn8q37S5+1RsxgmgZXKFJkweO47EHqCCanoXl/X9XDf+v67GBb3vi1tQRLrQdHiszJh5o9YkeRUz1CG2AJx23D60mqaFqUviWHWdE1K2s5fs/wBluI7qzadZI9+4FdsiFWBJ55HPTiugoo7PsPucv4n8Pa9rd/ZS6bren2NvZTpcxxT6Y87GRQw5YToNuG6Yz71XvvA9xqd9cXt7qsZuLpNOEpitCq7rWdpSQC5ID7sYyduOrV2FQXt19itGn8ie42lR5cCbnOSBwPbOT7A04vl273/r7gOTk8AuiRz2OpQpqMGoXd5DLcWYli23DlniePcCw+7yGU5UH2rWXRdVGgNajV4YdQaUS/aLexVIeCPk8rcSUIGCC+7k/MOMal/qFrpdk93fyiGBCoZyCcFmCjp7kCrNSrJWQ223dnO+F/DEmgzahdXM9pJc6g6NKlhZ/ZYFKgjIjLudxzyxbnA9Kj0XwxqOmaTdaLc6tDPpTRSRWohtGiuIVcn70nmFWIBwCEXsa6aihpPf0EtNjitP8DalBdaQ99rVpJb6RFLBbwWum+QHR49gLnzG+YdcjAPPy9xBB8M/J0qGy/tbd5Vhptlv+zdfsc3mbsb/AOPpj+Hrk13lFVzPXz/S/wDmEfd2/rb/ACR53beFNY1k+IrC7vls9FvtXlae2ksWM1xFhMhJS4ARsEE7G74I7dRr9tJqU+n6ZFE/lm5juZ5Qp2pHEwcDPTJYKMdcZPatyilH3VFdrfh/wwrb+d/xCszWNKn1GaxntLtbWaynMyF4vMViUZMEZHHzev5da06KqMnF3QNJqzOebwsbjTrtL298y+ublbo3KQhVR0xsAQk/KAoGCTnJ55rQ0uwu7RpXvbi2lZwAq21r5KqB9WYkn649q0aKt1ZyVmLlW5kaRpF1pfm2zXkM2ns8jxxG3IkUu5YgvvwQMn+EVS03wfFp0mlOt20h0/zc5THnb87c88bQcCukoo9tU113/wCD/mHKjn7Xw3cWNwUtLy3Wx88zCN7MNMuW3FBJuxjJPVSQDjPQ0s3hy4TULufTry3hivHEkqT2YmZHwAWRtwxkAcEMM8+1b9FP2073/RByoz4dK8rWby/87P2m3ig8vZjbsLnOe+d/THapNI0/+ytGtLDzfN+zxLH5m3buwOuMnFXKKhzk1Z+X4DskFZ+uafdappb2lleiyeQgNIYy+V7rwykZ6ZBzWhRWbV9GDV1YxF0K4uNFudK1W5tZbSWHyY0tLQweWMY7u2e2OnSn6fo13FqEV3qd7FctbQGC3SC28lVBxliNzZY7QOMAelbFFPrchU4q3kUYNN8nXrvUvNz9phii8vb93YXOc55zv9O1ZbeGLgo1kuooulvdfaWh+z/vc+Z5hXzN2Nu7/ZzjjNdFRSsN04tWCsW90O5bVptR0m8htJ7mBYJzLbebkKTgrhlwRk+oPHHFbVFDSe5TipKzMm40CKTwlJoUErRRtam3WVl3EcY3EcZPftWqo2qF64GKWimJRS2M/WtJj1nTjbO/lssiSxuUDBHU5UlT1GRyO4pmm6XcW9/cX+o3UdzdzIsWYoTEiIuSAFLMerEk59K06KVgcU3zMo6fpv2C61CbzfM+23Pn4242fIq468/dznjrV6iimNJLb+r6hXMan4Uur0atFbalFBb6rzNvtPMlU7AuFfcBt46EeuCM109FaU6kqbvEGk1ZmdDpXk6xd35m3fabaKDZsxt2FznOec7+ntWfD4auLGDTW03UI4ruxtjatJLbl0mjODyoYEHKgjDetdDRTVWa6/1awuVWt/X9aGfoelto+li0e4+0t5ssrS7NmS7s54z/ALVaFFFRKTk3J9RpWVkVtRguLrTp4LK6+yTyIVSfZv8ALPrjIz+dZ2kaNe2Fr9iuruznsvLZDHDZtGzE9SWMrZJyc8ZJPWtqioshOKclLqjn9P8ADU9o1hDPfRy2Omkm1hS22NnaVUu24hsAnoFyeTWlJpvmeILfU/Nx5NtJB5e3729kOc57bOmO9XqKfmSqcUuVLTT8Njn73w7dTSagllqMdva6mc3KPb+Y4OwISjbgBlQOobFbsUawwpEn3UUKM+gp9FJKxSik7oydT0eW51O21PT7iG3vbeN4g08HmoyNgkYDKQcgcg+vrVf/AIRp49PtFt73F9a3L3QuZItyvI+7fuQEcHeRjORxzW9RRZCdOLbb6mdpOmS2L3U93crc3V3IJJXSPy0GFCgKuSQAB3JqxqFq97YS28VzLayOPlmiOGQg5B/+t3FWaKfSw1FJWMmx0m6j1ZtS1S8iubkQfZ4xBAYlVN245BZiSSB37dKsQab5OvXepebn7TDFF5e37uwuc5zznf6dqvUUCUIoKxNVt5dS8QaXbJG4gspfts0pXCkhWVEB7nLFjjoF56ituijqX0CiiigDL1rSZNTNnLb3EcM9nN50fnRebGx2lfmXIz14IIwarWegXlpaaiP7V/0q9uBcefHbhQjBUXbtycr8nTOcHrnmt2itFVmo8vT+mS4pu5j6Nob6bfXd5PLbtNdBFZLS28iP5c/Nt3Nljnk57CtcjKkZIyOo7UtFTOTm7yGklschZ+C78eJLDVNW1W0vG04t5E8WnCG7mBQrtmmDkOuDkhUUEhT2qB/AV+YxYR63DHo8eqrqkdv9hJmDi5FwyNL5mCpbdjCAjI5OMHtqKSbTTXQb1OPTwFtct/aWczajJ/qP+fticfe/hz+PtUDeC9fh1LTrnT/EOn+VptlHa20F7pLzCJlXa8q7Z0+Zhxkg4HAPJz29FSko7eX4Xt+YP3nd+f46v8jmtS8N6ldX+m6xZ6lZQa3Z272z3EtgZIJUfaWxH5oZeVBGHOMkHNX9F0FdH0FtPFw08szyyz3DLgySyszu2Ow3McDPAwM1rUU3qrDvZ3OYHgxf+Ff6Z4aN83mabFaiG7EX/LW3KMjlM9NyDK56ZGe9WNE0C+tNau9Z1zUYL7ULmCO2H2W1NvFHEjMwAVnckkuxJLemAK36Kpybbb6i2VgoooqQCiiigAooooAKKKKACiiigAooooAKKKKACiiigAooooAKKKKACiiigAooooAKKKKACiiigAooooAKKKKACiiigAooooAKKKKACiiigAooooArTf6sf76/+hCn0yb/AFY/31/9CFPoAKKKKACoL7H9nXG9JHXymysIy5GOi+/pU9FJ6qw1ozk9EltYtZsrfQtSnvbRrVvtMck5lEONuwnP3G6jaMfTiusooqiQrnfF+l2F4mly3dnbzyHUIIi8kYY7C/K5PY+ldFUqfdFXTm6c1JClHmi49zmPFdhaw6LpljbQrb239p2yCOD92FBk5xtxjqelGv6bY6Vo9tBa20drpbXqNfrCu1THjktj+HIXd7deM11FFaRrySS7O4nBN/K35/5nnd3HZS/bItHEL6I97p6osODAZTOPMCY4xjZnHGffNT+G7O2svEVkbSCOEvNqMbeWuMosq7V+g7DtXegY6UVo8U+Vxt+Plb/gk+zV7/11/wAwopkpkELmBVeUKdiu21WPYEgHA98H6VmfafEX/QK0v/wZyf8AxiuMuUlHf8mYWo2Hh2y8difV7XToEuLTektzGih5hJyQT1fBHvVXxbLYTarqEV2LCCeG1Uwveq0kkpIY/uF3DaQepXJz1HFdN9o8RHrpWl/+DKT/AOMUfaPEX/QK0v8A8GUn/wAYrNxvHl9Tmajd6b2+yzAuok1c+C11AtOtxGzS5YjzCbfJzjqCeo71b16y0uwl0e1vIYLfQkkl82NlCwByMpvHTGS3XjOK1ftPiL/oFaX/AODOT/4xVS/j8S3sSLFb2dm6NuEkGqNnpjBDWxUjnuKuVm211YlGMY21b9H5fnY5lWj/AOEa1D+zWQab/bmJWAYx+RtTrjnZ93OONvtW34c0/T7pNShil02902bywbWzizbo4znGcrk/LkDpj3q1plrrul2rQw6bp8rSSNLLLLqjl5HPVji3Az9ABxVsXHiIdNK0sf8AcSk/+MUklaz7L8kv0FBJNSfn0fVt/qZPgOLRbfTVhsksotURXW6jjCrMoDkfOBzjp1rraxpJNfljeOXR9JdHBVlbUpCGHof3FZ9potxYXS3Nj4U8PW86Z2yRXbKwyMHBFv6U+ljSMlBKMV+DX6HPR/2V5ekmQwnxB/a0X2zP+vz5pzu77emM8dMUXo0tU8QH90NeOoubD/nuXwm3y++M5zjjrmuz+0eIv+gVpf8A4MpP/jFH2jxF/wBArS//AAZSf/GKmKt/Xp/kZShF/wD7L8/x1Lt1qNrYG2W9mET3MohiGCdznoOPpXP67/Zn/CTx/wDCTmAab9jPkfayPJMu75uvG/btx364rT+0+Iv+gVpf/gzk/wDjFBuPER66Vpf/AIMpP/jFN6/15G0pKUba/czmbmKWfwVo0V2Ztj6tEsZdmVzCZiE56j5Me9aviDTdP0rRIILe2jtdMa9ja+WJdqmPuWx2yFz7ZzWl9p8Rf9ArS/8AwZyf/GKPtPiL/oFaX/4M5P8A4xR/nf8AL/Ii0PPa2z8/8zks26w+Kz4UMYg8m22Gy5UL82/Zt9t33e/vWn4VishrTyaReaYYPs2JrfTUbaW3DaznJAbG4c/Mc+1bP2jxF/0CtL/8Gcn/AMYoFx4iHTStL/8ABlJ/8YoWjuKMYq3+T730/rUyPA2j2B0a31J7ZHvRNOFnf5mQea4wpPQY7CuurJ+0+Iv+gVpf/gzk/wDjFZUegyw3S3MXhLw6k6vvWVbohg2c5z9n60LSyLjJQilFfg1+hW1S+8Oad480+4+06bbXQ84Xcm9EcEoNoc9fpmpPE1hoQ8SaTf6va2It5vNWa4uY02Mdg2BmPHY4zW19p8Rf9ArS/wDwZyf/ABikNx4iPXStLP8A3EpP/jFK2hLUXzJ9Xf4X/TMDxGbV9asReSacujmyzbm+GbYvn6hc7cYz2zisnU7KKXTrdLmWPUFi0a9kglKHAAkQoV3c/KMAH2zXam48RHrpWln/ALiUn/xil+0+Iv8AoFaX/wCDOT/4xRZfn+N/8xSjGTd+tuj6Nf5HMG1tLfTtatRILG0FxbMdsRaIExoW3qCPkY/eOR15Na3g6W0aTUIrCC0SJGQ+Zp0u+1kJBzsGMKw/iAz25rR+0+Iv+gVpf/gzk/8AjFILjxEOmlaX/wCDKT/4xTWjHFRi0108n5/5mvRWdaz609yi3un2EUBzueK+eRhxxhTCoPPuK0ao6YyUldHmi3do2rafd2jWNrevqqpLCis94qmQqwlkLZwR/CRjkAHpVvXW0+31y+nna0vbnzkKW8zNDexkBQBbtyWXuAAMkkE16BRiu360uZO34/rb/g+ZDp3vr/Wv+YV558W5fCsGiRTa++kx6pHJE1i94YxMoEyFzGW5HHXFeh0Vws1OB+IMHhzxb8O5dWSLTdbt7UrJDdqiXCxqJV80qwzj5VOcdhVTxI+hjwDZjwU+lL4dGpRjUDpwDWyw8l93kn7u/Zv/ANktnjNek0AADAGBRbX7h3PG57PTX8Pzro99o95o1xrWlILTSIz9kif7Ugk2kEodwK5VemMn71WPA2nWem+MtKOn2sNqZX1uB/JQLujiu0EaHH8KAkKOgycV64AAMAYFFXzaf12S/QNP6+f+f4BRRRUiCiiigAooooAKKKKACiiigAooooAKKKKACiiigAooooAKKKKACiiigAooooAKKKKACiiigAooooAKKKKACiiigAooooAKKKKACiiigAooooAKKKKACiiigAooooAKKKKACiiigAooooAKKKKACiiigAooooAKKKKACiiigAooooAKKKKACiiigAooooAKKKKACiiigAooooAKKKKACiiigAooooAKKKKACiiigAooooAKKKKACiiigAooooAKKKKACiiigAooooAKKKKAK03+rH++v/oQp9Mm/wBWP99f/QhT6ACiiigAqlrF/wD2Xot3fBd5giZ1U9yBwPzq7UF/ZRajp89ncZ8qdCjYPIB7j3pPYa31Mfw/eP8AaDbahJfm8miEw+1oqo4HBMar90ZI4ODyM1v1lWWk3SahFealepdSW8JhhEcHlgAkbmb5jljtHTA9q1apkoKw/F8AGhPexzXMU9uU8tobmSMcyKDlVYBvxBrcrN17Sb3WdP8AslrfQWkL48zzLYysSGBGCHXHT0NaUWo1ItuyuKSvFofreuJpDWsKpFJc3blYlmmESAKMszOQcAcdATkiqY8QXN/4dvrnTbe3N3aM8UqG5yikLu3K4U7uCpHA684qa90O7v47Oee9t/7Rs3YpKLQ+U6twVaMuTjGOjZyM+1WoNNnXSbi1uriJ5Zw4Lw24jRdwxwuSePck+9afulBdX8+/5W+YK/Muxj+Fre+t/DqXi2MLXlxBFIHk1CR/tBIyWclPkPOcAH0q34T1HVtT0iG41WC3UOpKzRzFmc7iOU2ADp2JrV060+waXa2e/wAz7PCkW/GN21QM47dKpaJpV5pEX2V7yGeyj3eSgtysi5bPzPvIOM4+6Kc6kJ870vfTfbUzhGSjG/zNasQ3t4PGFva3MAiheCZoWiuywcApy8ZQYPPHzHHNbdc+sx1HxnbS20FyIbK2mjlllt3iUszJgKWA3fdJyMj35rOktXddH+RpLb7hLnxPNCl5dxaeJdMsZTFcXBnxJ8v32VNpDBfdgeDgVLrN9d2+oaaogH2Oa6jQTRXZRyxB4KbCCv8AwIVDc+GZ5kvbOHUFi0y+laSeAwbpBu++qPuAAbnqpIyce0+s6PqOpT2ptNRtrWG1lSZEezaRt656kSLxz0x+Nar2N1/wf6v6aEPm1JL/AFe7h1lNM0+wjuZntzcbpbjykADBSCQrHuOgP4das6PqQ1fSobwRGEvuV4yc7GVirDPfkHmo4dLlGsw6lc3KSSpZm2dUiKKxLBtwyxx06c/WpNH03+ydNFp5vnYlkk37dv33Z8Yyem7H4VnL2fJZb/Pz/wCAV73N5f8AAX63LrqHRlOQGGDgkH8x0qr5VzZaWI7Mm8njXCfaptpfn+Jwp7d8EnHPrVuiudlmB4V1PV9R0WO51S2gwyMVkhn3PIQxGCuxQvT1NM0/xUbnWoNOu4LWKW4Vii296s7xlRkrIoA2nGehYcdan03Q7ux0+bTZb+OWxZHSEJAUlQMSeX3EHGT/AAiq1h4Zu7a90uW41GCSLTFZIoobPyt4Kbcsd5578YHtQr3Ob96oxSv57eX/AASez12/1DU7q3tNKQwWd2beaeS625AAOVUKSTg9Dj6+lfUPFV1awaheW2lrcWNhIYpJWudju4wDtXaeATjJIPXg1q6VpX9mS6g/neb9su2ucbcbMqo29efu9feuU16xvmGpaTpjXPl304fyX092XcxUswnB2KmeSGGeuOopK+ifb8dP+CKo6kYN31u+22tv0NrVPFP2LUbi0tILeZrWNXnM92IDyMhUBB3NjnnA5HNRavrupfZ9HutCgt5La+liw005RmDgnaRsbAxj5s5HpVm98P3D6rPfaddW8LXSqsyXNp54yowGX5lwccc5HA4qzqekSX2n2sMF0Ibi0ljmileIMpZf7ygjg88Aj2oV+vdfnqXJVHzJefb5f0y/bNO9sjXcUcUxHzpHIXVT7MQM/kKq6xqZ0u1jeOA3E88ywQw7tu929T2GASTg8CkmfWILSEQQ2V9cc+azStbJ7bRtkP5mq91YX2sacn2wQ6dewTrNA8EhuFUr0JyqZByQR6d6b8i3J2st7f15HN6pqWqLa+K2uC9rPbwWxjjguS6oTuyUbC4z9BXTWWr3MmrnTtTsktJ2hM8Jjn81XQEBsnauGBI45HPWqEvhW5vLbV1v9SR5tUSJGeG22LFsz0Usc9e5/wAKv2OkXSawdS1S9juplhMEIigMSohILEgs2WJC88DjpQr83kYQjUWv+Xd7/LaxrE4GTXOw+KJpEtryTTxHpd1OIIrjz8yZZtqs0e3AUnvuJ5HFbFvBdJeXT3N2J4JSvkw+UF8kAYI3fxZPPPSseHwxOiW1lJqCvpVrMs0UAgxJlW3KrSbsFQcfwgnA5o1ujafPb3fPt8vl+JLNrt++u3ml6bpSXD2iRu8st15a4cHj7pOePTHuKj1jWr3OpWml2Sy/Y7fdPO1x5ZQspICDadzAc8le3NaNrpX2bXdQ1Lzt32xIk8vbjZsDDrnnO70qnf6DdzXl7Lp2oJax38QjuUkt/M5A27kO4YOOOcjgcVElJxaXmC51q+/lsUYPEj2ml6RaxrDcXk2nx3Ej3l35KhdoGS5DEsTnjHrk1Zm8WIvh+z1O1s3uDdXK23kLIAVcuUOD0OCD6A+tD+GJYlsJLG7gW5tLRbRzc2vmxyooGDt3Ag5yRhu/erN1oT3em2FtLdrvtbqO5aRYQoco27AUH5Qenf8AGtJayv5/hf8AyMYKqoW8vLe3+fyEu9au9M0SS+1SwihkWRUWOO53phiAGZyo2gE8nBwB3qzpN/c30chu7WOEqRskgnE0UoPdWwD9cgVNqNtPd2hjtLo2soYMsmwODg9GU9QehGR9ao6HobaVPeXEssDS3bKXS1t/JiXaCMhNzcnPJzzgelJXubPnU1bVfI0bS2+yRtGJpplLlh5z7iuedoPXHpnNT0UUzU5x/Fht9Zhs7y2tolnuPs6Kt6r3CknCs0QHCn2YkZGRUk3iSf8Ati5srOwjn+yuqyI10EncEAlkjK/MoB6lhnB9KrReErqJbW3GpxfZLW9F2ii0xJIQ5bDvu569QAfXNT6v4audXkkjlv4DayOHUS2geaDGP9VJuG3pkEqSM12/7PzL/g/18rmT59bfp5/8A6GsHWdfvLXWLfR9D0+K/wBRmga5Zbi6NvFFErBcs4RzklsABTnByRit6sHWdBvbnWINY0LUILHUYoGtnNzam4iliZg2CgdDkEZBDdzkGuHqv6/rU16f1/Wxn3nj1LbwcmuRaXNNMNQj0+axEqq6TG4EDqGPBwxJHQHjkZ4tXfiPVNK0J7zWNGhivJLpLays7a983z2kIVNzlF2ck54bABOTUE3gZJfCsOkDUG80alFqU900WTNKtwJ3+UEbQxBA54GOuOdfxFov9u6WLdLlrS4hmjuLa4CB/KlRgykqfvDIwRkZBPI61XT5/hpt+Nrh10/re1/wvYwfDWoaxdfETXrfW4VtTDp1iy20N208KlnuMuhKryQAD8oPy9wAa7Kue0Hw9qFh4g1HWdY1SC+ur+2ggZLe0MEcYiMhG0F3PPm9yeR74HQ05WvoLr/XYKKKKkYUUUUAFFFFABRRRQAUUUUAFFFFABRRRQAUUUUAFFFFABRRRQAUUUUAFFFFABRRRQAUUUUAFFFFABRRRQAUUUUAFFFFABRRRQAUUUUAFFFFABRRRQAUUUUAFFFFABRRRQAUUUUAFFFFABRRRQAUUUUAFFFFABRRRQAUUUUAFFFFABRRRQAUUUUAFFFFABRRRQAUUUUAFFFFABRRRQAUUUUAFFFFABRRRQAUUUUAFFFFABRRRQAUUUUAFFFFABRRRQAUUUUAFFFFABRRRQBWm/1Y/wB9f/QhT6ZN/qx/vr/6EKfQAUUUUAFR3M/2a2ebypJdgzsiXczfQVJR0oAy7TX4rvUUsjZXtvM6NIvnw7RtGMnr7itSsbQ/9PuLvWG5W4byrbPaFCQD/wACbc30IrZo6AFSp90VFXM63/Zv/CTRDxObcaZ9jP2cXZHkmXed2c8btu3GecZx3rSnDnlYUnZXOsorhLS2+2p4Zt9SR5rd57sIk+TvhAcxhgeo2heD7Zrc8KxJbf2vZ26iO3ttQdIYl+7GpRGwB2GWJx71rUoqCeuq/wA7EKd/68rm/UFpdfa1lPkTweXK0WJk279pxuHqp7GodY/sz+xrv+3vsv8AZvlH7T9s2+Ts7793GPrXEfDbUfCV9p2seH9Hu9HuIGv7tl062kjZTbs2MiNeNhBx0xzXKtZNeV/xRo9En5/5nd2eoWuoLMbOUSiCZoJMAja6nDDn0qzXm/gHTvB2jeJNXsbSz0Ww8QR6hciKBIoo7kQHDLtUYbZtweOKwfDUUFxqWnNd6no9n4uW/wB16DE51GTEh8yNhu3GIrkA42BdpHQU4+9y+aX4g9ObybPZqK+frvR9Nm0y9upbG3e4fT/EczStGCzSQ3f7pie5TJ2n+HPGK9r/ALbsdMsNIXU7oRS6g0dvb7gSZZSmQuQOpAPJp2/r5tfoOStr6/hb/M1qK4fxL/ZH/Car/wAJqbMaN9gX7F9vIEBuN7eZ975d+3y8d8Zx3rMnhnufAPhyC/a4CSa1EkRd3WU25lcR5b7wJj2+9Z82nzS/G3/BNvZaJ3/q19PyfmegX2k6dqmz+07C1vPLzs+0QrJtz1xkHHQflWPa6P4XutVvrCPw7p4lsvL8xmsotrb1yMcVm+KtJ0zRPD1la21nBY6EdRjfVI4k2R+SQclsfwlxHuJ4xnPGawHNsuleMj4GMYtv9E2GwyUEeB5pi2f7G/GzvnHNTKVun9W/LzJWGpz1a36287ff5Hff8In4d/6AGl/+Acf+FH/CJ+Hf+gBpf/gHH/hXM+CIdNGvSy+H9Q0ZrQ2m2e10eNvL37htdzkqHxuGD8xzz0qX4c6Dpn9gWervaRyajvnVbqT5pEXzXG1SfurjsOKrql3uZyw1KKem1undHQ/8In4d/wCgBpf/AIBx/wCFQSeHfDsd7Bb/APCM2L+cGPmrYRlE244Y44znj6Gt2vPNX1Twfo/xR066N7o1lfeXcrfy+bHHJuKx7RIeufTNEmk0Knh4TulH8Dpr3w74asbC4u5fD+mskETSMFso8kKMnHHtRZeHfDV9YW93F4f01UniWVQ1lHkBhkZ4965DxO2hvrXiT/hK2tTcmzX+xfPPzGPyefI77/M3Z2fNjb7V3fh7/kWdL/684v8A0AUovmb8rfr/AJDnh6cYxfLv5ehF/wAIn4d/6AGl/wDgHH/hR/wifh3/AKAGl/8AgHH/AIVB4otL67t4F0+zkumVyWEerS2O0Y/vRglvoam8N213a6W0d/ayW0vmEhJNRkvTjA58yQAj6dPzq0kzL2VP+VfcL/wifh3/AKAGl/8AgHH/AIUf8In4d/6AGl/+Acf+FU/Hv2z/AIQm+/s/zg+Y/OMGfMEHmL523bzny9+Mc+lYPhb+wv8AhOh/wgBsTop05/t/9mlTbi48xPKzt+XzNvm5/ixjPaiKTdv62v8A15g6VNK/KvuOq/4RPw7/ANADS/8AwDj/AMKz9V0rwtpC2huPDunv9ru47RPLsojhnOATkdKxvhj4d0r/AIR201p7KKXVBNdKl3KN8ka+fINqsfurj+EYH41ytn/wj5j8P+ebU+Mv7ch/tXB/0oP5jbvM/i8vpt3fLjbjtSWriu7X4tEyp01CUuVaJ9PJnqf/AAifh3/oAaX/AOAcf+FH/CJ+Hf8AoAaX/wCAcf8AhVm41mwtdZs9KuLlUvr1JHt4SpzIqY3HOMcZHWvPvEP/AAjp8UeIP+E8a2Wby4xon2o4fy/K5NtnnzfN3Z2fP932odlrYtUab6L7juP+ET8O/wDQA0v/AMA4/wDCj/hE/Dv/AEANL/8AAOP/AAri77T7jVpPh1Z+KkeS5lilF/EzFfMf7Ll1fB5BbqOh6Grfi3TtB0ibw7Y6tbWNl4QiecTwSoEtFlKgxCQfcCZMn3uN23vinJKMmvOxMadOX2V9xs6XpXhbVmvhb+HdPT7FdvaSb7KIZZQCSMDp8wrQ/wCET8O/9ADS/wDwDj/wrzEmFfBWo/2M0a6EfE7fa2w5iFptXrtOfK3bM4+XZn+Gt3w9BYx+HfFEmhajpNxpUlofLttGQi1gkEb7yhBKZYbcqvQjJ5aobtTc2tkn+Cf6jjRpuVrLVvp5tfodta+HtFsrlLiy0ewt50ztlitURlyMcEDI4NaNcj8PPDuk6f4W0jU7WyjGo3OmQCe8YbppQUU4ZzyRkDA6DGBiuuraUeVuIU7cqcVa5ALrOom08ifiIS+fs/dnJI27v73GcelV9b1eDQdFuNTu0keG3ALLEAWOSBxkgd64HStZ8C6T8XLyPSNR0Gzku7JYpVtpoUM1157ZVgD80nPQ81h+KP7ANh4o/wCEgNr/AMJX9ub7MJT/AKSLbzF8ryv4vK2Y3bflzvz3qIvmSfr+DsXP3VLy/wArntNFFFMYUUUUAFFFFABRRRQAUUUUAFFFFABRRRQAUUUUAFFFFABRRRQAUUUUAFFFFABRRRQAUUUUAFFFFABRRRQAUUUUAFFFFABRRRQAUUUUAFFFFABRRRQAUUUUAFFFFABRRRQAUUUUAFFFFABRRRQAUUUUAFFFFABRRRQAUUUUAFFFFABRRRQAUUUUAFFFFABRRRQAUUUUAFFFFABRRRQAUUUUAFFFFABRRRQAUUUUAFFFFABRRRQAUUUUAFFFFABRRRQAUUUUAFFFFABRRRQAUUUUAFFFFABRRRQBWm/1Y/31/wDQhT6ZN/qx/vr/AOhCn0AFFFFABRRUF+8sem3L2xRZliYxlzhQ2DjPtmk3ZXGtXYnorkvDl9JPqtqkF3eypLZmW5W9yMvlcNHkcjls7flxj2rrapqxIVIoyozUdY+qeJk0ia4jntiwhWF1If76uzBjjH8IRj7+1VCEpu0QbSV2b1Fcpfaxez61pZsICR9suYBGbgokwSMjcxxwAwPZulWW8WCDSpp7u0WK8ivPsRt/PGwynBH7wgfLtIOSOBnitPYTsrdf87E861OiorDsPEgu4tRWWKAXNhGJXW3ufOjdSCVIfaP7pBBHGKNL127vdMGqX2nJY6e1r9oEhud74wDyoXAGMnOc8dB2l0Zq91sNSTt5m5gZzjmjAznHNc5pni0X19Zwz29vEl8GNuYrsSyAhS2JEAGwlQTwW6Yro6U6cqbtJBGSlsFFca0moDTtb1a31G4E9hdTlIXcNE6JzsKkcAjIyMEVP4j1q7jlsZNOkaOK3iGoXigZ3Qgquw/UM5/4BWiw7ckkxOVr/wBeR1ZGetFc74qidLBb22vbuF2ngjxDOVXa0qqeOnQnmq+ut/Zl5o9qbzUvs800vmmFpJZWxGSB8oLEZ9KUKPOlZ73/AAVxuVjqqOnSsK41GLR/B9/qls13MtvDJMovVkVyVXoQ4DAZHpTZbuLwf4O+13nm3UsaqZMEGS5nkYKACTjLOwA7DI7CsZKzZS1tbqb4GOlFc/pXiG+l13+xtf0yHT72S2N1b/Z7s3EcsasFb5iiEMpZcjGPmGCeareGPFOq+JlhvE0KO00tnlje4lvsybkdlysYTlSV6llPsRyUK5et/Bnhi1vUvLbw9pcN1G+9Jo7ONXVvUMBnPvW3Xnd/4q1bV49DvbKwFpo13rMEcF3HfHzZ495GXiCgBGxx87EgjIHb0SlG3Lp3/RP9SpTk5Wk76fq/8gormNR8U6gmqaha6Do0epJpSq188l55JDMu8RxLsbe+3BwxQfMOeuGah412ReHn0PTm1T/hIEZ7X98IgoEXmAsSDgY69x2B6UX0uJ6bnVUVzd94i1Wyi0uy/si1k13UTJtsxfkQRqgyzmby920Ar0jzlgMd6wtM8X3GkaLq93rERa9k16SytrWS7GwOVXCCRuFQAM2ccAH5c8UX1t/W6X6g9l5/5N/oeg0AY6Vy2leM/t1rrC3Vvarf6TCJ5YrO9FxFIjKxQrJtU87GByoII7jBNnwvr2reIbW31C60WPT9OurVJ4Ha98yYlgDhowmFGCcHcT6gdA+tv61/4YV/6/r1OgoorirDx3f3EenX95oSW2kX939jW5W+DyRyFzGpaPYBsZgACGJ+YZUUdUh7Ha0YzXMXPjL7PoGu6n9g3f2ReNa+X52PNwU+bO35fv8ATB6U7WfE+oWfieHQdH0ZdQuprJrtZJbsQRoFcKQx2sR16gMc9u4XMnbz/wAr/kK618v87fmdLQeetc5f+ItTj1G20nS9Jt7vVXtRd3Mc16YobdM7ceYI2ZiW3AYTnaScVl6trmry6t4UmsNPnhubprpZdPuZ/JXcsR4kYA5UEZBCt2IFDdlf+uwN2O3oAAGAMCuYtvFd5P4fvro6TGmo2F0bS4tmvVWGNxtO8zMo/d7WDZ25x/DniqumfECG80XXLya1hmn0RPMnj0u7F3HKCm5fLk2rk8EEFRgj05p9Lj62OumhjuIJIZ41likUo6OMhlIwQR3FY2meCfC2i3yXukeHNJsbpAQs9tZRxuoIwcMoB6VV0nxZcXFhdX+r2dnb6fBbG6W+sNQF3AyAEsC2xCGA5wARjvVPRPHx1LVdPtb6ztLWPVVY2Xk6is8oIQvsmjCjy22gn5WccEZ6ZaWum/8AX/BDpfodlRRXFPrvi8fEWbSodK0t7BbRZlD6k6tsMpXzP+Pc/Ngfczj/AGqXVLv/AMOHRs7WiuY8R6nqdlr+jQ/Y0/s24vo4vtMWoNHLvKudrReUQycf3xn8Kp+IvHV5ouvXGn2mjRXkdqLIyyvemI5uZXiQKvltnDIM5I4Ptgi1272/L/MOtjs6K4j/AIWI39m2inT7WLV7m8ubMW01+I4Ea3YrI5mKZ2cDBCZJYfL1In/4WBCPCd5qrWsZuLG7WyuIY7pWhjlYqAxmxgR4kVi5XIHUZGKN9v6/q42mtH/X9WOworn7HWdcvtIupU0eyF7GVMAXUi9rcqe6zCLdwM5zH1Hoc1S8Ba34j1nwzBfeILGzUPEXjltbsyPMdxGChiRU6dmP4UdbCOtori9N8fvPr0elajZ2EE88UskUdpqi3UkZjXcUmQKPLbHoXGQRnpnMsvilqFxBbXM/h2CK1mt7C7d01Eu6Q3b+WhC+UMuG6rkDHO7PFNJvb+r/APDB/X5f5o9Hori7vx3f2o1O9/sJH0jSbxra8uftwEqqu3MqR7MMoDZILKeDgGtXxJI2nzadq8BIaO6it5gDxJFK4QgjvhmVh9D6mktUmutvx2Dv5fob9FFYHiS6vLbUdDFgpkkkvGUxeaY1kHkyHDHB4BGeh6dM1cIucrIUnZXN+iufk8VC1027lv7Tyby1uFtmt1mBVnfGzDkD5SGByQMc8cU/TvEE2oSXlrHb2hvreNZESK98yGRWyB+8CZBBByNvp1zV+xqWvbT+v8xcy2N2iuX0TW9am8O3N/qFlbyiFbhkMdyd0jI7AJt8sADAxuyegOOasL4rimvZba2tzIyS28aHfgOJeSRx/CMk/Sm6FRSa3sLnVrnQUVy48axNcb1htzY/avs3m/ax52d2zf5WPu7v9rOOcU7UfGKWd1erDBBLBp7BbhpLsRyE4DMI0IO/APcrk8Cj6vVbtYOeJ01FYVxr142p3FnpWnR3Zgto7kySXPlKyvuwB8rHPycdvUjvp6Zfx6ppdtfQqypcRLIqt1GRnBqJU5RV2NSTdkWqKgvYHurC4gilaB5Y2RZV6oSMAj6VDqFnc3VnHb2129sN6+bIn3yg6hT2J45+tZjZdorjW1a603w74gu7K6kurS1O2ynnbe27GH+Y/eUMeCc8gjtUukagY/EkFpY3d5e2VzBJm4uX3o8qbeYyecckHHy+nQ1PMr2Mvarb+t7f15HW0VgaPJqEfifUrO/v2vFjtoJF/dqioWaTIUDt8o6kn3qrf6fNBrGn2lnq2pNNPL5sga4yqwpyxIx3JVf+BU+xXtPdbtsdTRVG41vS7W6+zXOo2sM+QPKeZQ3PTjNc7q+p+f4lvbCS8vImtoYvsltZPtkmkfcS2O4AA+98o5zScklccppHYUVx9/qOq3fw6TWIL82c6WLTSiOJSzuF9TkKMg9Bn0Irp7i/tbC1Sa/uYreM4G+VwoJx0yarYUail91yzRXO+IdehXQYrjTr+IRXF3FbPdRSKRGrMAxB6AgZ57VX0K+nm1O/sLKe6NqbZJ7Se+BkOSWUsMkMUyARnHtwRSvrb+tr/kDqRUlH+v60OqorD8NzXjT6vBf3j3jW175aSOqrx5UbYwoAAyxrUt7Z4bm6leZpBPIGRDnEYCgYHPqCfxpjjLmV/Nr7tCxRRXOa74qbQppWuLa2FtCAxMt6qTSjuY48Hdj3K5I4q4U5VJcsdym0ldnR0ViXeuXo1a5sNN02O6e3t47hnlufKUhi42/dY5+T6epHdg8SSXiacukWQuJ762+1bJ5vKWKMY5Zgrc5YDAHrVexn2/L1FzxN6isTwjcT3WgebdlzKbq5BDvuK4ncBc+wGPwrbNRUi4Scew4u6uFFZ5sbyPQEsre+ZbpYlj+1Ou454y2Dnnr1zzWRZzy2Gqaolpd3F7Y2drulNxIZCk4ydqsf9nqO2R0zWbkluLmd0rbnT0Vwmj61K1xotxBeXl618ypfs77oEd4ywVR0DAjovQdeSK20k1CDxtDb3OoNPbz2k8qwCJUWPa8YX3Jwx5J/AVS3t/WiuZRrRlHmXl+Oh0FFcv4isJYlX7Fquox3l9OIoI1uPkQnknGOiqCfwraudW03TGSC/wBRt4JNgIE8yqzDpnn6UrmnNq0y9RXK6/q0J120sZ76e3tJLR7gfZHIkuH3KqKpX5j1JwOv0qm2sX0nhW3a7muYCmom1uWTH2how7AAbc5f7uduT1xS5v6+dvzJdWKbXb/K/wCR21Fc54c1NF03UJ7u9f7Db3TRwy3rbZETC8PuwR8xON3zYI9q0mvIdZ0+4TRNTg8zG3z4Ssvlk+2euKd9CozUlc0aK5jQLhjr95a2l3eTWkcCsy6huEglLEZUOA23A6/dz071Y0eTUI/E+pWd/fteLHbQSL+7VFQs0mQoHb5R1JPvQtSfaL8bG/RVdbZ11KS5MzFHiSNYucKQWJbrjJyB07VYpmoUUUUAFFFFABRRRQAUUUUAFFFFABRRRQAUUUUAFFFFABRRRQAUUUUAFFFFABRRRQAUUUUAFFFFABRRRQAUUUUAFFFFABRRRQAUUUUAFFFFABRRRQAUUUUAFFFFABRRRQAUUUUAFFFFABRRRQAUUUUAVpv9WP8AfX/0IU+mTf6sf76/+hCn0AFFFFABUF9aR6hp9xZzFhHPG0bFTyARjip6juLiK1tpLi4cRxRKXdj2A5JpO1tRq99DMtNHu11C2udRvo7j7JE0cKxW/l/eABZvmOTgdsCtes7T9bgv7k2/kXNtKY/NRLiPaZEzjcOT6jg8jPStGq1J0Cs3UPD8OqanbXk8hCwwyxNFtyJN4Kgk+wLf99VpVKn3RTjJxd0MxLLw39jXR83ZkbTTIzsY+Z2dSGPXjlie9MufC63EN4PtW2Wa+F9DJ5QIicKqgFSfmGFOenB7da36K09tUvzX/q9/zJ5IpW/ra35GVbaVdCyvIb25t3e5QoPs1r5SRjBHTcSTz3b6Yqa10mODw7DpE7edElqLZ2xt3gLtJx2zV+iodSTGklYxNJ0S806WBZr63mt7dNqBLIJK/GBvfcQcD+6Fz+lbdFFE5ubuwUVFWRzjeGLqX7bay6mv9m3tw80sEdvtkYMeU8zcRg4wcKDjuKnn8J6bfaheXWq21vemdVjiEsIPkIq42qTnuScjHUelblFX7ap3/r+kLlVzHfQnl8N2mly3hdrcwkzmPl/LdW5Gep246+9P1fSrq+vLC7sbyK1msndl82Ayq25dpGAy+vrWrRU+1mnf1/HcOVWsZN5pV3qnhu/0zVLqGaS7heISQwGIKGXA+Us2cHnrVabTz4q8HfYdUSayuGCCQhfmhnjYMHXIwwDqGB6EYrfoqG73uUtLHP6V4f1CPXRrPiDUre/vYrdrW3+y2ht4442ZWYlTI5LMUXJzj5eAOc2vDGhf8I54fi0z7R9p8uSV/M2bM75GfGMnpux17VrUUhW6nFQeBdRgXT7BNchGjaZfJd2lqLH98FViwiaXzMFRnAIQEYGScHPT3FtqEms2dxb6gsNjEkguLQwBjOxxsO/OV24PABzmr1FC0Vv67DerucxqHhfUjqt/daBrEOnJqoUXyTWfntuVNm+Jt67G2gD5g4+UHHXMw8I28Fx4aNjMYLbw+jxxQldxkUw+UBuzxgc5wc10NFHSwPXcxNf0K51K7sNR0m+jsdTsC4hlmt/PjZHADo6BlJBwp4YEFR9KyP8AhApZNGuILrVll1B9UOqw3YtFCxTEAY8ssdyY3LjOdrdc/NXZUUrLf+uj/NIHr/Xqv1Zg2WhX/wDY+oWuq31nLNeRNEGsrD7PHGCpGQpdmJ5yct9MVd0rT5NF8M2enQMt1LZWiQIz/uxKyIFBP3toOPfHvWjRT7+f6X/zDt/W/wDwxh6ZeeKZr5E1fRNJtLUg7pbbVpJ3BxxhDboDz/tCuX8K+FNYvNC0qLW71ItNs7x7tdPaxaOcyLO7x75C+CoO1gAgJwOfX0Sijqn2FY4vVPA2oXq6vZWmuRWul6tP9plhax8yZJPlyFk8wDYSgOCmeThhxjebQ93jKPXvtGPLsGs/I2dd0ivu3Z/2cYx+Na1FJJK3l/lb8gsnfz/zv+Zg6voN/NrUesaBqNvYX4t/ssv2q0NxFLHu3DKq6EMpJwd38RyD2cPDsz32iXd1qUlzNpZmLvJEMzmRCp6YCgZ4GDxx71uUUW0sN67nJ3/gl7m1v1g1FI57jVl1SEy23mRo6qihHTcN6/JnqpzjGMVJpvhXUrWXW7q713dfatHEomtLQQi2aNSoKKzPkc5wxJ68nt1FFPpb+trfkhWV7/1/WpyGn+B2N/qV3r1xYXL6hZtZTJp1gbRJY2PLSAyOXfsDkYBPHNWfD/hvVNIngS81Wyu7S1j2Q+Xpohnk4wDLJvIY4/uqmT+VdNRRt/X9dx/1/X3GBb3vi1tQRLrQdHiszJh5o9YkeRUz1CG2AJx23D60mqaFqUviWHWdE1K2s5fs/wBluI7qzadZI9+4FdsiFWBJ55HPTiugoo7PsHc5fxP4e17W7+yl03W9PsbeynS5jin0x52MihhywnQbcN0xn3qvfeB7jU764vb3VYzcXSacJTFaFV3Ws7SkgFyQH3Yxk7cdWrsKKcXy7ev9fcBxkngF0SOex1KFNRg1C7vIZbizEsW24cs8Tx7gWH3eQynKg+1ay6Lqo0BrUavDDqDSiX7Rb2KpDwR8nlbiShAwQX3cn5hxjdoqUrKw223dnO+F/DEmgzahdXM9pJc6g6NKlhZ/ZYFKgjIjLudxzyxbnA9Kj0XwxqOmaTdaLc6tDPpTRSRWohtGiuIVcn70nmFWIBwCEXsa6aihpPf0EtNjitP8DalBdaQ99rVpJb6RFLBbwWum+QHR49gLnzG+YdcjAPPy9xBB8M/J0qGy/tbd5Vhptlv+zdfsc3mbsb/4+mP4euTXeUVXM9fP9L/5hH3dv62/yR53beFNY1k+IrC7vls9FvtXlae2ksWM1xFhMhJS4ARsEE7G74I7dRr9tJqU+n6ZFE/lm5juZ5Qp2pHEwcDPTJYKMdcZPatyilH3VFdrfh/wwrb+d/xCszWNKn1GaxntLtbWaynMyF4vMViUZMEZHHzev5da06KqMnF3QNJqzOebwsbjTrtL298y+ublbo3KQhVR0xsAQk/KAoGCTnJ55rQ0uwu7RpXvbi2lZwAq21r5KqB9WYkn649q0aKt1ZyVmLlW5kaRpF1pfm2zXkM2ns8jxxG3IkUu5YgvvwQMn+EVS03wfFp0mlOt20h0/wA3OUx52/O3PPG0HArpKKPbVNdd/wDg/wCYcqOftfDdxY3BS0vLdbHzzMI3sw0y5bcUEm7GMk9VJAOM9DSzeHLhNQu59OvLeGK8cSSpPZiZkfABZG3DGQBwQwzz7Vv0U/bTvf8ARByoz4dK8rWby/8AOz9pt4oPL2Y27C5znvnf0x2qTSNP/srRrSw83zfs8Sx+Zt27sDrjJxVyioc5NWfl+A7JBWfrmn3WqaW9pZXosnkIDSGMvle68MpGemQc1oUVm1fRg1dWMRdCuLjRbnStVubWW0lh8mNLS0MHljGO7tntjp0p+n6NdxahFd6nexXLW0Bgt0gtvJVQcZYjc2WO0DjAHpWxRT63IVOKt5FGDTfJ1671Lzc/aYYovL2/d2FznOec7/TtRb6b5WsXeoyy+bJOiRxrtx5SLztHPOSSSfp6VeooK5UFYt7ody2rTajpN5DaT3MCwTmW283IUnBXDLgjJ9QeOOK2qKTSe43FSVmZNxoEUnhKTQoJWija1NusrLuI4xuI4ye/atVRtUL1wMUtFMSilsZ+taTHrOnG2d/LZZEljcoGCOpypKnqMjkdxTNN0u4t7+4v9Ruo7m7mRYsxQmJERckAKWY9WJJz6Vp0UrA4pvmZR0/TfsF1qE3m+Z9tufPxtxs+RVx15+7nPHWr1FFMaSW39X1CuY1PwpdXo1aK21KKC31XmbfaeZKp2BcK+4Dbx0I9cEZrp6K0p1JU3eINJqzM6HSvJ1i7vzNu+020UGzZjbsLnOc8539Pas+Hw1cWMGmtpuoRxXdjbG1aSW3LpNGcHlQwIOVBGG9a6Gimqs11/q1hcqtb+v60M/Q9LbR9LFo9x9pbzZZWl2bMl3Zzxn/arQooqJScm5PqNKysitqMFxdadPBZXX2SeRCqT7N/ln1xkZ/Os7SNGvbC1+xXV3Zz2Xlshjhs2jZiepLGVsk5OeMknrW1RUWQnFOSl1Rz+n+Gp7RrCGe+jlsdNJNrCltsbO0qpdtxDYBPQLk8mtKTTfM8QW+p+bjybaSDy9v3t7Ic5z22dMd6vUU/MlU4pcqWmn4bFFtN8zXY9Rll3CGExQw7eELH5mznkkAD259avUUUF2SMnU9HludTttT0+4ht723jeINPB5qMjYJGAykHIHIPr61X/wCEaePT7Rbe9xfWty90LmSLcryPu37kBHB3kYzkcc1vUUrIl04ttvqZ2k6ZLYvdT3dytzdXcgkldI/LQYUKAq5JAAHcmrGoWr3thLbxXMtrI4+WaI4ZCDkH/wCt3FWaKfSw1FJWMmx0m6j1ZtS1S8iubkQfZ4xBAYlVN245BZiSSB37dKsQab5OvXepebn7TDFF5e37uwuc5zznf6dqvUUCUIoKKKKCwooooAKKKKACiiigAooooAKKKKACiiigAooooAKKKKACiiigAooooAKKKKACiiigAooooAKKKKACiiigAooooAKKKKACiiigAooooAKKKKACiiigAooooAKKKKACiiigAooooAKKKKACiiigAooooArTf6sf76/+hCn0yb/Vj/fX/wBCFPoAKKKKACq2pWKalpdzZSsVS4jaMsvUZGM1ZooDY5XSHutS8TQzvewXsFjbSRNNbQlELsV4ySdxwpJxwOPWuqoooAKlT7oqKpU+6KAFooooAKKKKACiiigAooooAKKKKACiiigAooooAKKKKACiiigAooooAKKKKACiiigAooooAKKKKACiiigAooooAKKKKACiiigAooooAKKKKACiiigAooooAKKKKACiiigAooooAKKKKACiiigAooooAKKKKACiiigAooooAKKKKACiiigAooooAKKKKACiiigAooooAKKKKACiiigAooooAKKKKACiiigAooooAKKKKACiiigAooooAKKKKACiiigAooooAKKKKACiiigAooooAKKKKACiiigAooooAKKKKACiiigAooooAKKKKACiiigAooooAKKKKACiiigAooooAKKKKACiiigAooooAKKKKACiiigAooooAKKKKACiiigCtN/qx/vr/wChCn0yb/Vj/fX/ANCFPoAKKKKAK9/FdT2MkVhdLaXDYCztF5mznn5cjJxnGeAecHpXDQeI9U0r4R6/rFxevf3+myagsVxOiAsYppEQsFAXgKOAAK9BrnoPB9t/wiep6BfzNcW2pS3bysq7CqzyO5A5PI34z3xnHajoyk1pfv8A5mBoWsPB42sLDTb7UNT0y9tp/PvLuXzIpLiPYcxE84wWDbRszgDkHHoFc3pPhrUINWtb/XNUt71rC3e3s47WyNsqK23czgu+5sIBxtAGeOa6SmyFe2oVKn3RUVSp90Uhi0UUUAFFFFABRRRQAUUUUAFFFFABRRRQAUUUUAFFFFABRRRQAUUUUAFFFFABRRRQAUUUUAFFFFABRRRQAUUUUAFFFFABRRRQAUUUUAFFFFABRRRQAUUUUAFFFFABRRRQAUUUUAFFFFABRRRQAUUUUAFFFFABRRRQAUUUUAFFFFABRRRQAUUUUAFFFFABRRRQAUUUUAFFFFABRRRQAUUUUAFFFFABRRRQAUUUUAFFFFABRRRQAUUUUAFFFFABRRRQAUUUUAFFFFABRRRQAUUUUAFFFFABRRRQAUUUUAFFFFABRRRQAUUUUAFFFFABRRRQAUUUUAFFFFABRRRQAUUUUAFFFFABRRRQAUUUUAFFFFABRRRQAUUUUAFFFFABRRRQBWm/1Y/31/8AQhT6ZN/qx/vr/wChCn0AFFFFAEV3dwWNq9xdyCKJPvMfyH61BaataXunPfRSFbdC4Z5VKbdpIbIPIxg9auVjeF/+QZcf9f1z/wCjWoAuabq1pqyzNYs7LC4Ri8bJzgHoQDjBHNXaxtF/5DGu/wDX2n/olK2aOiAKlT7oqKpU+6KAFooooAKKKKACiiigAooooAKKKKACiiigAooooAKKKKACiiigAooooAKKKKACiiigAooooAKKKKACiiigAooooAKKKKACiiigAooooAKKKKACiiigAooooAKKKKACiiigAooooAKKKKACiiigAooooAKKKKACiiigAooooAKKKKACiiigAooooAKKKKACiiigAooooAKKKKACiiigAooooAKKKKACiiigAooooAKKKKACiiigAooooAKKKKACiiigAooooAKKKKACiiigAooooAKKKKACiiigAooooAKKKKACiiigAooooAKKKKACiiigAooooAKKKKACiiigAooooAKKKKACiiigAooooAKKKKACiiigAooooAKKKKACiiigCtN/qx/vr/6EKfTJv9WP99f/AEIU+gAooooAKKiu455bV0tJxbytwspTft554yO3+TWPpDahe+HbhBfN9rFxNEtzIgJAWQqDgADOB6YoA3aKwdKEkPiG6tba7uLqzhhHnG4kMmyYnoGP+zyR0HHSt6gAqVPuioqlT7ooAWiiigAooooAKKKKACiiigAooooAKKKKACiiigAooooAKKKKACiiigAooooAKKKKACiiigAooooAKKKKACiiigAooooAKKKKACiiigAooooAKKKKACiiigAooooAKKKKACiiigAooooAKKKKACiiigAooooAKKKKACiiigAooooAKKKKACiiigAooooAKKKKACiiigAooooAKKKKACiiigAooooAKKKKACiiigAooooAKKKKACiiigAooooAKKKKACiiigAooooAKKKKACiiigAooooAKKKKACiiigAooooAKKKKACiiigAooooAKKKKACiiigAooooAKKKKACiiigAooooAKKKKACiiigAooooAKKKKACiiigAooooAKKKKAK03+rH++v8A6EKfTJv9WP8AfX/0IU+gAooooAKzINKntNIurS0vPKmmklkSfys+WXYt93POM+tXru7gsbV7i7kEUSfeY/kP1qpFrljLpMupCRltYiwZnjZSNpwflIznI6YzSGRaPpl7pcaQSXdrLboD8sdqyOzH+IsZGySck8c1q1n2GsRX1y9s1vc2s6oJBFcR7SyE43DBIxn8R6VoVQgqVPuioqlT7opALRRRQAUUUUAFFFFABRRRQAUUUUAFFFFABRRRQAUUUUAFFFFABRRRQAUUUUAFFFFABRRRQAUUUUAFFFFABRRRQAUUUUAFFFFABRRRQAUUUUAFFFFABRRRQAUUUUAFFFFABRRRQAUUUUAFFFFABRRRQAUUUUAFFFFABRRRQAUUUUAFFFFABRRRQAUUUUAFFFFABRRRQAUUUUAFFFFABRRRQAUUUUAFFFFABRRRQAUUUUAFFFFABRRRQAUUUUAFFFFABRRRQAUUUUAFFFFABRRRQAUUUUAFFFFABRRRQAUUUUAFFFFABRRRQAUUUUAFFFFABRRRQAUUUUAFFFFABRRRQAUUUUAFFFFABRRRQAUUUUAFFFFABRRRQAUUUUAFFFFAFab/AFY/31/9CFPpk3+rH++v/oQp9ABRRRQAVz+jXSWPh69uZI5JUivLlmWNdzY85s8frXQUUAczo88Vx4qmktb8atG1pzcgqfI+fiPKALzycYz8vJrpqOlFHSwdbhUqfdFRVKn3RQAtFFFABRRRQAUUUUAFFFFABRRRQAUUUUAFFFFABRRRQAUUUUAFFFFABRRRQAUUUUAFFFFABRRRQAUUUUAFFFFABRRRQAUUUUAFFFFABRRRQAUUUUAFFFFABRRRQAUUUUAFFFFABRRRQAUUUUAFFFFABRRRQAUUUUAFFFFABRRRQAUUUUAFFFFABRRRQAUUUUAFFFFABRRRQAUUUUAFFFFABRRRQAUUUUAFFFFABRRRQAUUUUAFFFFABRRRQAUUUUAFFFFABRRRQAUUUUAFFFFABRRRQAUUUUAFFFFABRRRQAUUUUAFFFFABRRRQAUUUUAFFFFABRRRQAUUUUAFFFFABRRRQAUUUUAFFFFABRRRQAUUUUAFFFFABRRRQAUUUUAVpv8AVj/fX/0IU+mTf6sf76/+hCn0AFFFFAEV3HPLaulpOLeVuFlKb9vPPGR2/wAmsrQr110Oe41K6aT7PPOrzyYHyo7DJwAOg7CtqsyDQ7ddKn0+8xcwzzSSspBXO5y+OD2z+lAGbol9qF14ovPtrskMlpHNDbHjylLMBn/aIAJ+uO1dLWJY+FrHTtefUrUbMwiNY8sdpyctknnIOMY7Vt0dEHVhUqfdFRVKn3RQAtFFFABRRRQAUUUUAFFFFABRRRQAUUUUAFFFFABRRRQAUUUUAFFFFABRRRQAUUUUAFFFFABRRRQAUUUUAFFFFABRRRQAUUUUAFFFFABRRRQAUUUUAFFFFABRRRQAUUUUAFFFFABRRRQAUUUUAFFFFABRRRQAUUUUAFFFFABRRRQAUUUUAFFFFABRRRQAUUUUAFFFFABRRRQAUUUUAFFFFABRRRQAUUUUAFFFFABRRRQAUUUUAFFFFABRRRQAUUUUAFFFFABRRRQAUUUUAFFFFABRRRQAUUUUAFFFFABRRRQAUUUUAFFFFABRRRQAUUUUAFFFFABRRRQAUUUUAFFFFABRRRQAUUUUAFFFFABRRRQAUUUUAFFFFABRRRQAUUUUAVpv9WP99f8A0IU+mTf6sf76/wDoQp9ABRRRQAUUUUAFFFFABUqfdFRVKn3RQAtFFFABRRRQAUUUUAFFFFABRRRQAUUUUAFFFFABRRRQAUUUUAFFFFABRRRQAUUUUAFFFFABRRRQAUUUUAFFFFABRRRQAUUUUAFFFFABRRRQAUUUUAFFFFABRRRQAUUUUAFFFFABRRRQAUUUUAFFFFABRRRQAUUUUAFFFFABRRRQAUUUUAFFFFABRRRQAUUUUAFFFFABRRRQAUUUUAFFFFABRRRQAUUUUAFFFFABRRRQAUUUUAFFFFABRRRQAUUUUAFFFFABRRRQAUUUUAFFFFABRRRQAUUUUAFFFFABRRRQAUUUUAFFFFABRRRQAUUUUAFFFFABRRRQAUUUUAFFFFABRRRQAUUUUAFFFFABRRRQAUUUUAFFFFABRRRQAUUUUAVpv9WP99f/AEIU+mTf6sf76/8AoQp9ABRRRQAUUUUAFFFFABUqfdFRVKn3RQAtFFFABRRRQAUUUUAFFFFABRRRQAUUUUAFFFFABRRRQAUUUUAFFFFABRRRQAUUUUAFFFFABRRRQAUUUUAFFFFABRRRQAUUUUAFFFFABRRRQAUUUUAFFFFABRRRQAUUUUAFFFFABRRRQAUUUUAFFFFABRRRQAUUUUAFFFFABRRRQAUUUUAFFFFABRRRQAUUUUAFFFFABRRRQAUUUUAFFFFABRRRQAUUUUAFFFFABRRRQAUUUUAFFFFABRRRQAUUUUAFFFFABRRRQAUUUUAFFFFABRRRQAUUUUAFFFFABRRRQAUUUUAFFFFABRRRQAUUUUAFFFFABRRRQAUUUUAFFFFABRRRQAUUUUAFFFFABRRRQAUUUUAFFFFABRRRQAUUUUAVpv8AVj/fX/0IU+oTIJbWOQDAcowB9yKmoAKKKKACiiigAooooAKKKKACiiigAooooAKKKKACiiigAooooAKKKKACiiigAooooAKKKKACiiigAooooAKKKKACiiigAooooAKKKKACiiigAooooAKKKKACiiigAooooAKKKKACiiigAooooAKKKKACiiigAooooAKKKKACiiigAooooAKKKKACiiigAooooAKKKKACiiigAooooAKKKKACiiigAooooAKKKKACiiigAooooAKKKKACiiigAooooAKKKKACiiigAooooAKKKKACiiigAooooAKKKKACiiigAooooAKKKKACiiigAooooAKKKKACiiigAooooAKKKKACiiigAooooAKKKKACiiigAooooAKKKKACiiigAooooAKKKKACiiigAooooAztQ16w0u6itrppzPKhkSOC1lmYqCAThFOBkjr61VPjLQFJD6gqMOCrxOrKfQgjIPsapasl9J4+sBpk9vBL/Zs+WuIGlUjzIuMB156c5qdtE113Ltr0ALHJC6eMD6ZcnH41L5rJpf1cpWvZmvB/yDbb/dj/AKVaqrAN2m2wPQrH0P0q39mj/wBv/v43+NUSJRS/Zo/9v/v43+NH2aP/AG/+/jf40AJRS/Zo/wDb/wC/jf40fZo/9v8A7+N/jQAlFL9mj/2/+/jf40fZo/8Ab/7+N/jQAlFL9mj/ANv/AL+N/jR9mj/2/wDv43+NACUUv2aP/b/7+N/jR9mj/wBv/v43+NACUUv2aP8A2/8Av43+NH2aP/b/AO/jf40AJRS/Zo/9v/v43+NH2aP/AG/+/jf40AJRS/Zo/wDb/wC/jf40fZo/9v8A7+N/jQAlFL9mj/2/+/jf40fZo/8Ab/7+N/jQAlFL9mj/ANv/AL+N/jR9mj/2/wDv43+NACUUv2aP/b/7+N/jR9mj/wBv/v43+NACUUv2aP8A2/8Av43+NH2aP/b/AO/jf40AJRS/Zo/9v/v43+NH2aP/AG/+/jf40AJRS/Zo/wDb/wC/jf40fZo/9v8A7+N/jQAlFL9mj/2/+/jf40fZo/8Ab/7+N/jQAlFL9mj/ANv/AL+N/jR9mj/2/wDv43+NACUUv2aP/b/7+N/jR9mj/wBv/v43+NACUUv2aP8A2/8Av43+NH2aP/b/AO/jf40AJRS/Zo/9v/v43+NH2aP/AG/+/jf40AJRS/Zo/wDb/wC/jf40fZo/9v8A7+N/jQAlFL9mj/2/+/jf40fZo/8Ab/7+N/jQAlFL9mj/ANv/AL+N/jR9mj/2/wDv43+NACUUv2aP/b/7+N/jR9mj/wBv/v43+NACUUv2aP8A2/8Av43+NH2aP/b/AO/jf40AJRS/Zo/9v/v43+NH2aP/AG/+/jf40AJRS/Zo/wDb/wC/jf40fZo/9v8A7+N/jQAlFL9mj/2/+/jf40fZo/8Ab/7+N/jQAlFL9mj/ANv/AL+N/jR9mj/2/wDv43+NACUUv2aP/b/7+N/jR9mj/wBv/v43+NACUUv2aP8A2/8Av43+NH2aP/b/AO/jf40AJRS/Zo/9v/v43+NH2aP/AG/+/jf40AJRS/Zo/wDb/wC/jf40fZo/9v8A7+N/jQAlFL9mj/2/+/jf40fZo/8Ab/7+N/jQAlFL9mj/ANv/AL+N/jR9mj/2/wDv43+NACUUv2aP/b/7+N/jR9mj/wBv/v43+NACUUv2aP8A2/8Av43+NH2aP/b/AO/jf40AJRS/Zo/9v/v43+NH2aP/AG/+/jf40AJRS/Zo/wDb/wC/jf40fZo/9v8A7+N/jQAlFL9mj/2/+/jf40fZo/8Ab/7+N/jQAlFL9mj/ANv/AL+N/jR9mj/2/wDv43+NACUUv2aP/b/7+N/jR9mj/wBv/v43+NACUUv2aP8A2/8Av43+NH2aP/b/AO/jf40AJRS/Zo/9v/v43+NH2aP/AG/+/jf40AJRS/Zo/wDb/wC/jf40fZo/9v8A7+N/jQAlVLyzmuZFaK7kgAGCq559+oq59mj/ANv/AL+N/jR9mj/2/wDv43+NAGX/AGVdf9BOb9f/AIqj+yrr/oJzfr/8VWp9mj/2/wDv43+NH2aP/b/7+N/jQBnQ6dcRzI76hK6qclTnn261oUv2aP8A2/8Av43+NH2aP/b/AO/jf40AJRS/Zo/9v/v43+NH2aP/AG/+/jf40AJRS/Zo/wDb/wC/jf40fZo/9v8A7+N/jQAlFL9mj/2/+/jf40fZo/8Ab/7+N/jQAlFL9mj/ANv/AL+N/jR9mj/2/wDv43+NACUUv2aP/b/7+N/jR9mj/wBv/v43+NACUUv2aP8A2/8Av43+NH2aP/b/AO/jf40AJRS/Zo/9v/v43+NH2aP/AG/+/jf40AJRS/Zo/wDb/wC/jf40fZo/9v8A7+N/jQAlFL9mj/2/+/jf40fZo/8Ab/7+N/jQAlFL9mj/ANv/AL+N/jR9mj/2/wDv43+NACUUv2aP/b/7+N/jR9mj/wBv/v43+NACUUv2aP8A2/8Av43+NH2aP/b/AO/jf40AJRS/Zo/9v/v43+NH2aP/AG/+/jf40AJRS/Zo/wDb/wC/jf40fZo/9v8A7+N/jQAlFL9mj/2/+/jf40fZo/8Ab/7+N/jQAlFL9mj/ANv/AL+N/jR9mj/2/wDv43+NACUUv2aP/b/7+N/jR9mj/wBv/v43+NACUUv2aP8A2/8Av43+NH2aP/b/AO/jf40AJRS/Zo/9v/v43+NH2aP/AG/+/jf40AJRS/Zo/wDb/wC/jf40fZo/9v8A7+N/jQAlFL9mj/2/+/jf40fZo/8Ab/7+N/jQAlFL9mj/ANv/AL+N/jR9mj/2/wDv43+NACUUv2aP/b/7+N/jR9mj/wBv/v43+NACUUv2aP8A2/8Av43+NH2aP/b/AO/jf40AJRS/Zo/9v/v43+NH2aP/AG/+/jf40AJRS/Zo/wDb/wC/jf40fZo/9v8A7+N/jQAlFL9mj/2/+/jf40fZo/8Ab/7+N/jQAlFL9mj/ANv/AL+N/jR9mj/2/wDv43+NAEZghNwtwYkMyqUWQqNwUkEjPXGQOPan0v2aP/b/AO/jf40fZo/9v/v43+NAFWAFdPtgRggRgg/UVfqtL91f99f/AEIVZoAKKKKACiiuNvvi54D03V30y88S2qXMb7JNqu8cbdMNIoKKfqRR1sHS52VFMhmjuIUmgkWWKRQyOjAqwPQgjqKfQAUUUUAFFFFABRRRQAUUUUAFFFFABRWLpHimy1rxFrejWsVwlzoskUdw0iqEcyJvGwgknjrkCtqgAooooAKKKKACiiigAooooAKKKKACiiigAooooAKKKKACiiigAooooAKKKKACiiigAooooAKKKKACiiigAooooAKKKKACiiigAooooAKKKKACiiigAooooAKKKKACiiigAooooAKKKKACiiigAooooAKKKKACiiigAooooAKKKKACiiigAooooAKKKKACiiigAooooAKKKKACiiigAooooAKKKKACiiigAooooAKKKKACiiigAooooAKKKKACiiigAooooAKKKKACiiigAooooAKKKKACiiigAooqCO9tZpTFDcwySDqiyAn8qdmwJ6KKKQBRRRQAUUUUAFFFFABRRRQAUUUUAFFFFABRRRQAUUUUAFFFFABRRRQAUUUUAVpfur/vr/6EKs1Wl+6v++v/AKEKs0AFFFFAHHfFrWbjQPhPr+oWLtHcLbeXHIvVC7BNw+m7Navhrw1pmieC7LQ7a0h+xpbLHJGUBWXK/MWHcsck565qTxb4ei8V+ENT0K4fy0vrdohIBnYSOGx7HBrhYfiNrvhTwyLLxN4H1+51TT7fY8+nWwntbgIMeYJQflBAyQRkZ6GpukpX8v1/r5+Q9+W3n+hz2keLtQ8B/CfxkdJSGceGtflsbCO7DOqwmVAFOGB43nHPpXo/xB8VXvhTw1Z6hp0VvLLPqFtass6sVCyOFYjBHODxXn1t4QuPE/7PGtf2Pd2up6v4huG1aU20g2NMZFcwgnoQFC845qXxv4h1nxr4a06w03wR4jtng1Ozlu3vLPyxEFkXO0AlpPqBgAEk1o7+7HreN/8AyW/6ik4tOUdve/4B1+reK/EWp+LL/wAOeA7TTWn0uON7++1VpPJjdxlYlSPlm28k5AFYurfFLWNM+HXii/n02zt/EnhueO3ubcs0tvIXZNsikFW2sr5AOCCOaw/FngLSrD4jazrnifwVfeKdL1fypYZtNR5ZrSVU2sjRqwJVsAhhnHSm694Stx8EPFUXhHwLf6I988AhszulubpUlQ7zECxTGW464GTipjqv63uv+D+fmXG3tEntf8P6/wAjo9X8YePvD3heXxLrumaHDp8dzbO1rbtLNPFau2JS7ZC7xlCCuR97Oa6HXvFd5beNvDOgaHHbzHVDLc3ckqlvKtY1BLLhhgszKATke1bd/pMGteFp9Iv0zBeWht5VI6Blwfx5rzP4J2OqXt5qWseIlDXOkxJ4dtXzncluT5jj/eYj/vmq+2121/T87fezLXkT76f18r/cjtPiX4nvfBnw71TX9LigmurNYzGlwpZDukVTkAg9GPesebxp4o8O+Gb3XfGGlaaFnaCPSdN06d3nklkJURyuw25yV5XIA3deKsfGnT73VfhBrlnpdpPe3UqxeXBbxNI74mQnCgEngE/hTPif4OuPGPw8gsrW1S6urOeC8SzmcxrcbPvRFu25Swz64qPst+a+7S5rZWXz/SxA/izxn4Z1PTH8cWGinStUu0s1l0uSUyWckn3PM38OpPBYYx1xReeMPFeteNNY0HwVBocB0UxrcNrEkpecum792keNqgHG4557Vy2geFPBt1r1gml/CPWbC8huEeW5v1e3htdpzvDmQiQggYCg59q0/GENvc+Ir2Px38PLvW4hIP7K1TQbNpJvKx9yR1cOjhs85C89u77fP9Pv6+vyI/r8/u/Q09W+IWvaf4W8PX9xoa6ZqF/rsOl3lpeKzBFZmDPGQVyDgFW5HPQ1t+M/FN74d1jwtaWUVvJHrGqrZXBmViVQoxyuCMHjvke1cHeeGfF918JdKkv7S8vdR0nXY9Ut7CedZLo2qSEpEzk4aQI3rnjHXirPiHWtV8aeKPBU1h4Q8QWVjYa0k1xcahZ+UU+Rh9zJYKOcucKOBk5qlZtL+8vu93/gkzfuNrs/v97/AIA7SF1dvHnxQHh6WxivPtNn819E8ke37N83CMpz6c0z4X65qnhb9n+PXdYW1u9OsdPM9nb2kTpMQrPuEjMxByccgDAz1re8JaVfw/Eb4iz3FnPDBfTWv2aaWJlSYC32kqxGGAPBx0rL+H8viWx+D0vh2x8PzWviDRbcwrHrFsVtbti7HCOGG9SvGQQAWHap2g0t7R/L9NASvUTe15fmi9pvirx8q6Zq1/pOi6roupSRqU0SSWS4tUccSMTlZFXvjFekV4Ymmi61vTn8A+BNf8Ja4t5C99OYTa2IhDfvVbDeXKCMgbVJ6dK9zqna39eX3+oK9woooqSgooooAKKKKACiiigAooooAKKKKACiiigAooooAKKKKACiiigAooooAKKKKACiiigAooooAKKKKACiiigAooooAKKKKACiiigAooooAKKKKACiiigAooooAKKKKACiiigAooooAKKKKACiiigAooooAKKKKACiiigAooooAKKKKACiiigAooooAKKKKACiiigAooooAKKKKACiiigAooooAKKKKACiiigAooooAKKKKACiiigAooooAKKKKACiiigAooooAKKKKACiiigAooooApaveXWn6ZLdWNi1/LGNxgV9rMO+ODk+3evCPBWr3Fp4/wDtdnp0l5PcNIq2yPtI3HuccAdzXpXjK5l0zxx4d1X7BeXlvax3HmC0hMjDcm0e3U+tQWnivRLHVLrUbTwhrsV3dY86VbAZb/x7jPU46nrXuYS9KhJKHNzr9WrPX5nBW9+orytys79CxjUyKFcgbgDkA/XvXP6/rt/a65YaNpK2iXV4jyCa9LeWAv8ACAuCzHPrVT4Y209p4DtIbqGSCUSSZSRCrD5z2NTeLFWaaGHVNAfVtJZDue3jMk0MueCACCAR3HNefGnGGIcHqlf+t/wvrsdXM5U+bb+v6/M0NI1K/exujr9olpNaOweSMnypVAzvTPOPY9MVkeF/FeoeItO1PdbQ29/CPNtYyp2vE65iZucnOOcEfhWI0GvN4LvtNtLXUBFqF6LaxW7Vmkt7dsbjIeSqjBAzyM1ds9M17RfGGl3l3DazWstv/Z8n9nQyYjQDKM4JOBkYz0ArodGmozva72+Sv+O3qZ88rry3++3/AAfuLsnjKf8A4V5DrcEMTahMVhSAg7TOX2FcZzjIJxnpStq/iW78T3uk6adKQWUELu9xDIdzOvOMP0yDWZb6Dfjx/wDYGtZBosF22qpKVOwyMoAQHpkOS2Ki1jTrFvH2qXGu+HtQ1K2khhFvJBZySqCF+blfwqowpczUVum+9rtWXy1E3K2vTT/g/kd0kl5Bo5kvjA13HEzOYVIjLAE8AnOPxrjbXxd4ih8P2HiDU4dMk065dFkit1kSVAzbcjLEHB7V1ds0U/hkCytJ7aL7OyRW80RR0ABUAqeR0rgNP8M3eneH/DmpTw6leLbzK13pczSOIwSQHWLsVPOMVlh403zc/dfrp5FVHLlXL2f6W9f1Oki1fxNqev6vZ6UdJig0+ZYgbmKRmbKg9VYCpLzXdbbxBFoWmjTUvUs1uJ5brfskJOCI1BzjIzkngVzs2m6aPF2uzeIPDWpagJrhGt5YbKSRduwZwRx1rX1429/JCNZ8L3d5pzQI9pNawMbiBu6OAQyHp7etaOEFKOmll0W9l56+mgrv3ter/P8ADTqW/wDhJdVjl0OG809LSe9u3trlHycbVJ3RnI4OM85/rUmq+JLyx8QX1jDHAYrfR3vkLKdxkVsAHn7v6+9YMdjrseiaHqV7a3d02m37y/Z2Ie5+zsCFz/eYA9OtWJ4L3XNT1rWItNvLa3/saSyhjuYSksznLcJ1x0Hvmk6VNO+llf776DjJuy9Pz1Oitb3VdV8JWF9p5s4r65gilbz0cxDcoJAAOe/HNZXhrWPE2r3Vy12dJW1s7yS2mWKGUSPtA5UliO460/wlrZTSdK0mfSdXgnjto4XkmsXSNWVOcseMcVL4Otbq1h1zzoJIXl1WeSLzUKh1IXDDPUH1FZTiqaqJpeX3hF8yg7+v3FDT/FPiHU7EazY2Fjc6d55jazhZzdKobaTn7u7vtx07121eZ39vdXEqz6f4c1DS/FHnANc2qFbV/m5LPnaykdc85r0wdOetTioxVnFJb/p5u67PqVTbbdzG8QeKLDwzHHLqq3CwyHCyxxF1z6EjoaPD/iiw8TRyS6Utw0MZw0skRRc+gJ6mtG/sLbU7GWzv4Vmt5l2ujDr/AJ9aLCwttMsYrOwhWG3hXaiKOn+fWsb0fZWs+b8CrT599CxRRRWBoFFFFABRRRQBWl+6v++v/oQqzVaX7q/76/8AoQqzQAUUUUAFFFFAFWw0uw0qOWPTLK3s0mlaaRYIggd26scdSfWrVFFABRRRQBl+ItP1XU9He20LWTot2zD/AEsWyzlV7gKxAyR37Unhnw9aeFvDttpFg0kkUAJaWZsySuxLM7HuzMST9a1aKFoAUUUUAFFFFABRRRQAUUUUAFFFFABRRRQAUUUUAFFFFABRRRQAUUUUAFFFFABRRRQAUUUUAFFFFABRRRQAUUUUAFFFFABRRRQAUUUUAFFFFABRRRQAUUUUAFFFFABRRRQAUUUUAFFFFABRRRQAUUUUAFFFFABRRRQAUUUUAFFFFABRRRQAUUUUAFFFFABRRRQAUUUUAFFFFABRRRQAUUUUAFFFFABRRRQAUUUUAFFFFABRRRQAUUUUAFFFFABRRRQAUUUUAFFFFABRRRQAUUUUAFFFFABRRRQAUUUUAFFFFABRRRQAUUUUAFFFFABRRRQAUUUUAFFFFABRRRQAUUUUAFFFFABRRRQAUUUUAFFFFABRRRQAUUUUAFFFFAFaY4jB54deg/2hUn2lf7kv/fs1HL91f99f/QhVmgCL7Sv9yX/v2aPtK/3Jf+/ZqWigCL7Sv9yX/v2aPtK/3Jf+/ZqWigCL7Sv9yX/v2aPtK/3Jf+/ZqWigCL7Sv9yX/v2aPtK/3Jf+/ZqWigCL7Sv9yX/v2aPtK/3Jf+/ZqWigCL7Sv9yX/v2aPtK/3Jf+/ZqWigCL7Sv9yX/v2aPtK/3Jf+/ZqWigCL7Sv9yX/v2aPtK/3Jf+/ZqWigCL7Sv9yX/v2aPtK/3Jf+/ZqWigCL7Sv9yX/v2aPtK/3Jf+/ZqWigCL7Sv9yX/v2aPtK/3Jf+/ZqWigCL7Sv9yX/v2aPtK/3Jf+/ZqWigCL7Sv9yX/v2aPtK/3Jf+/ZqWigCL7Sv9yX/v2aPtK/3Jf+/ZqWigCL7Sv9yX/v2aPtK/3Jf+/ZqWigCL7Sv9yX/v2aPtK/3Jf+/ZqWigCL7Sv9yX/v2aPtK/3Jf+/ZqWigCL7Sv9yX/v2aPtK/3Jf+/ZqWigCL7Sv9yX/v2aPtK/3Jf+/ZqWigCL7Sv9yX/v2aPtK/3Jf+/ZqWigCL7Sv9yX/v2aPtK/3Jf+/ZqWigCL7Sv9yX/v2aPtK/3Jf+/ZqWigCL7Sv9yX/v2aPtK/3Jf+/ZqWigCL7Sv9yX/v2aPtK/3Jf+/ZqWigCL7Sv9yX/v2aPtK/3Jf+/ZqWigCL7Sv9yX/v2aPtK/3Jf+/ZqWigCL7Sv9yX/v2aPtK/3Jf+/ZqWigCL7Sv9yX/v2aPtK/3Jf+/ZqWigCL7Sv9yX/v2aPtK/3Jf+/ZqWigCL7Sv9yX/v2aPtK/3Jf+/ZqWigCL7Sv9yX/v2aPtK/3Jf+/ZqWigCL7Sv9yX/v2aPtK/3Jf+/ZqWigCL7Sv9yX/v2aPtK/3Jf+/ZqWigCL7Sv9yX/v2aPtK/3Jf+/ZqWigCL7Sv9yX/v2aPtK/3Jf+/ZqWigCL7Sv9yX/v2aPtK/3Jf+/ZqWigCL7Sv9yX/v2aPtK/3Jf+/ZqWigCL7Sv9yX/v2aPtK/3Jf+/ZqWigCL7Sv9yX/v2aPtK/3Jf+/ZqWigCL7Sv9yX/v2aPtK/3Jf+/ZqWigCL7Sv9yX/v2aPtK/3Jf+/ZqWigCL7Sv9yX/v2aPtK/3Jf+/ZqWigCL7Sv9yX/v2aPtK/3Jf+/ZqWigCL7Sv9yX/v2aPtK/3Jf+/ZqWigCL7Sv9yX/v2aPtK/3Jf+/ZqWigCL7Sv9yX/v2aPtK/3Jf+/ZqWigCL7Sv9yX/v2aPtK/3Jf+/ZqWigCL7Sv9yX/v2aPtK/3Jf+/ZqWigCL7Sv9yX/v2aPtK/3Jf+/ZqWigCL7Sv9yX/v2aPtK/3Jf+/ZqWigCL7Sv9yX/v2aPtK/3Jf+/ZqWigCL7Sv9yX/v2aPtK/3Jf+/ZqWigCL7Sv9yX/v2aPtK/3Jf+/ZqWigCL7Sv9yX/v2aPtK/3Jf+/ZqWigCL7Sv9yX/v2aPtK/3Jf+/ZqWigCL7Sv9yX/v2aPtK/3Jf+/ZqWigCL7Sv9yX/v2aPtK/3Jf+/ZqWigCL7Sv9yX/v2aPtK/3Jf+/ZqWigCL7Sv9yX/v2aPtK/3Jf+/ZqWigCL7Sv9yX/v2aPtK/3Jf+/ZqWigCL7Sv9yX/v2aPtK/3Jf+/ZqWigCL7Sv9yX/v2aPtK/3Jf+/ZqWigCL7Sv9yX/v2aPtK/3Jf+/ZqWigCL7Sv9yX/v2aPtK/3Jf+/ZqWigCL7Sv9yX/v2aPtK/3Jf+/ZqWigCL7Sv9yX/v2aPtK/3Jf+/ZqWigCL7Sv9yX/v2aPtK/3Jf+/ZqWigCL7Sv9yX/v2aPtK/3Jf+/ZqWigCL7Sv9yX/v2aPtK/3Jf+/ZqWigCL7Sv9yX/v2aPtK/3Jf+/ZqWigCL7Sv9yX/v2aPtK/3Jf+/ZqWigCL7Sv9yX/v2aPtK/3Jf+/ZqWigCL7Sv9yX/v2aPtK/3Jf+/ZqWigCL7Sv9yX/v2aPtK/3Jf+/ZqWigCL7Sv9yX/v2aPtK/3Jf+/ZqWigCL7Sv9yX/v2aPtK/3Jf+/ZqWigCtL91f99f/AEIVZqtL91f99f8A0IVZoAKKKKACohdW7XbWqzxm4RA7QhxvVScAkdccdakZ1TG9guTgZOMmuC125ns/FniW4s8+fFoCNGR1BDPQB2kWqafNevZw31tJdR/fgSZS6/Vc5FQ3Wv6PYXX2a+1axtrjj91Ncoj89OCc1yOr6Ppun/DuzvbC3iiurYQTwXCKPMMhK5O4cndk59c02eO9m8b68LPRbLUybaDct1N5e07TwAUbOfqKAO/VldQyEMrDIIOQRVU6rp4h8039r5fm+Tv85dvmZxszn72eMdayfAnkjwXYRwSM4jDI25cbGDEMuMngHI69q4i4s01HwU9nKzIk/iaSMshwRmVuRQB6nJcwQzRQyzRpLMSI0ZwGcgZOB3qg3ijQEuDA+uaasyvsMZu4wwbOMYznOe1cfBqc0/irw9pepsP7T064mim/6aL5fySD2Yfrmjwet65vVj8PWd3bHVbkNdy3Cq6jzTn5Chzj60Ad1d6pYWDRrfX1tbNKcRiaZUL/AEyeaL7VLDTIVm1K+trSJztV7iZY1Y9cAk1zOhadZaxrXiOfVbaG7mF4bYCZA+yIIMKM9ByT+Ncw1wY/D/hwSW0t/Da67NDDCihmkjXzAoAYgHj1PagD0231Swu7Nru1vraa2QEtNHMrIuOuWBwKlt7qC7tkuLWeOeBxlJY3DKw9QRwa8+til/8A8JXqdnYNplsLE2slrIFWQyqpJZkUkDgge9Lo10+k+EJ9FtWIlmSH7DnkhbgAf+OtvP0FAHfWl7a38HnWNzDcxbiu+GQOuR1GR3pg1OwNi96L22NrGSHn81fLXBwctnAweK4LSb+Dwx8MtXa0ZYxBe3Fvb72wN2/YuT9easeBZNLs9Sv/AA5ZXltqFo0Md1GUmWZSSAsg4J/iAbn+9QB1Mfirw9NKkUOvaZJI7BURbyMliegAzya0Yrq3n83yJ4pPJYpJscHYw6g+h9q5bw9YWf8AwmPiMfZIMRzQbP3Y+X9329KwL+R10bXYQxWK58QxwTkHH7tmQMM+44/GgD0Oz1Ow1AuLC9troxnDiCVX2n0ODxUkF7a3Ucj21zDMkbFHaOQMEYdQSOhHcVyut6dZaR4h8Nz6Vbw2kz3ZtmEMYXzIijEqcdQMA1zXh+aTw82papJI39m6hqN1b3W4/LBIHIjk9gfun8KAPUbe5gu7dLi0mjnhkGUkiYMrD1BHBqSub+Hv/JPdG/69h/M10lABRRRQAUUUUAFFFFAGdH4i0WW6FtFrFg85baIlukLFvTGc5p13r2kafcGC/wBVsrWYAExzXCI2PXBOa8njuLWXwneaY2iSSXl7qMkFvqEkSLEjtJx+8JyCPpW+8N7F8QryKLR7fW5Y9Ot1k+0TLGARxuG5TnJr1ZYGEW9dr9ulv8+pxqvJrb8zvH1jTI7FL2TUbRbRzhbhp1EbfRs4NO/tOwFrFcm9tvs8zBI5fNXY7HgAHOCTXKa3pF1PfaRfWmnafNPZwP5miSyqBhsZZDjGQeMkYrCv305tDA060n0+Ya9b/arGUjEEmedoHGD1461lDCwmlZ/lpr/Wuxcq0o3uj0yS7toriO3luIkmlBMcbOAzgdcDqcVGNTsDp5vhe25swMm481fLHOPvZx14rm9f/wCSi+Hf+uF1/wCgCnfDyGOf4e2UU8ayRsZAyOoIP7xuxrJ0IxpKo32/Hm/yLVRubj/XT/M2I/E+gSyLHFrmmu7kKqrdxksT0AGasTavptveLaXGoWsVy+NsLzqrtnphSc1y3hvTbE+N/EymytyIZoDGPKX5PkzxxxWVe6YmmJrEupaTBrekXk7zSahaupuLYHqCDydvseK2+rUnPlTey7dbP+u5HtZqN7d/wPSqKracYW0u1NrK00JhUxyOcsy4GCT64qzXntWdjpWwUUUUgCiiigAoopGdUXc7BR6k4oAjN1brdratPGLh0LrCXG9lBwSB1xz1qGPVdOmvmsor+1kuk+9AsymRfquc1zupAN8TrIF/LB0e4BfONvzrzWJa2EOh2WnWPiDSozbRXCfZtcsJFyzlvlZ/4gWJwTyDmgDvrzU7DTygv722tTIcIJ5VTcfQZPNST3ltarG1zcRQrKwSMyOFDsegGepPpXK6JY2mseJfEs2rW0N1LFdi1QTIG2RCNSAAegJJPvXM3Nmuo+C7HS3mf7OuvtawyKcFYw7BcH26fhQB6jJcwRTxQSzRpLNny42cBnx1wO+Klrzyz1Sa78YeH9P1Mganp7XENwP7/wC7G2QezDn65r0OgAooooAKKKKACiiigCrfapYaXGsmp31tZo52q1xMsYY+gJIqGDxBo1zHvttXsZk8wR7o7lGG89FyD1PpXO+PfN/tLw19mtI72X7e223lfYsn7puCcHH5VburGO+8JahHr+mW2jJtLMYJhJt2jKybgq8g/wAqAOhe8to7qO2kuIkuJFLJEzgO4HUgdSBVBPFPh+SdYI9d01pWbYsa3kZYtnGMZ657Vy3w9uJdZkv9W1hy2qxxpbiNkKeXDtyrAH+/94n/AApngRb59IsQfDtlJa+Y+b5rlfMxvPzbNmcj/eoA7e51XT7K4jgvL62t5pf9XHLMqs/0BPNStdW63SWzTxC4kUukRcbmUdSB1IGRzXIeGdMsdastbuNYtYZ57i/uIZXmQEhFO1Rz0AH+NNtreC08c+HbezumvIItKnSOd5A5cBkAJYcGgDqrnWNMsxKbzUbSAQlRKZZ1Xyy3QNk8Z7Z61Ba+JNDvblLey1rT7ieQ4SKK6R2bvwAcmsjSYIrjxt4lS4iSVM2x2uoYZ2H1pngeytRBqcgtoRImqXAVxGMqN3QHtQB00d/aTWrXMV1A9upIaVZAUGDg5PTgjmks9Qs9QhM1hdwXUQOC8EodQfqDXmmmKLnRvD2n3IDWV1rd0J42+7JtaRlU+oyBx7V0s9pb6Z8RbAabFHbi8sZxcxRIFDhCu1iB3GSM+9AHTRX9nNZtdw3cElsoJMySAoMdfm6cVKs8T24nSVGhZd4kDAqV65z0x715Jo8z+HvB05uJCdN1iC42s54guBuGPYMB+Y969C0v/kQrX/sHL/6LoAvWOuaTqchj03U7O8dRkrb3CSED6A0y88Q6Lp1wbfUNXsLWYAExz3KIwB9ic1wiWdrbfCfRNVghji1C2W3eGdFCuWLgEZ6nIJBFXpPtx+IGtfYtDtNUPk2+77RcCLy/lPTKNn9KAOqm8TaDb+X5+t6dF5iCRN93GN6nowyeRx1qzZatp2pRSS6df2t3HGcO8EyuF+pB4rnfG9nbnwFeSyWMEUywoMKoPl/MOAcdOtHi+6tdF8GtFAYLJ9QKWokG2MLv4LE9OFyaAOnhvLa4sxdwXEUtsy7xMjgoV9dw4xTI9RspmgWG8t5GuUMkAWVSZVHVl55HI5HrXFeGLyxh0jxDoWm3cF1bWKPJbPDMJAYnQnGQT0bIqt4b/wCQl4G/7A03/oMdAHoVxcwWcDT3c0cESctJK4VR9SaS0vLW/txPY3MNzC3SSGQOp/EcVg+L9Kn1I6bJZ/ZZ57O4M62V22EuflII78jOQcHmo/C0li+rakI9Nl0jUsRm7smZSnQ7XXbwc4Iz7UAdRRRRQAUUUUAFFFFABRRRQAUUUUAFFFFABRRRQAUUUUAFFFFABRRRQAUUUUAFFFFABRRRQAUUUUAFFFFABRRRQAUUUUAFFFFABRRRQAUUUUAFFFFABRRRQAUUUUAFFFFABRRRQAUUUUAFFFFABRRRQAUUUUAFFFFABRRRQAUUUUAFFFFABRRRQAUUUUAFFFFABRRRQAUUUUAVpfur/vr/AOhCrNVpfur/AL6/+hCrNABRRRQBR1fSbbWtPNpebwm5XV422vGwOQynsQaraX4btNMa5kaW4vri7UJNcXjh3dR0XgAY5PAHeteigDnLfwRp0E8Obm+mtLdxJBYy3BaCJhyMLjJx2BJAp994Rju9YuNRh1fVLGW5VUlS1lRVYKMDqhPf1roKKAKmmaZbaPpsVjYoUhiGBuYsSepJJ6knmsxPCFglitqJrnYuoHUASy58wtux937uT06+9b1FAGTd+G7C88R2WuSB1vbNWRGQgB1I6NxzjJx0qfR9Ht9FtpoLV5HWa4kuGMhBIZ23EDAHGav0UAYeo+FLW/v5LyK8vrCadQs5sp/LEwHTcMHnHcYPvUj+GNOMOlRQrJBFpUwmgSNhgttI+bIJP3ifXPetiigDIn8N2c97qFyJJ4jqNv5FwkbAK3BAfBH3sHGf0pqeFtPS90u6/etLpcJhgJYfMMYy3HJHbp1NbNFAHPp4M01YoYnkuJYYr6S+8p2Uq8jknDDbyoJ4H55q5J4d086vZ6lBH9muLQOF8hVUSKwwVbjkdD2rUooAo2ekwWOpX99E8hlvmVpAxG0FVwMcf41WXwzp/wBl1K2mWSeHUpmmmSRujED7pABHQY7+9a9FAGHp3hW1sL+O8mvL7UJ4VKwNez+YIQeu0YAz7nJ96kg8MafDot7pTiSe1vZZZZRKQTmQ5OMAdD0rYooApaNpUGh6NbabaNI8NsmxGlILEe+AB+lXaKKACiiigAooooAKKKKAMEeDtNHhy50Vmne3uJWmLsw3o7NuypxgYPTiobnwZFcaodQj1nVrW5aFIZHt5kXzAvQn5OtdJRW6xFVO9zP2cH0OfuPCFtcxWrPqOpLe2qsiX6ThZypOSrHGCPbFLF4M0pNGutPm8+5F3J5s1xNKWmeQdH3diMcYrfoo+sVbW5g9nDsYemeFLXTr83st5fahdeWYkmvZvMManqFwABn161U0zwRHpIhSy13WUghfetv56eWeckEbOhrp6KPrFXXXcPZw7GfY6Lb6fquoahC8rS6gyNKrkFVKjA28fzzWTdeBNPuJLgR3uo2trdOXns7e52wyE/eyMEjPfBFdNRSjWqRd0/6Ww3Ti1ZoZBDHbW8cECBIo1CIo6KAMAU+iisdywooooAKKKKACqup6bbavps1jfIXhmXDAMQR6EEdCDzVqigDF03wvaafcTXE1zd6jPNF5BlvZfMIj/uDAAA/DJqrF4H0+OSBGu9QlsrdxJDYS3G6CMqcrgYyQD0BJFdJRQBial4WtdQv3vYry+0+eVQkz2U/l+co6Bhg/mMH3qR/DGnGwsLKFZIILCdZ4ljbqy5+8TknOTnv71r0UAZNx4bsLnxNa66wdL21jaNShADqR/FxzjJxWtRRQAUUUUAFFFFABRRRQBk694eh177I0l5d2ctnKZYpbVlVg20r/ABKexNVJPCKXOnvZahrGqX0EkiO63EqHcFOdnCD5T3HfHWuhooAzG0G1/t5NWiaSGcQG3dYyAkqdtwx27YIrMsPBQ0xY47PxBrUcEb7lgEsWzrkj/V5x+NdNRQBgXvg+zu7y4nivNQslujm5htLjZHOcYywwcEjjKkZqa98Lafd21nFAZrB7FdlrNZvseJcYIBIIII7EGtmigDO0fRLbRYpRbvNNLO/mT3Fw++SVumSfp2GBT9K0mDSI7hLZ5GFxcPcP5hBwzHJAwBxV6igDCj8Iaamg/wBksZ3hE7XCSmTbJHIzltysoGCCeP61Npfhu20y5lumubu+u5U8s3N5LvcJ/dGAAB9BWvRQBht4R02Twm3h6bzZbNgRudhvBLFsg4xkE8cVpQafFb6RHpyM5hjhEIYkbtuMemM1aooA5nTPA1jpwtElvtQv4LIg21vdzKY4iOhCqqgkds5qa98JJdazcalb6xqlhNcKiyLayRhWCjA+8hP610FFAGXd6FFf+HW0i8urqaN0CvO7L5rYOck4xn8KW90Cz1G/sbm83yixDeVC2DGSRjcQRyQOnPetOigDHl8Mae+pm+hVraRrZ7V0gCqsiN3Ix1HY/wA6pS+CLRotKW21LUbN9LtzbwS28iBmQ4zuyhBPyjpiulooAwpPCsFxYww3eo6hPcW8hkhvXmAniJGDhlUDGOxFWNH8P22jyzzpPc3d3c7RNc3Um+RwvQcAAAZPAArVooAKKKKACiiigAooooAKKKKACiiigAooooAKKKKACiiigAooooAKKKKACiiigAooooAKKKKACiiigAooooAKKKKACiiigAooooAKKKKACiiigAooooAKKKKACiiigAooooAKKKKACiiigAooooAKKKKACiiigAooooAKKKKACiiigAooooAKKKKACiiigAooooAKKKKACiiigCrOdsYOM4ZTj1+YU77U3/PB/wAx/jTZ/wDVf8CX/wBCFFADvtTf88H/ADH+NH2pv+eD/mP8ailljgheWZ1jjjUs7ucBQOpJ7CqllrWlanI0em6nZ3bqMlYJ1kIH0BoA0PtTf88H/Mf40fam/wCeD/mP8abRQA77U3/PB/zH+NH2pv8Ang/5j/Gm0UAO+1N/zwf8x/jR9qb/AJ4P+Y/xptFAAt7vzthc7Tg8jr+dO+1N/wA8H/Mf41Xtv+Wv/XQ1NQA77U3/ADwf8x/jR9qb/ng/5j/Gm0UAO+1N/wA8H/Mf40fam/54P+Y/xptFADvtTf8APB/zH+NH2pv+eD/mP8apw6nYXF5JaW97by3MX+shSVWdPqoORSrqVi9+1kl7btdqMtbiVTIB6lc5oAt/am/54P8AmP8AGj7U3/PB/wAx/jUTSxrIsbSKHfO1S3LY64Hes6XxPoEEzwz65pscsbFXR7uMMpHUEE8GgDW+1N/zwf8AMf40fam/54P+Y/xpgIIBByD0IpaAHfam/wCeD/mP8aPtTf8APB/zH+NNooAd9qb/AJ4P+Y/xo+1N/wA8H/Mf402igDmrvTPFc17PJa+Knt4HkZo4f7Nhfy1J4XcWycDjPeov7I8Y/wDQ4v8A+CqD/wCKrqqK6ViZpWsv/AY/5GXso+f3v/M5X+yPGP8A0OL/APgqg/8AiqP7I8Y/9Di//gqg/wDiq6qij6zU7R/8Bj/kHso+f3v/ADOV/sjxj/0OL/8Agqg/+KpBpPjFhkeMn64/5BUH/wAVXV0yL7h/3m/maPrNTtH/AMBj/kHso+f3v/M5j+yPGP8A0OL/APgqg/8AiqP7I8Y/9Di//gqg/wDiq6qij6zU7R/8Bj/kHso+f3v/ADOV/sjxj/0OL/8Agqg/+Ko/sjxj/wBDi/8A4KoP/iq6qij6zU7R/wDAY/5B7KPn97/zOV/sjxj/ANDi/wD4KoP/AIqj+yPGP/Q4v/4KoP8A4quqqrbanYXk8sNne29xLCcSRxSqzJ9QDxR9Zqdo/wDgMf8AIPZR8/vf+Zz/APZHjH/ocX/8FUH/AMVR/ZHjH/ocX/8ABVB/8VXQw6lY3F5JaQXtvLcxf6yFJVLp9VByKmM0YmEJkUSspYJuG4gdTj05FH1mp2j/AOAx/wAg9lHz+9/5nMf2R4x/6HF//BVB/wDFUf2R4x/6HF//AAVQf/FV0J1KxF+LE3tuLsjIt/NXzCPXbnNWaPrNTtH/AMBj/kHso+f3v/Md9qb/AJ4P+Y/xo+1N/wA8H/Mf402iuY1Hfam/54P+Y/xo+1N/zwf8x/jTaKAHfam/54P+Y/xo+1N/zwf8x/jTaKAHfam/54P+Y/xo+1N/zwf8x/jTaKAHfam/54P+Y/xo+1N/zwf8x/jTaKAHfam/54P+Y/xo+1N/zwf8x/jTaKAHfam/54P+Y/xo+1N/zwf8x/jTaKAFF2SSBC/BweR/jS/am/54P+Y/xqJPvyf739BT6AHfam/54P8AmP8AGj7U3/PB/wAx/jTaKAHfam/54P8AmP8AGj7U3/PB/wAx/jTaKAHfam/54P8AmP8AGj7U3/PB/wAx/jTaKAHfam/54P8AmP8AGj7U3/PB/wAx/jTaKAHfam/54P8AmP8AGj7U3/PB/wAx/jTaKAHfam/54P8AmP8AGj7U3/PB/wAx/jTaKAHfam/54P8AmP8AGj7U3/PB/wAx/jTaKAHfam/54P8AmP8AGj7U3/PB/wAx/jTaKAHfam/54P8AmP8AGj7U3/PB/wAx/jTaKAHfam/54P8AmP8AGj7U3/PB/wAx/jTaKAHfam/54P8AmP8AGj7U3/PB/wAx/jTaKAHfam/54P8AmP8AGj7U3/PB/wAx/jTaKAHfam/54P8AmP8AGj7U3/PB/wAx/jTaKAHfam/54P8AmP8AGj7U3/PB/wAx/jTaKAHfam/54P8AmP8AGj7U3/PB/wAx/jTaKAHfam/54P8AmP8AGj7U3/PB/wAx/jTaKAHfam/54P8AmP8AGj7U3/PB/wAx/jTaKAHfam/54P8AmP8AGj7U3/PB/wAx/jTaKAHfam/54P8AmP8AGj7U3/PB/wAx/jTaKAHfam/54P8AmP8AGj7U3/PB/wAx/jTaKAHfam/54P8AmP8AGj7U3/PB/wAx/jTaKAHfam/54P8AmP8AGj7U3/PB/wAx/jTaKAHfam/54P8AmP8AGj7U3/PB/wAx/jTaKAHfam/54P8AmP8AGj7U3/PB/wAx/jTaKAHfam/54P8AmP8AGj7U3/PB/wAx/jTaKAHfam/54P8AmP8AGj7U3/PB/wAx/jTaKAHfam/54P8AmP8AGj7U3/PB/wAx/jTaKAHfam/54P8AmP8AGj7U3/PB/wAx/jTaKAHfam/54P8AmP8AGj7U3/PB/wAx/jTaKAHfam/54P8AmP8AGj7U3/PB/wAx/jTaKAHfam/54P8AmP8AGj7U3/PB/wAx/jTaKAHfam/54P8AmP8AGj7U3/PB/wAx/jTaKAHfam/54P8AmP8AGj7U3/PB/wAx/jTaKAHfam/54P8AmP8AGj7U3/PB/wAx/jTaKAHfam/54P8AmP8AGj7U3/PB/wAx/jTaKAHfam/54P8AmP8AGj7U3/PB/wAx/jTaKAHfam/54P8AmP8AGj7U3/PB/wAx/jTaKAHfam/54P8AmP8AGj7U3/PB/wAx/jTaKAHfam/54P8AmP8AGj7U3/PB/wAx/jTaKAHfam/54P8AmP8AGj7U3/PB/wAx/jTaKAHfam/54P8AmP8AGj7U3/PB/wAx/jTaKAHfam/54P8AmP8AGj7U3/PB/wAx/jTaKAHfam/54P8AmP8AGj7U3/PB/wAx/jTaKAHfam/54P8AmP8AGj7U3/PB/wAx/jTaKAHfam/54P8AmP8AGj7U3/PB/wAx/jTaKAHfam/54P8AmP8AGj7U3/PB/wAx/jTaKAHfam/54P8AmP8AGj7U3/PB/wAx/jTaKAHfam/54P8AmP8AGj7U3/PB/wAx/jTaKACf/Vf8CX/0IUUT/wCq/wCBL/6EKKAMvxP/AMilq/8A15Tf+gGuJ0pZptU8Mw3WnWmmm2tPtkNxDJve7Aj2lPurtPzBiOa9FuraK8tJrW5TfDMjRyLkjcpGCMjnpVV9FsJEsFaDjT2DWpDsDGQu0c5yRjjBznvQtPw/Ub1SXr+n+Ry1nrusCy0XWri+SaDVrpIWsBCoEKvnG1h8xZcc5JzzwKhPirVLa7jtpplk/s68kGpyFFH7gyBYz04+WQNkY4Q11Nv4Z0e01H7db2SpOGZ1O5iqM3VlQnapOeSAKkl0HTJn1B5LRWbUoxHdnJ/eqBtA68cHtij+vyF/X5/18iHwxeXWo6DHfXsnmNcu8sXygbYix2Dgf3ce9a9R29vFaWsVvboEiiQIij+FQMAVJTdugBRTJZY4IXmnkWOKNSzu5wqgckknoK5rTdbu9b122uYbqKw0dt62sEygTanheXUHlUXgjHJHXrwgOitv+Wv/AF0NTVDbf8tf+uhqagDk/E2pavaam32a4mtrCG3DtNa26XBV8nPmofmCYAPyjPXmoR4hvpT4keG8SSK00yG5tXjjG0M0TsWGRkgkA4Oa39S8O6Xq04mvrYvJt2FkleMuv91tpG4cng5FRX3hTRNRk33dirHyfIIR2QNH2UhSAQO2enalrytFJpSv/XQ52LU9d1O9MEGrm0CaLBeErbRuWlbdk8joccj8sU/S9Y1iW78OS31+s0GuQP5lukKosJEe8FWHzexyT7Yrp4ND061mMsFvtdrZbQnex/dLnavJ7ZPPWkTQdNjXT1S2wNNUpa/vG/dgrtPfnjjnNU7a/wBd/wDgEK9tf60X6nO2mmWVx4i0+30K2WKz0J3866AyZJCpXyg3Vj82WPrgdayreKJfCOi3kKL9ubXAWlx87O07K4J6/dyD7V1dh4N0XS5ImsIbmERNvRBfTlAc5+6XwefUVYj8NaRDqv8AaMdkq3O8yA722hz1YJnaGPqBmkt1/XVMb6/13MSfTLWy+KGmXECN511a3TzO8jOWwUwOScAZOAOBVrxJDDqOpafoUcUZN1J9ouyFGRBGQSD/ALzbV+hNbsmnWs2pQX8kWbm3R44pNx+VWxuGM4OcDrQmnWsepy6gsX+lTRrE8hYn5VJIABOByT0oXTyDq33LI46UUUUAFFFFABRRRQAUUUUAFFFMlljgheaeRY4o1LO7nCqBySSegoAfTIvuH/eb+ZrmtN1u71vXba5huorDR23rawTKBNqeF5dQeVReCMckdevHSxfcP+838zQA+uP8Ravqtjqtw63clpp1vGjLNBbJcIrc7vPGd6jpjaBxzmuwrKv/AA1pOp3Rub208yRgFfEjKJAOgdQQHHswNHUDn7vxDqKaX4vnhuhu08KbRljUhAYVbjjnkk85qG+1XXJbrXzaasbaPTLCG5jQW8b7mMbMwJI6Hb/hiui1DwloeqTyy3tiHaZBHKFkdFcAYGQpAJHY9R2qydC04tek2/N9CsFx87fOiqVA68cE8jBpPYcbJ6/1qjnrO91SbWdPs9SvvtNtrOnSTPEkQj8hgE+4w+bGH7knim2Fja3WvQT6FbJBp+iwS263CLj7RIRgoD/Eq45P978a6OTQ9Oke3d7fLW1u1tERIw2xsACvX0Uc9aq6d4S0fSZYX0+K5i8n/Vp9tmZF/wCAFyv6U3Z7f1v+jJV0tf62/U5PTIootA8D3NtGgupLtfMkAwzbo3MuT1POSfpWra6Za6d8VQ1qjB7jS5JJXeRnZ285ecsT+XQVuWnhrSLHUTfWtksdxlip3sVQt94qpO1Se+AM1bOnWp1VdSMX+lrCYBJuPCEhiMZx1A5xmmnrf1/FWH0t6fnc86mQlrqcWynTf+EgWRtTJHnowkAKhOu0N8m7PQ/dr0+shvCuivqRvmsVM5k80je2wyf3ymdpb3xmtektIpf1sl+gP4m/63YUUUUAFFFFABRRRQAUUUUAFFFFABRRRQAUUVyjeIJ9Y1iAaTfQWOkQXKxyX0wU/b5M/wCohz1BwRuHJPTgcgHUJ9+T/e/oKfTE+/J/vf0FPoAKKKKACiiigAooooAKKKKACiiigAooooAKKKKACiiigAooooAKKKKACiiigAooooAKKKKACiiigAooooAKKKKACiiigAooooAKKKKACiiigAooooAKKKKACiiigAooooAKKKKACiiigAooooAKKKKACiiigAooooAKKKKACiiigAooooAKKKKACiiigAooooAKKKKACiiigAooooAKKKKACiiigAooooAKKKKACiiigAooooAKKKKACiiigAooooALjPk8ddy/zFMzL/cT/vs/4U+f/Vf8CX/0IUUAMzL/AHE/77P+FGZf7if99n/Cn0UAMzL/AHE/77P+FGZf7if99n/Cn0UAMzL/AHE/77P+FGZf7if99n/Cn1l6r4l0bRLiGDVNQigmmKiOI5Z23MEB2jJwWIGemaAI9b0Q679kiu5CLOGbzJ7UN8lyAPlVuM4DYOOhxyDwQyy8PR22uXOrXAW7upGAt3lx/osQXHlpgYA5bkAEg85OSduigCG1SVhKVVP9Yc5Yjn8qn8qf+7H/AN9n/CksPuTf9dW/pVqgCt5U/wDdj/77P+FHlT/3Y/8Avs/4VR1jxVpGhXCQajcSCZk8wpBbSTlE6b3EatsTg/M2BweaS/8AFug6Z9l+26pbobsI0Cq29pFdgqsAuTtJIG7pz1oAv+VP/dj/AO+z/hR5U/8Adj/77P8AhVPW/E+jeHURta1CG1LqWRGyzsoxkhRkkDIyccZp+r6/p2hxxNqMsgaYkRRQQSTyyEDJ2xxqzHA64HFAeRZ8qf8Aux/99n/Cjyp/7sf/AH2f8Kz5vFuiQ6Nb6ob3zLW5fy4PIieWSV+cosaguWG1sqBkbTkcGlPivRRoa6v9tzZtJ5SlYnMhk3bfL8sDfvyCNmN2R0oAv+VP/dj/AO+z/hR5U/8Adj/77P8AhVBPFeivocmr/bNlnE/lyGSJ0kR8gBDGwDhySAFI3HI45qxo+u6frtvJLpszv5T+XLHLC8MkTYBw8bgMpwQeQOCDQBP5U/8Adj/77P8AhR5U/wDdj/77P+FZt34x0Ky1U6dc3pWdXWORhBI0UTtjajyhSiMdwwGYE5HrU1z4n0a01qDSJ9QhGoTuI0t1yzbipYA4ztyFJGcZxQBc8qf+7H/32f8ACjyp/wC7H/32f8Kz9X8XaJod2LbU7wxy7BLIEgkkEKEkB5CikRrwfmcgcHnil1bxZo2iTRxahdsryR+bthgkm2R/89H2Kdif7TYX3oAv+VP/AHY/++z/AIUeVP8A3Y/++z/hVHVPFOj6Otuby6ZjcoZIktoJLhmQYy+2NWOwZGWxgZHNF94q0bT7K0upbwyxXq7rUWkL3DzrjO5EjDMygEEkDAzzQBe8qf8Aux/99n/Cjyp/7sf/AH2f8Kbb6pY3WkrqdvdRPZNH5onDfLsAyTntjv6UzRtZsPEOj2+q6PcC5srld0MoVl3jJGcMAeoPagCXyp/7sf8A32f8Kytb8PNrv2SK7lxZwzeZPah/kuQB8qtxnAbBx0OOQeCN6igDnrLwwltrlzq1xsu7qRgLd5T/AMesQXHlpgYA5bkAEg85OSdSKOYocKn3m6ufU+1Xajg/1Z/33/8AQjQBF5U/92P/AL7P+FHlT/3Y/wDvs/4VZooAreVP/dj/AO+z/hR5U/8Adj/77P8AhVmigCt5U/8Adj/77P8AhR5U/wDdj/77P+FYV38QdBsJXS8GrQhJBE0jaJe+XuLbR8/lbSCSADnBzVu68Y6FZaqdOub1lnV1jkYQSNFE7Y2o8oUojHcuAzAnI9aFrsBpeVP/AHY/++z/AIUeVP8A3Y/++z/hWdqXi/RNJ1H7Df3jRzAKZCsEjxwhvumSRVKx57byM0av4s0rRL6OyvTeyXMkXmrHZ6dcXRCZxuPlI20Z9cUroDR8qf8Aux/99n/Cjyp/7sf/AH2f8KzdR8YaLpXkfbrmaNpoROEW0ld44/78iqpMa+pcKBg56U/VPFWj6P8AZ/tl07G4QyxLbQSXDGMYzJiNWIQZHzHjnrTAv+VP/dj/AO+z/hR5U/8Adj/77P8AhWfqXizR9LtLG5uLiaaLUP8Aj1+xWst00w27sqsSscbec4xV/TtQg1SwjvLVbhYpM7RcW0kD8HHKSKrDp3HvQFxfKn/ux/8AfZ/wo8qf+7H/AN9n/Cs6z8X6Hf6t/Ztrel7hmdIyYJFjlZM7ljkKhJCMHIUkjB9KIPGGh3Os/wBmQ3pa4MrQqxgkETyLndGspXYzjacqGJGDxxRuBo+VP/dj/wC+z/hR5U/92P8A77P+FZx8XaIutf2UbtvtPm+SW8iTyhL/AM8zLt8sPz93dn2ouvGGh2Wr/wBm3F6VuA6ROwgkaKJ2xtR5QuxGO5cKzAnI9RQtdgNHyp/7sf8A32f8KPKn/ux/99n/AArOvPF2iWGrf2ddXjLcBkSQrBI0cTNjaskgUpGTkYDEE5HrUGq+OdG0W4uItQTVU+zAmWWPRryWJQBknzEiKEAdwcUrrcdmbHlT/wB2P/vs/wCFHlT/AN2P/vs/4VSuvE+kWVvZS3FywN+oa1hSCR5pQQDkRKpfAyM8cZ5xTda8VaXoF1b2uoNdtcXKPJFDaWE905VCoZiIkYgAsoycdafkJa7F/wAqf+7H/wB9n/Cjyp/7sf8A32f8Kzb7xjoWmWdtc6jf/ZFuo/MiinidJivAyYiu8YJGcqMZ5q/qmr2Gi2X2rVLlLeHcEUtkl2PRVUcsx7AAk0AUdc0SfW9MNibhraKR187yn5ljz80ZOMgMMjgj8RkGqnhGAa3FfSxxTQ2sKR2No/8Aq7Qg5LIMdTheTyCOvQDftrhLu0iuIRII5kDqJY2jYAjIyrAMp9iAR3qWjYClHHNvkwqfe5+c+g9qk8qf+7H/AN9n/CpYv9ZN/vj/ANBFSUAVvKn/ALsf/fZ/wo8qf+7H/wB9n/CrNFAFbyp/7sf/AH2f8KPKn/ux/wDfZ/wqzRQBW8qf+7H/AN9n/Cjyp/7sf/fZ/wAKs0UAVvKn/ux/99n/AAo8qf8Aux/99n/CrNFAFbyp/wC7H/32f8KPKn/ux/8AfZ/wqzRQBW8qf+7H/wB9n/Cjyp/7sf8A32f8Ks0UAVvKn/ux/wDfZ/wo8qf+7H/32f8ACrNFAFbyp/7sf/fZ/wAKPKn/ALsf/fZ/wqzRQBW8qf8Aux/99n/Cjyp/7sf/AH2f8Ks0UAVvKn/ux/8AfZ/wo8qf+7H/AN9n/CrNFAFbyp/7sf8A32f8KPKn/ux/99n/AAqzRQBW8qf+7H/32f8ACjyp/wC7H/32f8Ks0UAVvKn/ALsf/fZ/wo8qf+7H/wB9n/CrNFAFbyp/7sf/AH2f8KPKn/ux/wDfZ/wqzRQBW8qf+7H/AN9n/Cjyp/7sf/fZ/wAKs0UAVvKn/ux/99n/AAo8qf8Aux/99n/CrNFAFbyp/wC7H/32f8KPKn/ux/8AfZ/wqzRQBW8qf+7H/wB9n/Cjyp/7sf8A32f8Ks0UAVvKn/ux/wDfZ/wo8qf+7H/32f8ACrNFAFbyp/7sf/fZ/wAKPKn/ALsf/fZ/wqzRQBW8qf8Aux/99n/Cjyp/7sf/AH2f8Ks0UAVvKn/ux/8AfZ/wo8qf+7H/AN9n/CrNFAFbyp/7sf8A32f8KPKn/ux/99n/AAqzRQBW8qf+7H/32f8ACjyp/wC7H/32f8Ks0UAVvKn/ALsf/fZ/wo8qf+7H/wB9n/CrNFAFbyp/7sf/AH2f8KPKn/ux/wDfZ/wqzRQBW8qf+7H/AN9n/Cjyp/7sf/fZ/wAKs0UAVvKn/ux/99n/AAo8qf8Aux/99n/CrNFAFbyp/wC7H/32f8KPKn/ux/8AfZ/wqzRQBW8qf+7H/wB9n/Cjyp/7sf8A32f8Ks0UAVvKn/ux/wDfZ/wo8qf+7H/32f8ACrNFAFbyp/7sf/fZ/wAKPKn/ALsf/fZ/wqzRQBW8qf8Aux/99n/Cjyp/7sf/AH2f8Ks0UAVvKn/ux/8AfZ/wo8qf+7H/AN9n/CrNFAFbyp/7sf8A32f8KPKn/ux/99n/AAqzRQBW8qf+7H/32f8ACjyp/wC7H/32f8Ks0UAVvKn/ALsf/fZ/wo8qf+7H/wB9n/CrNFAFbyp/7sf/AH2f8KPKn/ux/wDfZ/wqzRQBW8qf+7H/AN9n/Cjyp/7sf/fZ/wAKs0UAVvKn/ux/99n/AAo8qf8Aux/99n/CrNFAFbyp/wC7H/32f8KPKn/ux/8AfZ/wqzRQBW8qf+7H/wB9n/Cjyp/7sf8A32f8Ks0UAVvKn/ux/wDfZ/wo8qf+7H/32f8ACrNFAFbyp/7sf/fZ/wAKPKn/ALsf/fZ/wqzRQBW8qf8Aux/99n/Cjyp/7sf/AH2f8Ks0UAVvKn/ux/8AfZ/wo8qf+7H/AN9n/CrNFAFbyp/7sf8A32f8KPKn/ux/99n/AAqzRQBW8qf+7H/32f8ACjyp/wC7H/32f8Ks0UAVZ/8AVf8AAl/9CFFE/wDqv+BL/wChCigAooooAKKKKACuX+In/InN/wBf9j/6VxV1FRXNrb3kPk3cEc8W5W2SoGXKkMpwe4IBHoQKBxdnclooooEFh9yb/rq39KtVVsPuTf8AXVv6VaoA5bxDP5lxqFroF/pmna0tqkl3LeWZdnt/3gTD7lHDbsE7wuTleawtQe3k+B+iNZW8ttbn+yvKhmbc6L9ogwCe/Heu41LQ9J1hoTq+l2V+YG3RG6t0l8tvVdwOD9Ks3Fpb3cHkXdvFPFuVvLlQMuVIZTg9wQCPQgULb7vw/r+rjTtJM574jf8AJONc/wCvRqtazcQrfWtrZ3Fjaa9PBIbGe9s2mUIChlUYZOo2/KHBOAcEKa17m2gvLaS3u4Y54JBteKVAysPQg8GodS0nTtZs/smsafa39tkHybqFZUz67WBFAlvc848NSxx3/hiS4K8anqsEtwXBjnuizkuh4wG2yYHYcc9SkUit4ls75XVtP/4TGf8Aeg5jybJ4wc9P9blf973r0e50fTLzS/7Mu9OtJ7DaF+ySwK0WB0GwjGB9KG0jTX0n+y30+1bT9nl/ZDCpi2/3dmMY9sU0+WV/l+X+QPX8fxTXz3/q55zeSR/8JHqt6WU2CeLLESS5+QEW0SdenEhUH0P0rp9HuYD8QfE0yzR+SsdlAz7ht83Dkr/vYdOPcVvw6RptvpX9mQafaxafsKfZEgURbT1XYBjHtimW+g6RaadHYWmlWUFnFIJI7aO3RY0cHcGCgYBBAIPqKUUkrf1sl+gS953/AK6/5nF+N7qCbQNUOk3NiNOtbkLrFilsY7m5k3ISqyZADMCoyUYtkYYcEbPjH/kKeEOMf8Txf/SaetubQtJudVi1O40uyl1CEYiu5LdGlQezkZH4GrU1rb3LwtcQRytBJ5kRkQMY3wRuXPQ4JGR2JpLRLya/C39eQ1o2+6a+9P8AzOK8WQ3+gTa5rNrLphsdSs1juBfO4eJ0VlGxVB83duA8vK89DziqEGmat4R0W31eS400K2h2tnqP9pyshhaFGw67VO/JkIKZXJAwea7+40vT7u+t726sbae6tc+RPJCrPDnGdrEZXOB09KLrS9Pvrq3ub2xtrme1Ja3lmhV2hJxkqSMrnA6egot7rXf/AIP+YdU+3/A/yOA0TSdY8NeG9B1ky6fFJb6FDZ6hHqczQLAq4cMGCtyuWBU4zx8wxTPDmkavYeG/DviGB7AXFtZXEc8GoO1tEIJpRKGDbXMZUKvykHjgkYzXoV7pen6k0B1Gxtrs27+ZCZ4VfynxjcuRwcHqKL/S7DVYo4tUsba9jikEsaXEKyBHGcMAwOCMnn3qm7u6/q97/m/62Xr/AF2/L+uvl+lrrk/hLT7d9CvNW0u+v7y/ujpzQxiSJrh3ijCyyofLfIc8nK4H8Rx0XwlvzL8OdNW5tJrEiSWOIXDR/vv3jtldrNx1HOD8p4xye4AAGAMD0qmmkabHFbRR6farHauZLdFgUCFiCCyDHykhm5HqfWkJ6u7J4rqCcgQzxyEqHARwcqeh+nB5qWqlppWn2DK1jYWtsyxCFTDCqERgkhBgfdBJOOnJq3QMKjg/1Z/33/8AQjUlRwf6s/77/wDoRoAkooooAKKKKAOX1hhrfjPTtEX5rbT1Gp3o7EgkQIfq4Z/+2Q9axPG91BNoGqHSbmxGnWtyF1ixS2MdzcybkJVZMgBmBUZKMWyMMOCO+jtbeG4mnigjjmnIMsioA0hAwNx74HHNVZtC0m51WLU7jS7KXUIRiK7kt0aVB7ORkfgaFpb+v600+4HqeaeKGnf/AIT2azurW006NEGq2lyhM91i3UsYn3ARboyEBKuCynAFb2qwJca9d6jpfimXQ7y30eFntpLaMqsYaRlZzIDlckhtpBG0fMK6280HR9Q1CC/v9Ksbq8tv9RcTWyPJF/usRkfhS6joek6xJA+raXZXz27boWubdJDEfVdwOD9KVtLf1tb+l8h3/r7v8v6scOt3qkOmR+Nm/su1j1bRrcahFqMjx/ZmVXYMmFJcfvSPLJXOByCTUPgKGbQ9TsoNdZbeZfCtkB5xC7fLaXzRz027kz6cV6FdaXp99dW1ze2NtcT2pJt5ZoVdoScZKkjK5wOnoKZqWi6XrUcaaxptnfpE++NbqBZQjeoDA4PvVN6u3X/g/wCf6C6W/rp/kefaDYx33h/wbFHr8+i3q2M8tr5UCM0sZ28qZFZBhSpwQTgnHQkdV4M1yfVvDiS6nPDPcrcXFus0YCi7WKVkEqr/ALQUHjjnjitjUtH0zWLIWer6daX9sCCILqBZUBHQ7WBFSLp9mjW7JaQK1qpW3IjAMKkYIXj5RgAcUrLUOx5XoLzi38Gz3F1bS6PLqLnTtPiUi6tnZJdokfJEmwMwZQqEdy205uWU0R8A+F7NHT7auuxRtECN/mx3LGXj1AVyfbNeg2+g6PaapLqVrpVjBfz/AOtu47ZFlk/3nAyfxNLHomlRavJqsWmWaajIu17xbdBMw9C+MkfjQtGn2d/ut/lv/kKXvX81b77/AOe3+Z5uzhfhtcWTsPt//CUlPKz85c6mJBx1z5eG+nPSptTmhj8CeN7SR0W8bVZoxGSA7PIYzCAOpJDJivQjomlNrA1ZtMszqQXYLw26ecF9N+N2PbNE2iaVcarFqdxplnLqEI2xXb26NLGPRXIyPwNC3u/62/y/Hy1qT5lbzv8An/meda1IsfgP4jWruqX0l3MqITh3eSGMQ49ScqB7/Suq8WMdSk0zwuhJOpvvvAO1rFgyZ9mJSP8A4GfStu40TSrvVIdSutMs5r+3GIbqS3RpYx/suRkfgas/ZbcXhuxBH9pMflmbYN5TOdu7rjPOKaekV2t+C/4GpNrXt5/i/wCrHAapDdt8SNalj186IbfR7d7dvJibegeUvzICNgO3cFwfu/MOKWGSXxNNouqv4hk8O6y+hCd7eO2Q/JIUZmzKpXaGQAgfMARkjIz22o6LpeseT/a2m2d99nffD9pgWTy29V3A4PuKTU9E0rWo449Y0yz1BIm3xrdW6ShG9QGBwaS0X9ef+f8AV9G7P+vT/L+uvGavq1xrvwMfU70R+fcWqM7RDCP+8A3qOytjcPY1Z8Y29zd+PfDEKam2lwmK8KXCxo7Cfam0J5gKh9hkwSp43cdx2U9pbXVq1rc28U1uwAaKRAyEDoMHio9R0yw1eza01ayt762cgtBcxLIjY9VYEUn8VxRVtzJ8Gapd6rocr386XUlveT2y3caBRcLHIVEmBxk45xxkHFdBUcEENrbpBbRJDDGoVI41CqoHQADgCpKYyOL/AFk3++P/AEEVJUcX+sm/3x/6CKkoAKKKKACiiigAooooAKKKKACiiigAooooAKKKKACiiigAooooAKKKKACiiigAooooAKKKKACiiigAooooAKKKKACiiigAooooAKKKKACiiigAooooAKKKKACiiigAooooAKKKKACiiigAooooAKKKKACiiigAooooAKKKKACiiigAooooAKKKKACiiigAooooAKKKKACiiigAooooAKKKKACiiigAooooAKKKKACiiigAooooAKKKKACiiigAooooAq3AJhwuN25cZ6ZyKZ5N36wfrUkv3V/31/8AQhVmgCl5N36wfrR5N36wfrV2igCl5N36wfrR5N36wfrV2igCl5N36wfrR5N36wfrV2igCl5N36wfrR5N36wfrV2igClFDeQhgpgO5ixznrUn+m/9O/8A49VmigCt/pv/AE7/APj1H+m/9O//AI9VmigCt/pv/Tv/AOPUf6b/ANO//j1WaKAK3+m/9O//AI9R/pv/AE7/APj1WaKAK3+m/wDTv/49R/pv/Tv/AOPVZooArf6b/wBO/wD49R/pv/Tv/wCPVZooArf6b/07/wDj1H+m/wDTv/49VmigCt/pv/Tv/wCPUf6b/wBO/wD49VmigCt/pv8A07/+PUf6b/07/wDj1WaKAK3+m/8ATv8A+PUf6b/07/8Aj1WaKAK3+m/9O/8A49TY0vkUg/Z/vE/xdyTVuigCt/pv/Tv/AOPUf6b/ANO//j1WaKAK3+m/9O//AI9R/pv/AE7/APj1WaKAK3+m/wDTv/49R/pv/Tv/AOPVZooArf6b/wBO/wD49R/pv/Tv/wCPVZooArf6b/07/wDj1H+m/wDTv/49VmigCt/pv/Tv/wCPUf6b/wBO/wD49VmigCt/pv8A07/+PUf6b/07/wDj1WaKAK3+m/8ATv8A+PUf6b/07/8Aj1WaKAK3+m/9O/8A49R/pv8A07/+PVZooArf6b/07/8Aj1H+m/8ATv8A+PVZooArf6b/ANO//j1H+m/9O/8A49VmigCt/pv/AE7/APj1H+m/9O//AI9VmigCoiXytIT9n+Zsj73oB/Snf6b/ANO//j1WaKAK3+m/9O//AI9R/pv/AE7/APj1WaKAK3+m/wDTv/49R/pv/Tv/AOPVZooArf6b/wBO/wD49R/pv/Tv/wCPVZooArf6b/07/wDj1H+m/wDTv/49VmigCt/pv/Tv/wCPUf6b/wBO/wD49VmigCt/pv8A07/+PUf6b/07/wDj1WaKAK3+m/8ATv8A+PUf6b/07/8Aj1WaKAK3+m/9O/8A49R/pv8A07/+PVZooArf6b/07/8Aj1H+m/8ATv8A+PVZooArf6b/ANO//j1H+m/9O/8A49VmigCt/pv/AE7/APj1H+m/9O//AI9VmigCt/pv/Tv/AOPUf6b/ANO//j1WaKAK3+m/9O//AI9R/pv/AE7/APj1WaKAK3+m/wDTv/49R/pv/Tv/AOPVZooArf6b/wBO/wD49R/pv/Tv/wCPVZooArf6b/07/wDj1H+m/wDTv/49VmigCt/pv/Tv/wCPUf6b/wBO/wD49VmigCt/pv8A07/+PUf6b/07/wDj1WaKAK3+m/8ATv8A+PUf6b/07/8Aj1WaKAK3+m/9O/8A49R/pv8A07/+PVZooArf6b/07/8Aj1H+m/8ATv8A+PVZooArf6b/ANO//j1H+m/9O/8A49VmigCt/pv/AE7/APj1H+m/9O//AI9VmigCt/pv/Tv/AOPUf6b/ANO//j1WaKAK3+m/9O//AI9R/pv/AE7/APj1WaKAK3+m/wDTv/49R/pv/Tv/AOPVZooArf6b/wBO/wD49R/pv/Tv/wCPVZooArf6b/07/wDj1H+m/wDTv/49VmigCt/pv/Tv/wCPUf6b/wBO/wD49VmigCt/pv8A07/+PUf6b/07/wDj1WaKAK3+m/8ATv8A+PUf6b/07/8Aj1WaKAK3+m/9O/8A49R/pv8A07/+PVZooArf6b/07/8Aj1H+m/8ATv8A+PVZooArf6b/ANO//j1H+m/9O/8A49VmigCt/pv/AE7/APj1H+m/9O//AI9VmigCt/pv/Tv/AOPUf6b/ANO//j1WaKAK3+m/9O//AI9R/pv/AE7/APj1WaKAK3+m/wDTv/49R/pv/Tv/AOPVZooArf6b/wBO/wD49R/pv/Tv/wCPVZooArf6b/07/wDj1H+m/wDTv/49VmigCt/pv/Tv/wCPUf6b/wBO/wD49VmigCt/pv8A07/+PUf6b/07/wDj1WaKAK3+m/8ATv8A+PUf6b/07/8Aj1WaKAK3+m/9O/8A49R/pv8A07/+PVZooArf6b/07/8Aj1H+m/8ATv8A+PVZooArf6b/ANO//j1H+m/9O/8A49VmigCt/pv/AE7/APj1H+m/9O//AI9VmigCt/pv/Tv/AOPUf6b/ANO//j1WaKAK0v3V/wB9f/QhVmq0v3V/31/9CFWaACiiigAooooAKKKKACiiigAooooAKKKKACiiigAooooAKKKKACiiigAooooAKKKKACiiigAooooAKKKKACiiigAooooAKKKKACiiigAooooAKKKKACiiigAooooAKKKKACiiigAooooAKKKKACiiigAooooAKKKKACiiigAooooAKKKKACiiigAooooAKKKKACiiigAooooAKKKKACiiigAooooAKKKKACiiigAooooAKKKKACiiigAooooAKKKKACiiigAooooAKKKKACiiigAooooAKKKKACiiigAooooAKKKKACiiigAooooAKKKKACiiigAooooAKKKKACiiigAooooAKKKKACiiigAooooAKKKKACiiigAooooAKKKKACiiigAooooAKKKKACiiigCtL91f99f/AEIVZqtL91f99f8A0IVZoAKKKKACiiigAooooAKKKKACiiigAooooAKKKKACiiigAooooAKKKKACiiigAooooAKKKKACiiigAooooAKKKKACiiigAooooAKKKKACiiigAooooAKKKKACiiigAooooAKKKKACiiigAooooAKKKKACiiigAooooAKKKKACiiigAooooAKKKKACiiigAooooAKKKKACiiigAooooAKKKKACiiigAooooAKKKKACiiigAooooAKKKKACiiigAooooAKKKKACiiigAooooAKKKKACiiigAooooAKKKKACiiigAooooAKKKKACiiigAooooAKKKKACiiigAooooAKKKKACiiigAooooAKKKKACiiigAooooAKKKKACiiigAooooAKKKKACiiigAooooAKKKKAP/9k=)"
      ],
      "metadata": {
        "id": "Nx8mqtOARsty"
      }
    },
    {
      "cell_type": "markdown",
      "source": [
        "This is query I am able to run in BigQuery but not able to convert or run in colab. The % increase from 2017 to 2018 is (7385905.800 ÷ 3113000.31)*100 =  237.26%\n",
        "\n",
        "**237.26 is percentage increase from 2017 to 2018**"
      ],
      "metadata": {
        "id": "8qiew8F-SFJs"
      }
    },
    {
      "cell_type": "code",
      "source": [
        "query_mean_sum = '''select AVG(freight_value)as mean_freight_value, AVG(price) as mean_price , SUM(freight_value)as sum_freight_value, SUM(price) as sum_price,cust.customer_state from `target_db.order_items` as item\n",
        "left join `target_db.orders` as ord on item.order_id =ord.order_id left join `target_db.customers` as cust on ord.customer_id = cust.customer_id group by cust.customer_state'''\n",
        "df_mean_sum = client.query(query_mean_sum).to_dataframe()\n",
        "df_mean_sum.head()"
      ],
      "metadata": {
        "colab": {
          "base_uri": "https://localhost:8080/",
          "height": 206
        },
        "id": "F8zXaQtUSlaN",
        "outputId": "8ab5451d-a560-4f5c-a320-f5dc590f0618"
      },
      "execution_count": null,
      "outputs": [
        {
          "output_type": "execute_result",
          "data": {
            "text/plain": [
              "   mean_freight_value  mean_price  sum_freight_value     sum_price  \\\n",
              "0           15.147275  109.653629          718723.07  5.202955e+06   \n",
              "1           20.960924  125.117818          305589.31  1.824093e+06   \n",
              "2           20.531652  119.004139          117851.68  6.830838e+05   \n",
              "3           21.470369  124.653578           89660.26  5.205533e+05   \n",
              "4           21.041355  125.770549           50625.50  3.026039e+05   \n",
              "\n",
              "  customer_state  \n",
              "0             SP  \n",
              "1             RJ  \n",
              "2             PR  \n",
              "3             SC  \n",
              "4             DF  "
            ],
            "text/html": [
              "\n",
              "  <div id=\"df-8058aaa7-6c46-46f1-a23c-7dfb9d390b20\">\n",
              "    <div class=\"colab-df-container\">\n",
              "      <div>\n",
              "<style scoped>\n",
              "    .dataframe tbody tr th:only-of-type {\n",
              "        vertical-align: middle;\n",
              "    }\n",
              "\n",
              "    .dataframe tbody tr th {\n",
              "        vertical-align: top;\n",
              "    }\n",
              "\n",
              "    .dataframe thead th {\n",
              "        text-align: right;\n",
              "    }\n",
              "</style>\n",
              "<table border=\"1\" class=\"dataframe\">\n",
              "  <thead>\n",
              "    <tr style=\"text-align: right;\">\n",
              "      <th></th>\n",
              "      <th>mean_freight_value</th>\n",
              "      <th>mean_price</th>\n",
              "      <th>sum_freight_value</th>\n",
              "      <th>sum_price</th>\n",
              "      <th>customer_state</th>\n",
              "    </tr>\n",
              "  </thead>\n",
              "  <tbody>\n",
              "    <tr>\n",
              "      <th>0</th>\n",
              "      <td>15.147275</td>\n",
              "      <td>109.653629</td>\n",
              "      <td>718723.07</td>\n",
              "      <td>5.202955e+06</td>\n",
              "      <td>SP</td>\n",
              "    </tr>\n",
              "    <tr>\n",
              "      <th>1</th>\n",
              "      <td>20.960924</td>\n",
              "      <td>125.117818</td>\n",
              "      <td>305589.31</td>\n",
              "      <td>1.824093e+06</td>\n",
              "      <td>RJ</td>\n",
              "    </tr>\n",
              "    <tr>\n",
              "      <th>2</th>\n",
              "      <td>20.531652</td>\n",
              "      <td>119.004139</td>\n",
              "      <td>117851.68</td>\n",
              "      <td>6.830838e+05</td>\n",
              "      <td>PR</td>\n",
              "    </tr>\n",
              "    <tr>\n",
              "      <th>3</th>\n",
              "      <td>21.470369</td>\n",
              "      <td>124.653578</td>\n",
              "      <td>89660.26</td>\n",
              "      <td>5.205533e+05</td>\n",
              "      <td>SC</td>\n",
              "    </tr>\n",
              "    <tr>\n",
              "      <th>4</th>\n",
              "      <td>21.041355</td>\n",
              "      <td>125.770549</td>\n",
              "      <td>50625.50</td>\n",
              "      <td>3.026039e+05</td>\n",
              "      <td>DF</td>\n",
              "    </tr>\n",
              "  </tbody>\n",
              "</table>\n",
              "</div>\n",
              "      <button class=\"colab-df-convert\" onclick=\"convertToInteractive('df-8058aaa7-6c46-46f1-a23c-7dfb9d390b20')\"\n",
              "              title=\"Convert this dataframe to an interactive table.\"\n",
              "              style=\"display:none;\">\n",
              "        \n",
              "  <svg xmlns=\"http://www.w3.org/2000/svg\" height=\"24px\"viewBox=\"0 0 24 24\"\n",
              "       width=\"24px\">\n",
              "    <path d=\"M0 0h24v24H0V0z\" fill=\"none\"/>\n",
              "    <path d=\"M18.56 5.44l.94 2.06.94-2.06 2.06-.94-2.06-.94-.94-2.06-.94 2.06-2.06.94zm-11 1L8.5 8.5l.94-2.06 2.06-.94-2.06-.94L8.5 2.5l-.94 2.06-2.06.94zm10 10l.94 2.06.94-2.06 2.06-.94-2.06-.94-.94-2.06-.94 2.06-2.06.94z\"/><path d=\"M17.41 7.96l-1.37-1.37c-.4-.4-.92-.59-1.43-.59-.52 0-1.04.2-1.43.59L10.3 9.45l-7.72 7.72c-.78.78-.78 2.05 0 2.83L4 21.41c.39.39.9.59 1.41.59.51 0 1.02-.2 1.41-.59l7.78-7.78 2.81-2.81c.8-.78.8-2.07 0-2.86zM5.41 20L4 18.59l7.72-7.72 1.47 1.35L5.41 20z\"/>\n",
              "  </svg>\n",
              "      </button>\n",
              "      \n",
              "  <style>\n",
              "    .colab-df-container {\n",
              "      display:flex;\n",
              "      flex-wrap:wrap;\n",
              "      gap: 12px;\n",
              "    }\n",
              "\n",
              "    .colab-df-convert {\n",
              "      background-color: #E8F0FE;\n",
              "      border: none;\n",
              "      border-radius: 50%;\n",
              "      cursor: pointer;\n",
              "      display: none;\n",
              "      fill: #1967D2;\n",
              "      height: 32px;\n",
              "      padding: 0 0 0 0;\n",
              "      width: 32px;\n",
              "    }\n",
              "\n",
              "    .colab-df-convert:hover {\n",
              "      background-color: #E2EBFA;\n",
              "      box-shadow: 0px 1px 2px rgba(60, 64, 67, 0.3), 0px 1px 3px 1px rgba(60, 64, 67, 0.15);\n",
              "      fill: #174EA6;\n",
              "    }\n",
              "\n",
              "    [theme=dark] .colab-df-convert {\n",
              "      background-color: #3B4455;\n",
              "      fill: #D2E3FC;\n",
              "    }\n",
              "\n",
              "    [theme=dark] .colab-df-convert:hover {\n",
              "      background-color: #434B5C;\n",
              "      box-shadow: 0px 1px 3px 1px rgba(0, 0, 0, 0.15);\n",
              "      filter: drop-shadow(0px 1px 2px rgba(0, 0, 0, 0.3));\n",
              "      fill: #FFFFFF;\n",
              "    }\n",
              "  </style>\n",
              "\n",
              "      <script>\n",
              "        const buttonEl =\n",
              "          document.querySelector('#df-8058aaa7-6c46-46f1-a23c-7dfb9d390b20 button.colab-df-convert');\n",
              "        buttonEl.style.display =\n",
              "          google.colab.kernel.accessAllowed ? 'block' : 'none';\n",
              "\n",
              "        async function convertToInteractive(key) {\n",
              "          const element = document.querySelector('#df-8058aaa7-6c46-46f1-a23c-7dfb9d390b20');\n",
              "          const dataTable =\n",
              "            await google.colab.kernel.invokeFunction('convertToInteractive',\n",
              "                                                     [key], {});\n",
              "          if (!dataTable) return;\n",
              "\n",
              "          const docLinkHtml = 'Like what you see? Visit the ' +\n",
              "            '<a target=\"_blank\" href=https://colab.research.google.com/notebooks/data_table.ipynb>data table notebook</a>'\n",
              "            + ' to learn more about interactive tables.';\n",
              "          element.innerHTML = '';\n",
              "          dataTable['output_type'] = 'display_data';\n",
              "          await google.colab.output.renderOutput(dataTable, element);\n",
              "          const docLink = document.createElement('div');\n",
              "          docLink.innerHTML = docLinkHtml;\n",
              "          element.appendChild(docLink);\n",
              "        }\n",
              "      </script>\n",
              "    </div>\n",
              "  </div>\n",
              "  "
            ]
          },
          "metadata": {},
          "execution_count": 94
        }
      ]
    },
    {
      "cell_type": "code",
      "source": [],
      "metadata": {
        "id": "H9eubVKIrZrk"
      },
      "execution_count": null,
      "outputs": []
    },
    {
      "cell_type": "code",
      "source": [
        "query_estimate = '''select date_diff( DATE(ord.order_delivered_customer_date) , DATE(ord.order_purchase_timestamp),DAY) as actual_delivery_days, date_diff( DATE(ord.order_delivered_customer_date) , DATE(ord.order_estimated_delivery_date),DAY) as Estimated_delivery_days from `target_db.orders` as ord'''\n",
        "df_estimate = client.query(query_estimate).to_dataframe()\n",
        "df_estimate.head()\n"
      ],
      "metadata": {
        "colab": {
          "base_uri": "https://localhost:8080/",
          "height": 206
        },
        "id": "_SVFeXOGrZze",
        "outputId": "c190fe28-085d-4b0c-c49d-f36c8b580b9e"
      },
      "execution_count": null,
      "outputs": [
        {
          "output_type": "execute_result",
          "data": {
            "text/plain": [
              "   actual_delivery_days  Estimated_delivery_days\n",
              "0                  30.0                     12.0\n",
              "1                  31.0                    -29.0\n",
              "2                  36.0                    -17.0\n",
              "3                  31.0                     -2.0\n",
              "4                  33.0                     -1.0"
            ],
            "text/html": [
              "\n",
              "  <div id=\"df-9031d6b8-25f7-411a-899f-10b603c49687\">\n",
              "    <div class=\"colab-df-container\">\n",
              "      <div>\n",
              "<style scoped>\n",
              "    .dataframe tbody tr th:only-of-type {\n",
              "        vertical-align: middle;\n",
              "    }\n",
              "\n",
              "    .dataframe tbody tr th {\n",
              "        vertical-align: top;\n",
              "    }\n",
              "\n",
              "    .dataframe thead th {\n",
              "        text-align: right;\n",
              "    }\n",
              "</style>\n",
              "<table border=\"1\" class=\"dataframe\">\n",
              "  <thead>\n",
              "    <tr style=\"text-align: right;\">\n",
              "      <th></th>\n",
              "      <th>actual_delivery_days</th>\n",
              "      <th>Estimated_delivery_days</th>\n",
              "    </tr>\n",
              "  </thead>\n",
              "  <tbody>\n",
              "    <tr>\n",
              "      <th>0</th>\n",
              "      <td>30.0</td>\n",
              "      <td>12.0</td>\n",
              "    </tr>\n",
              "    <tr>\n",
              "      <th>1</th>\n",
              "      <td>31.0</td>\n",
              "      <td>-29.0</td>\n",
              "    </tr>\n",
              "    <tr>\n",
              "      <th>2</th>\n",
              "      <td>36.0</td>\n",
              "      <td>-17.0</td>\n",
              "    </tr>\n",
              "    <tr>\n",
              "      <th>3</th>\n",
              "      <td>31.0</td>\n",
              "      <td>-2.0</td>\n",
              "    </tr>\n",
              "    <tr>\n",
              "      <th>4</th>\n",
              "      <td>33.0</td>\n",
              "      <td>-1.0</td>\n",
              "    </tr>\n",
              "  </tbody>\n",
              "</table>\n",
              "</div>\n",
              "      <button class=\"colab-df-convert\" onclick=\"convertToInteractive('df-9031d6b8-25f7-411a-899f-10b603c49687')\"\n",
              "              title=\"Convert this dataframe to an interactive table.\"\n",
              "              style=\"display:none;\">\n",
              "        \n",
              "  <svg xmlns=\"http://www.w3.org/2000/svg\" height=\"24px\"viewBox=\"0 0 24 24\"\n",
              "       width=\"24px\">\n",
              "    <path d=\"M0 0h24v24H0V0z\" fill=\"none\"/>\n",
              "    <path d=\"M18.56 5.44l.94 2.06.94-2.06 2.06-.94-2.06-.94-.94-2.06-.94 2.06-2.06.94zm-11 1L8.5 8.5l.94-2.06 2.06-.94-2.06-.94L8.5 2.5l-.94 2.06-2.06.94zm10 10l.94 2.06.94-2.06 2.06-.94-2.06-.94-.94-2.06-.94 2.06-2.06.94z\"/><path d=\"M17.41 7.96l-1.37-1.37c-.4-.4-.92-.59-1.43-.59-.52 0-1.04.2-1.43.59L10.3 9.45l-7.72 7.72c-.78.78-.78 2.05 0 2.83L4 21.41c.39.39.9.59 1.41.59.51 0 1.02-.2 1.41-.59l7.78-7.78 2.81-2.81c.8-.78.8-2.07 0-2.86zM5.41 20L4 18.59l7.72-7.72 1.47 1.35L5.41 20z\"/>\n",
              "  </svg>\n",
              "      </button>\n",
              "      \n",
              "  <style>\n",
              "    .colab-df-container {\n",
              "      display:flex;\n",
              "      flex-wrap:wrap;\n",
              "      gap: 12px;\n",
              "    }\n",
              "\n",
              "    .colab-df-convert {\n",
              "      background-color: #E8F0FE;\n",
              "      border: none;\n",
              "      border-radius: 50%;\n",
              "      cursor: pointer;\n",
              "      display: none;\n",
              "      fill: #1967D2;\n",
              "      height: 32px;\n",
              "      padding: 0 0 0 0;\n",
              "      width: 32px;\n",
              "    }\n",
              "\n",
              "    .colab-df-convert:hover {\n",
              "      background-color: #E2EBFA;\n",
              "      box-shadow: 0px 1px 2px rgba(60, 64, 67, 0.3), 0px 1px 3px 1px rgba(60, 64, 67, 0.15);\n",
              "      fill: #174EA6;\n",
              "    }\n",
              "\n",
              "    [theme=dark] .colab-df-convert {\n",
              "      background-color: #3B4455;\n",
              "      fill: #D2E3FC;\n",
              "    }\n",
              "\n",
              "    [theme=dark] .colab-df-convert:hover {\n",
              "      background-color: #434B5C;\n",
              "      box-shadow: 0px 1px 3px 1px rgba(0, 0, 0, 0.15);\n",
              "      filter: drop-shadow(0px 1px 2px rgba(0, 0, 0, 0.3));\n",
              "      fill: #FFFFFF;\n",
              "    }\n",
              "  </style>\n",
              "\n",
              "      <script>\n",
              "        const buttonEl =\n",
              "          document.querySelector('#df-9031d6b8-25f7-411a-899f-10b603c49687 button.colab-df-convert');\n",
              "        buttonEl.style.display =\n",
              "          google.colab.kernel.accessAllowed ? 'block' : 'none';\n",
              "\n",
              "        async function convertToInteractive(key) {\n",
              "          const element = document.querySelector('#df-9031d6b8-25f7-411a-899f-10b603c49687');\n",
              "          const dataTable =\n",
              "            await google.colab.kernel.invokeFunction('convertToInteractive',\n",
              "                                                     [key], {});\n",
              "          if (!dataTable) return;\n",
              "\n",
              "          const docLinkHtml = 'Like what you see? Visit the ' +\n",
              "            '<a target=\"_blank\" href=https://colab.research.google.com/notebooks/data_table.ipynb>data table notebook</a>'\n",
              "            + ' to learn more about interactive tables.';\n",
              "          element.innerHTML = '';\n",
              "          dataTable['output_type'] = 'display_data';\n",
              "          await google.colab.output.renderOutput(dataTable, element);\n",
              "          const docLink = document.createElement('div');\n",
              "          docLink.innerHTML = docLinkHtml;\n",
              "          element.appendChild(docLink);\n",
              "        }\n",
              "      </script>\n",
              "    </div>\n",
              "  </div>\n",
              "  "
            ]
          },
          "metadata": {},
          "execution_count": 95
        }
      ]
    },
    {
      "cell_type": "code",
      "source": [
        "df_estimate.describe()"
      ],
      "metadata": {
        "colab": {
          "base_uri": "https://localhost:8080/",
          "height": 300
        },
        "id": "zaL8N273rZ2P",
        "outputId": "674c1578-9ac4-420e-d59d-97cce372ed7f"
      },
      "execution_count": null,
      "outputs": [
        {
          "output_type": "execute_result",
          "data": {
            "text/plain": [
              "       actual_delivery_days  Estimated_delivery_days\n",
              "count          96476.000000             96476.000000\n",
              "mean              12.497336               -11.876881\n",
              "std                9.555460                10.183854\n",
              "min                0.000000              -147.000000\n",
              "25%                7.000000               -17.000000\n",
              "50%               10.000000               -12.000000\n",
              "75%               16.000000                -7.000000\n",
              "max              210.000000               188.000000"
            ],
            "text/html": [
              "\n",
              "  <div id=\"df-30a7d4fd-7c7c-4e11-91cf-85ac2845f5e6\">\n",
              "    <div class=\"colab-df-container\">\n",
              "      <div>\n",
              "<style scoped>\n",
              "    .dataframe tbody tr th:only-of-type {\n",
              "        vertical-align: middle;\n",
              "    }\n",
              "\n",
              "    .dataframe tbody tr th {\n",
              "        vertical-align: top;\n",
              "    }\n",
              "\n",
              "    .dataframe thead th {\n",
              "        text-align: right;\n",
              "    }\n",
              "</style>\n",
              "<table border=\"1\" class=\"dataframe\">\n",
              "  <thead>\n",
              "    <tr style=\"text-align: right;\">\n",
              "      <th></th>\n",
              "      <th>actual_delivery_days</th>\n",
              "      <th>Estimated_delivery_days</th>\n",
              "    </tr>\n",
              "  </thead>\n",
              "  <tbody>\n",
              "    <tr>\n",
              "      <th>count</th>\n",
              "      <td>96476.000000</td>\n",
              "      <td>96476.000000</td>\n",
              "    </tr>\n",
              "    <tr>\n",
              "      <th>mean</th>\n",
              "      <td>12.497336</td>\n",
              "      <td>-11.876881</td>\n",
              "    </tr>\n",
              "    <tr>\n",
              "      <th>std</th>\n",
              "      <td>9.555460</td>\n",
              "      <td>10.183854</td>\n",
              "    </tr>\n",
              "    <tr>\n",
              "      <th>min</th>\n",
              "      <td>0.000000</td>\n",
              "      <td>-147.000000</td>\n",
              "    </tr>\n",
              "    <tr>\n",
              "      <th>25%</th>\n",
              "      <td>7.000000</td>\n",
              "      <td>-17.000000</td>\n",
              "    </tr>\n",
              "    <tr>\n",
              "      <th>50%</th>\n",
              "      <td>10.000000</td>\n",
              "      <td>-12.000000</td>\n",
              "    </tr>\n",
              "    <tr>\n",
              "      <th>75%</th>\n",
              "      <td>16.000000</td>\n",
              "      <td>-7.000000</td>\n",
              "    </tr>\n",
              "    <tr>\n",
              "      <th>max</th>\n",
              "      <td>210.000000</td>\n",
              "      <td>188.000000</td>\n",
              "    </tr>\n",
              "  </tbody>\n",
              "</table>\n",
              "</div>\n",
              "      <button class=\"colab-df-convert\" onclick=\"convertToInteractive('df-30a7d4fd-7c7c-4e11-91cf-85ac2845f5e6')\"\n",
              "              title=\"Convert this dataframe to an interactive table.\"\n",
              "              style=\"display:none;\">\n",
              "        \n",
              "  <svg xmlns=\"http://www.w3.org/2000/svg\" height=\"24px\"viewBox=\"0 0 24 24\"\n",
              "       width=\"24px\">\n",
              "    <path d=\"M0 0h24v24H0V0z\" fill=\"none\"/>\n",
              "    <path d=\"M18.56 5.44l.94 2.06.94-2.06 2.06-.94-2.06-.94-.94-2.06-.94 2.06-2.06.94zm-11 1L8.5 8.5l.94-2.06 2.06-.94-2.06-.94L8.5 2.5l-.94 2.06-2.06.94zm10 10l.94 2.06.94-2.06 2.06-.94-2.06-.94-.94-2.06-.94 2.06-2.06.94z\"/><path d=\"M17.41 7.96l-1.37-1.37c-.4-.4-.92-.59-1.43-.59-.52 0-1.04.2-1.43.59L10.3 9.45l-7.72 7.72c-.78.78-.78 2.05 0 2.83L4 21.41c.39.39.9.59 1.41.59.51 0 1.02-.2 1.41-.59l7.78-7.78 2.81-2.81c.8-.78.8-2.07 0-2.86zM5.41 20L4 18.59l7.72-7.72 1.47 1.35L5.41 20z\"/>\n",
              "  </svg>\n",
              "      </button>\n",
              "      \n",
              "  <style>\n",
              "    .colab-df-container {\n",
              "      display:flex;\n",
              "      flex-wrap:wrap;\n",
              "      gap: 12px;\n",
              "    }\n",
              "\n",
              "    .colab-df-convert {\n",
              "      background-color: #E8F0FE;\n",
              "      border: none;\n",
              "      border-radius: 50%;\n",
              "      cursor: pointer;\n",
              "      display: none;\n",
              "      fill: #1967D2;\n",
              "      height: 32px;\n",
              "      padding: 0 0 0 0;\n",
              "      width: 32px;\n",
              "    }\n",
              "\n",
              "    .colab-df-convert:hover {\n",
              "      background-color: #E2EBFA;\n",
              "      box-shadow: 0px 1px 2px rgba(60, 64, 67, 0.3), 0px 1px 3px 1px rgba(60, 64, 67, 0.15);\n",
              "      fill: #174EA6;\n",
              "    }\n",
              "\n",
              "    [theme=dark] .colab-df-convert {\n",
              "      background-color: #3B4455;\n",
              "      fill: #D2E3FC;\n",
              "    }\n",
              "\n",
              "    [theme=dark] .colab-df-convert:hover {\n",
              "      background-color: #434B5C;\n",
              "      box-shadow: 0px 1px 3px 1px rgba(0, 0, 0, 0.15);\n",
              "      filter: drop-shadow(0px 1px 2px rgba(0, 0, 0, 0.3));\n",
              "      fill: #FFFFFF;\n",
              "    }\n",
              "  </style>\n",
              "\n",
              "      <script>\n",
              "        const buttonEl =\n",
              "          document.querySelector('#df-30a7d4fd-7c7c-4e11-91cf-85ac2845f5e6 button.colab-df-convert');\n",
              "        buttonEl.style.display =\n",
              "          google.colab.kernel.accessAllowed ? 'block' : 'none';\n",
              "\n",
              "        async function convertToInteractive(key) {\n",
              "          const element = document.querySelector('#df-30a7d4fd-7c7c-4e11-91cf-85ac2845f5e6');\n",
              "          const dataTable =\n",
              "            await google.colab.kernel.invokeFunction('convertToInteractive',\n",
              "                                                     [key], {});\n",
              "          if (!dataTable) return;\n",
              "\n",
              "          const docLinkHtml = 'Like what you see? Visit the ' +\n",
              "            '<a target=\"_blank\" href=https://colab.research.google.com/notebooks/data_table.ipynb>data table notebook</a>'\n",
              "            + ' to learn more about interactive tables.';\n",
              "          element.innerHTML = '';\n",
              "          dataTable['output_type'] = 'display_data';\n",
              "          await google.colab.output.renderOutput(dataTable, element);\n",
              "          const docLink = document.createElement('div');\n",
              "          docLink.innerHTML = docLinkHtml;\n",
              "          element.appendChild(docLink);\n",
              "        }\n",
              "      </script>\n",
              "    </div>\n",
              "  </div>\n",
              "  "
            ]
          },
          "metadata": {},
          "execution_count": 96
        }
      ]
    },
    {
      "cell_type": "markdown",
      "source": [
        "From Ablove table it can be observed that, Estimated Delivery days are predicated very low compared to actual delivery date."
      ],
      "metadata": {
        "id": "yqB8q8eptVfj"
      }
    },
    {
      "cell_type": "code",
      "source": [
        "query_clomns = '''select date_diff( DATE(ord.order_delivered_customer_date) , DATE(ord.order_purchase_timestamp),DAY) as time_to_delivery,date_diff( DATE(ord.order_estimated_delivery_date) , \n",
        "DATE(ord.order_delivered_customer_date),DAY) as diff_estimated_delivery  from `target_db.orders` as ord'''\n",
        "df_columns = client.query(query_clomns).to_dataframe()\n",
        "df_columns.head()"
      ],
      "metadata": {
        "colab": {
          "base_uri": "https://localhost:8080/",
          "height": 206
        },
        "id": "Qx2wL1A6rZ7g",
        "outputId": "7058f9d6-d126-457b-a4fb-2062543eb658"
      },
      "execution_count": null,
      "outputs": [
        {
          "output_type": "execute_result",
          "data": {
            "text/plain": [
              "   time_to_delivery  diff_estimated_delivery\n",
              "0              30.0                    -12.0\n",
              "1              31.0                     29.0\n",
              "2              36.0                     17.0\n",
              "3              31.0                      2.0\n",
              "4              33.0                      1.0"
            ],
            "text/html": [
              "\n",
              "  <div id=\"df-c30ee1e6-653a-42dc-8350-4ac4ed920e2f\">\n",
              "    <div class=\"colab-df-container\">\n",
              "      <div>\n",
              "<style scoped>\n",
              "    .dataframe tbody tr th:only-of-type {\n",
              "        vertical-align: middle;\n",
              "    }\n",
              "\n",
              "    .dataframe tbody tr th {\n",
              "        vertical-align: top;\n",
              "    }\n",
              "\n",
              "    .dataframe thead th {\n",
              "        text-align: right;\n",
              "    }\n",
              "</style>\n",
              "<table border=\"1\" class=\"dataframe\">\n",
              "  <thead>\n",
              "    <tr style=\"text-align: right;\">\n",
              "      <th></th>\n",
              "      <th>time_to_delivery</th>\n",
              "      <th>diff_estimated_delivery</th>\n",
              "    </tr>\n",
              "  </thead>\n",
              "  <tbody>\n",
              "    <tr>\n",
              "      <th>0</th>\n",
              "      <td>30.0</td>\n",
              "      <td>-12.0</td>\n",
              "    </tr>\n",
              "    <tr>\n",
              "      <th>1</th>\n",
              "      <td>31.0</td>\n",
              "      <td>29.0</td>\n",
              "    </tr>\n",
              "    <tr>\n",
              "      <th>2</th>\n",
              "      <td>36.0</td>\n",
              "      <td>17.0</td>\n",
              "    </tr>\n",
              "    <tr>\n",
              "      <th>3</th>\n",
              "      <td>31.0</td>\n",
              "      <td>2.0</td>\n",
              "    </tr>\n",
              "    <tr>\n",
              "      <th>4</th>\n",
              "      <td>33.0</td>\n",
              "      <td>1.0</td>\n",
              "    </tr>\n",
              "  </tbody>\n",
              "</table>\n",
              "</div>\n",
              "      <button class=\"colab-df-convert\" onclick=\"convertToInteractive('df-c30ee1e6-653a-42dc-8350-4ac4ed920e2f')\"\n",
              "              title=\"Convert this dataframe to an interactive table.\"\n",
              "              style=\"display:none;\">\n",
              "        \n",
              "  <svg xmlns=\"http://www.w3.org/2000/svg\" height=\"24px\"viewBox=\"0 0 24 24\"\n",
              "       width=\"24px\">\n",
              "    <path d=\"M0 0h24v24H0V0z\" fill=\"none\"/>\n",
              "    <path d=\"M18.56 5.44l.94 2.06.94-2.06 2.06-.94-2.06-.94-.94-2.06-.94 2.06-2.06.94zm-11 1L8.5 8.5l.94-2.06 2.06-.94-2.06-.94L8.5 2.5l-.94 2.06-2.06.94zm10 10l.94 2.06.94-2.06 2.06-.94-2.06-.94-.94-2.06-.94 2.06-2.06.94z\"/><path d=\"M17.41 7.96l-1.37-1.37c-.4-.4-.92-.59-1.43-.59-.52 0-1.04.2-1.43.59L10.3 9.45l-7.72 7.72c-.78.78-.78 2.05 0 2.83L4 21.41c.39.39.9.59 1.41.59.51 0 1.02-.2 1.41-.59l7.78-7.78 2.81-2.81c.8-.78.8-2.07 0-2.86zM5.41 20L4 18.59l7.72-7.72 1.47 1.35L5.41 20z\"/>\n",
              "  </svg>\n",
              "      </button>\n",
              "      \n",
              "  <style>\n",
              "    .colab-df-container {\n",
              "      display:flex;\n",
              "      flex-wrap:wrap;\n",
              "      gap: 12px;\n",
              "    }\n",
              "\n",
              "    .colab-df-convert {\n",
              "      background-color: #E8F0FE;\n",
              "      border: none;\n",
              "      border-radius: 50%;\n",
              "      cursor: pointer;\n",
              "      display: none;\n",
              "      fill: #1967D2;\n",
              "      height: 32px;\n",
              "      padding: 0 0 0 0;\n",
              "      width: 32px;\n",
              "    }\n",
              "\n",
              "    .colab-df-convert:hover {\n",
              "      background-color: #E2EBFA;\n",
              "      box-shadow: 0px 1px 2px rgba(60, 64, 67, 0.3), 0px 1px 3px 1px rgba(60, 64, 67, 0.15);\n",
              "      fill: #174EA6;\n",
              "    }\n",
              "\n",
              "    [theme=dark] .colab-df-convert {\n",
              "      background-color: #3B4455;\n",
              "      fill: #D2E3FC;\n",
              "    }\n",
              "\n",
              "    [theme=dark] .colab-df-convert:hover {\n",
              "      background-color: #434B5C;\n",
              "      box-shadow: 0px 1px 3px 1px rgba(0, 0, 0, 0.15);\n",
              "      filter: drop-shadow(0px 1px 2px rgba(0, 0, 0, 0.3));\n",
              "      fill: #FFFFFF;\n",
              "    }\n",
              "  </style>\n",
              "\n",
              "      <script>\n",
              "        const buttonEl =\n",
              "          document.querySelector('#df-c30ee1e6-653a-42dc-8350-4ac4ed920e2f button.colab-df-convert');\n",
              "        buttonEl.style.display =\n",
              "          google.colab.kernel.accessAllowed ? 'block' : 'none';\n",
              "\n",
              "        async function convertToInteractive(key) {\n",
              "          const element = document.querySelector('#df-c30ee1e6-653a-42dc-8350-4ac4ed920e2f');\n",
              "          const dataTable =\n",
              "            await google.colab.kernel.invokeFunction('convertToInteractive',\n",
              "                                                     [key], {});\n",
              "          if (!dataTable) return;\n",
              "\n",
              "          const docLinkHtml = 'Like what you see? Visit the ' +\n",
              "            '<a target=\"_blank\" href=https://colab.research.google.com/notebooks/data_table.ipynb>data table notebook</a>'\n",
              "            + ' to learn more about interactive tables.';\n",
              "          element.innerHTML = '';\n",
              "          dataTable['output_type'] = 'display_data';\n",
              "          await google.colab.output.renderOutput(dataTable, element);\n",
              "          const docLink = document.createElement('div');\n",
              "          docLink.innerHTML = docLinkHtml;\n",
              "          element.appendChild(docLink);\n",
              "        }\n",
              "      </script>\n",
              "    </div>\n",
              "  </div>\n",
              "  "
            ]
          },
          "metadata": {},
          "execution_count": 97
        }
      ]
    },
    {
      "cell_type": "markdown",
      "source": [
        "Columns are created as requested."
      ],
      "metadata": {
        "id": "4XcpQ1rCuUrZ"
      }
    },
    {
      "cell_type": "code",
      "source": [
        "query_group_state = '''select AVG(freight_value) as mean_freight_value ,Avg(date_diff( DATE(ord.order_delivered_customer_date) , DATE(ord.order_purchase_timestamp),DAY)) as mean_time_to_delivery, \n",
        "avg(date_diff( DATE(ord.order_estimated_delivery_date) , DATE(ord.order_delivered_customer_date),DAY)) as mean_diff_estimated_delivery ,cust.customer_state from `target_db.order_items` as ordit\n",
        "left join `target_db.orders` as ord on ord.order_id = ordit.order_id LEFT JOIN `target_db.customers` as cust on ord.customer_id =cust.customer_id group by cust.customer_state'''\n",
        "df_group_state = client.query(query_group_state).to_dataframe()\n",
        "df_group_state.head()"
      ],
      "metadata": {
        "colab": {
          "base_uri": "https://localhost:8080/",
          "height": 206
        },
        "id": "xJ_XpTuirZ-Z",
        "outputId": "91fc8e54-5259-43f8-8780-44350bcd454e"
      },
      "execution_count": null,
      "outputs": [
        {
          "output_type": "execute_result",
          "data": {
            "text/plain": [
              "   mean_freight_value  mean_time_to_delivery  mean_diff_estimated_delivery  \\\n",
              "0           15.147275               8.662253                     11.207911   \n",
              "1           20.960924              15.074791                     12.014774   \n",
              "2           20.531652              11.893078                     13.486104   \n",
              "3           21.470369              14.950220                     11.572718   \n",
              "4           21.041355              12.893843                     12.200425   \n",
              "\n",
              "  customer_state  \n",
              "0             SP  \n",
              "1             RJ  \n",
              "2             PR  \n",
              "3             SC  \n",
              "4             DF  "
            ],
            "text/html": [
              "\n",
              "  <div id=\"df-134602f8-fb3c-47f3-b612-d6df04370ebf\">\n",
              "    <div class=\"colab-df-container\">\n",
              "      <div>\n",
              "<style scoped>\n",
              "    .dataframe tbody tr th:only-of-type {\n",
              "        vertical-align: middle;\n",
              "    }\n",
              "\n",
              "    .dataframe tbody tr th {\n",
              "        vertical-align: top;\n",
              "    }\n",
              "\n",
              "    .dataframe thead th {\n",
              "        text-align: right;\n",
              "    }\n",
              "</style>\n",
              "<table border=\"1\" class=\"dataframe\">\n",
              "  <thead>\n",
              "    <tr style=\"text-align: right;\">\n",
              "      <th></th>\n",
              "      <th>mean_freight_value</th>\n",
              "      <th>mean_time_to_delivery</th>\n",
              "      <th>mean_diff_estimated_delivery</th>\n",
              "      <th>customer_state</th>\n",
              "    </tr>\n",
              "  </thead>\n",
              "  <tbody>\n",
              "    <tr>\n",
              "      <th>0</th>\n",
              "      <td>15.147275</td>\n",
              "      <td>8.662253</td>\n",
              "      <td>11.207911</td>\n",
              "      <td>SP</td>\n",
              "    </tr>\n",
              "    <tr>\n",
              "      <th>1</th>\n",
              "      <td>20.960924</td>\n",
              "      <td>15.074791</td>\n",
              "      <td>12.014774</td>\n",
              "      <td>RJ</td>\n",
              "    </tr>\n",
              "    <tr>\n",
              "      <th>2</th>\n",
              "      <td>20.531652</td>\n",
              "      <td>11.893078</td>\n",
              "      <td>13.486104</td>\n",
              "      <td>PR</td>\n",
              "    </tr>\n",
              "    <tr>\n",
              "      <th>3</th>\n",
              "      <td>21.470369</td>\n",
              "      <td>14.950220</td>\n",
              "      <td>11.572718</td>\n",
              "      <td>SC</td>\n",
              "    </tr>\n",
              "    <tr>\n",
              "      <th>4</th>\n",
              "      <td>21.041355</td>\n",
              "      <td>12.893843</td>\n",
              "      <td>12.200425</td>\n",
              "      <td>DF</td>\n",
              "    </tr>\n",
              "  </tbody>\n",
              "</table>\n",
              "</div>\n",
              "      <button class=\"colab-df-convert\" onclick=\"convertToInteractive('df-134602f8-fb3c-47f3-b612-d6df04370ebf')\"\n",
              "              title=\"Convert this dataframe to an interactive table.\"\n",
              "              style=\"display:none;\">\n",
              "        \n",
              "  <svg xmlns=\"http://www.w3.org/2000/svg\" height=\"24px\"viewBox=\"0 0 24 24\"\n",
              "       width=\"24px\">\n",
              "    <path d=\"M0 0h24v24H0V0z\" fill=\"none\"/>\n",
              "    <path d=\"M18.56 5.44l.94 2.06.94-2.06 2.06-.94-2.06-.94-.94-2.06-.94 2.06-2.06.94zm-11 1L8.5 8.5l.94-2.06 2.06-.94-2.06-.94L8.5 2.5l-.94 2.06-2.06.94zm10 10l.94 2.06.94-2.06 2.06-.94-2.06-.94-.94-2.06-.94 2.06-2.06.94z\"/><path d=\"M17.41 7.96l-1.37-1.37c-.4-.4-.92-.59-1.43-.59-.52 0-1.04.2-1.43.59L10.3 9.45l-7.72 7.72c-.78.78-.78 2.05 0 2.83L4 21.41c.39.39.9.59 1.41.59.51 0 1.02-.2 1.41-.59l7.78-7.78 2.81-2.81c.8-.78.8-2.07 0-2.86zM5.41 20L4 18.59l7.72-7.72 1.47 1.35L5.41 20z\"/>\n",
              "  </svg>\n",
              "      </button>\n",
              "      \n",
              "  <style>\n",
              "    .colab-df-container {\n",
              "      display:flex;\n",
              "      flex-wrap:wrap;\n",
              "      gap: 12px;\n",
              "    }\n",
              "\n",
              "    .colab-df-convert {\n",
              "      background-color: #E8F0FE;\n",
              "      border: none;\n",
              "      border-radius: 50%;\n",
              "      cursor: pointer;\n",
              "      display: none;\n",
              "      fill: #1967D2;\n",
              "      height: 32px;\n",
              "      padding: 0 0 0 0;\n",
              "      width: 32px;\n",
              "    }\n",
              "\n",
              "    .colab-df-convert:hover {\n",
              "      background-color: #E2EBFA;\n",
              "      box-shadow: 0px 1px 2px rgba(60, 64, 67, 0.3), 0px 1px 3px 1px rgba(60, 64, 67, 0.15);\n",
              "      fill: #174EA6;\n",
              "    }\n",
              "\n",
              "    [theme=dark] .colab-df-convert {\n",
              "      background-color: #3B4455;\n",
              "      fill: #D2E3FC;\n",
              "    }\n",
              "\n",
              "    [theme=dark] .colab-df-convert:hover {\n",
              "      background-color: #434B5C;\n",
              "      box-shadow: 0px 1px 3px 1px rgba(0, 0, 0, 0.15);\n",
              "      filter: drop-shadow(0px 1px 2px rgba(0, 0, 0, 0.3));\n",
              "      fill: #FFFFFF;\n",
              "    }\n",
              "  </style>\n",
              "\n",
              "      <script>\n",
              "        const buttonEl =\n",
              "          document.querySelector('#df-134602f8-fb3c-47f3-b612-d6df04370ebf button.colab-df-convert');\n",
              "        buttonEl.style.display =\n",
              "          google.colab.kernel.accessAllowed ? 'block' : 'none';\n",
              "\n",
              "        async function convertToInteractive(key) {\n",
              "          const element = document.querySelector('#df-134602f8-fb3c-47f3-b612-d6df04370ebf');\n",
              "          const dataTable =\n",
              "            await google.colab.kernel.invokeFunction('convertToInteractive',\n",
              "                                                     [key], {});\n",
              "          if (!dataTable) return;\n",
              "\n",
              "          const docLinkHtml = 'Like what you see? Visit the ' +\n",
              "            '<a target=\"_blank\" href=https://colab.research.google.com/notebooks/data_table.ipynb>data table notebook</a>'\n",
              "            + ' to learn more about interactive tables.';\n",
              "          element.innerHTML = '';\n",
              "          dataTable['output_type'] = 'display_data';\n",
              "          await google.colab.output.renderOutput(dataTable, element);\n",
              "          const docLink = document.createElement('div');\n",
              "          docLink.innerHTML = docLinkHtml;\n",
              "          element.appendChild(docLink);\n",
              "        }\n",
              "      </script>\n",
              "    </div>\n",
              "  </div>\n",
              "  "
            ]
          },
          "metadata": {},
          "execution_count": 98
        }
      ]
    },
    {
      "cell_type": "code",
      "source": [],
      "metadata": {
        "id": "FF-5YPjvraBk"
      },
      "execution_count": null,
      "outputs": []
    },
    {
      "cell_type": "markdown",
      "source": [
        "Data Sorting"
      ],
      "metadata": {
        "id": "ixToN8OEVXdQ"
      }
    },
    {
      "cell_type": "code",
      "source": [
        "query_avg_freight_val = '''select AVG(freight_value) as average_freight_value, sel.seller_state from `target_db.order_items` as ord\n",
        "left join `target_db.sellers` as sel on ord.seller_id = sel.seller_id group by sel.seller_state order by AVG(freight_value) DESC limit 5 '''\n",
        "df_avg_freight_val = client.query(query_avg_freight_val).to_dataframe()\n",
        "df_avg_freight_val"
      ],
      "metadata": {
        "colab": {
          "base_uri": "https://localhost:8080/",
          "height": 206
        },
        "id": "Qo_RD1T6vfhT",
        "outputId": "aa392366-ec0f-41a2-8c1c-6b62622baded"
      },
      "execution_count": null,
      "outputs": [
        {
          "output_type": "execute_result",
          "data": {
            "text/plain": [
              "   average_freight_value seller_state\n",
              "0              50.912857           RO\n",
              "1              46.381170           CE\n",
              "2              39.188158           PB\n",
              "3              36.943333           PI\n",
              "4              32.840000           AC"
            ],
            "text/html": [
              "\n",
              "  <div id=\"df-85aa4b0d-fe19-4d55-92c7-5e7c1003f227\">\n",
              "    <div class=\"colab-df-container\">\n",
              "      <div>\n",
              "<style scoped>\n",
              "    .dataframe tbody tr th:only-of-type {\n",
              "        vertical-align: middle;\n",
              "    }\n",
              "\n",
              "    .dataframe tbody tr th {\n",
              "        vertical-align: top;\n",
              "    }\n",
              "\n",
              "    .dataframe thead th {\n",
              "        text-align: right;\n",
              "    }\n",
              "</style>\n",
              "<table border=\"1\" class=\"dataframe\">\n",
              "  <thead>\n",
              "    <tr style=\"text-align: right;\">\n",
              "      <th></th>\n",
              "      <th>average_freight_value</th>\n",
              "      <th>seller_state</th>\n",
              "    </tr>\n",
              "  </thead>\n",
              "  <tbody>\n",
              "    <tr>\n",
              "      <th>0</th>\n",
              "      <td>50.912857</td>\n",
              "      <td>RO</td>\n",
              "    </tr>\n",
              "    <tr>\n",
              "      <th>1</th>\n",
              "      <td>46.381170</td>\n",
              "      <td>CE</td>\n",
              "    </tr>\n",
              "    <tr>\n",
              "      <th>2</th>\n",
              "      <td>39.188158</td>\n",
              "      <td>PB</td>\n",
              "    </tr>\n",
              "    <tr>\n",
              "      <th>3</th>\n",
              "      <td>36.943333</td>\n",
              "      <td>PI</td>\n",
              "    </tr>\n",
              "    <tr>\n",
              "      <th>4</th>\n",
              "      <td>32.840000</td>\n",
              "      <td>AC</td>\n",
              "    </tr>\n",
              "  </tbody>\n",
              "</table>\n",
              "</div>\n",
              "      <button class=\"colab-df-convert\" onclick=\"convertToInteractive('df-85aa4b0d-fe19-4d55-92c7-5e7c1003f227')\"\n",
              "              title=\"Convert this dataframe to an interactive table.\"\n",
              "              style=\"display:none;\">\n",
              "        \n",
              "  <svg xmlns=\"http://www.w3.org/2000/svg\" height=\"24px\"viewBox=\"0 0 24 24\"\n",
              "       width=\"24px\">\n",
              "    <path d=\"M0 0h24v24H0V0z\" fill=\"none\"/>\n",
              "    <path d=\"M18.56 5.44l.94 2.06.94-2.06 2.06-.94-2.06-.94-.94-2.06-.94 2.06-2.06.94zm-11 1L8.5 8.5l.94-2.06 2.06-.94-2.06-.94L8.5 2.5l-.94 2.06-2.06.94zm10 10l.94 2.06.94-2.06 2.06-.94-2.06-.94-.94-2.06-.94 2.06-2.06.94z\"/><path d=\"M17.41 7.96l-1.37-1.37c-.4-.4-.92-.59-1.43-.59-.52 0-1.04.2-1.43.59L10.3 9.45l-7.72 7.72c-.78.78-.78 2.05 0 2.83L4 21.41c.39.39.9.59 1.41.59.51 0 1.02-.2 1.41-.59l7.78-7.78 2.81-2.81c.8-.78.8-2.07 0-2.86zM5.41 20L4 18.59l7.72-7.72 1.47 1.35L5.41 20z\"/>\n",
              "  </svg>\n",
              "      </button>\n",
              "      \n",
              "  <style>\n",
              "    .colab-df-container {\n",
              "      display:flex;\n",
              "      flex-wrap:wrap;\n",
              "      gap: 12px;\n",
              "    }\n",
              "\n",
              "    .colab-df-convert {\n",
              "      background-color: #E8F0FE;\n",
              "      border: none;\n",
              "      border-radius: 50%;\n",
              "      cursor: pointer;\n",
              "      display: none;\n",
              "      fill: #1967D2;\n",
              "      height: 32px;\n",
              "      padding: 0 0 0 0;\n",
              "      width: 32px;\n",
              "    }\n",
              "\n",
              "    .colab-df-convert:hover {\n",
              "      background-color: #E2EBFA;\n",
              "      box-shadow: 0px 1px 2px rgba(60, 64, 67, 0.3), 0px 1px 3px 1px rgba(60, 64, 67, 0.15);\n",
              "      fill: #174EA6;\n",
              "    }\n",
              "\n",
              "    [theme=dark] .colab-df-convert {\n",
              "      background-color: #3B4455;\n",
              "      fill: #D2E3FC;\n",
              "    }\n",
              "\n",
              "    [theme=dark] .colab-df-convert:hover {\n",
              "      background-color: #434B5C;\n",
              "      box-shadow: 0px 1px 3px 1px rgba(0, 0, 0, 0.15);\n",
              "      filter: drop-shadow(0px 1px 2px rgba(0, 0, 0, 0.3));\n",
              "      fill: #FFFFFF;\n",
              "    }\n",
              "  </style>\n",
              "\n",
              "      <script>\n",
              "        const buttonEl =\n",
              "          document.querySelector('#df-85aa4b0d-fe19-4d55-92c7-5e7c1003f227 button.colab-df-convert');\n",
              "        buttonEl.style.display =\n",
              "          google.colab.kernel.accessAllowed ? 'block' : 'none';\n",
              "\n",
              "        async function convertToInteractive(key) {\n",
              "          const element = document.querySelector('#df-85aa4b0d-fe19-4d55-92c7-5e7c1003f227');\n",
              "          const dataTable =\n",
              "            await google.colab.kernel.invokeFunction('convertToInteractive',\n",
              "                                                     [key], {});\n",
              "          if (!dataTable) return;\n",
              "\n",
              "          const docLinkHtml = 'Like what you see? Visit the ' +\n",
              "            '<a target=\"_blank\" href=https://colab.research.google.com/notebooks/data_table.ipynb>data table notebook</a>'\n",
              "            + ' to learn more about interactive tables.';\n",
              "          element.innerHTML = '';\n",
              "          dataTable['output_type'] = 'display_data';\n",
              "          await google.colab.output.renderOutput(dataTable, element);\n",
              "          const docLink = document.createElement('div');\n",
              "          docLink.innerHTML = docLinkHtml;\n",
              "          element.appendChild(docLink);\n",
              "        }\n",
              "      </script>\n",
              "    </div>\n",
              "  </div>\n",
              "  "
            ]
          },
          "metadata": {},
          "execution_count": 99
        }
      ]
    },
    {
      "cell_type": "code",
      "source": [],
      "metadata": {
        "id": "pOmVOvQ6vfkb"
      },
      "execution_count": null,
      "outputs": []
    },
    {
      "cell_type": "code",
      "source": [
        "query_avg_freight_val_ascen = '''select AVG(freight_value) as average_freight_value, sel.seller_state from `target_db.order_items` as ord\n",
        "left join `target_db.sellers` as sel on ord.seller_id = sel.seller_id group by sel.seller_state order by AVG(freight_value) ASC limit 5 '''\n",
        "df_avg_freight_val_ascen = client.query(query_avg_freight_val_ascen).to_dataframe()\n",
        "df_avg_freight_val_ascen"
      ],
      "metadata": {
        "colab": {
          "base_uri": "https://localhost:8080/",
          "height": 206
        },
        "id": "0rty7pC1vfnL",
        "outputId": "e0341609-f6a5-4041-c9a6-f54a000e9a8e"
      },
      "execution_count": null,
      "outputs": [
        {
          "output_type": "execute_result",
          "data": {
            "text/plain": [
              "   average_freight_value seller_state\n",
              "0              18.452213           SP\n",
              "1              19.388750           PA\n",
              "2              19.474865           RJ\n",
              "3              20.571813           DF\n",
              "4              22.720969           PR"
            ],
            "text/html": [
              "\n",
              "  <div id=\"df-0f7262c4-8e69-4281-8874-31e3f2c58fb8\">\n",
              "    <div class=\"colab-df-container\">\n",
              "      <div>\n",
              "<style scoped>\n",
              "    .dataframe tbody tr th:only-of-type {\n",
              "        vertical-align: middle;\n",
              "    }\n",
              "\n",
              "    .dataframe tbody tr th {\n",
              "        vertical-align: top;\n",
              "    }\n",
              "\n",
              "    .dataframe thead th {\n",
              "        text-align: right;\n",
              "    }\n",
              "</style>\n",
              "<table border=\"1\" class=\"dataframe\">\n",
              "  <thead>\n",
              "    <tr style=\"text-align: right;\">\n",
              "      <th></th>\n",
              "      <th>average_freight_value</th>\n",
              "      <th>seller_state</th>\n",
              "    </tr>\n",
              "  </thead>\n",
              "  <tbody>\n",
              "    <tr>\n",
              "      <th>0</th>\n",
              "      <td>18.452213</td>\n",
              "      <td>SP</td>\n",
              "    </tr>\n",
              "    <tr>\n",
              "      <th>1</th>\n",
              "      <td>19.388750</td>\n",
              "      <td>PA</td>\n",
              "    </tr>\n",
              "    <tr>\n",
              "      <th>2</th>\n",
              "      <td>19.474865</td>\n",
              "      <td>RJ</td>\n",
              "    </tr>\n",
              "    <tr>\n",
              "      <th>3</th>\n",
              "      <td>20.571813</td>\n",
              "      <td>DF</td>\n",
              "    </tr>\n",
              "    <tr>\n",
              "      <th>4</th>\n",
              "      <td>22.720969</td>\n",
              "      <td>PR</td>\n",
              "    </tr>\n",
              "  </tbody>\n",
              "</table>\n",
              "</div>\n",
              "      <button class=\"colab-df-convert\" onclick=\"convertToInteractive('df-0f7262c4-8e69-4281-8874-31e3f2c58fb8')\"\n",
              "              title=\"Convert this dataframe to an interactive table.\"\n",
              "              style=\"display:none;\">\n",
              "        \n",
              "  <svg xmlns=\"http://www.w3.org/2000/svg\" height=\"24px\"viewBox=\"0 0 24 24\"\n",
              "       width=\"24px\">\n",
              "    <path d=\"M0 0h24v24H0V0z\" fill=\"none\"/>\n",
              "    <path d=\"M18.56 5.44l.94 2.06.94-2.06 2.06-.94-2.06-.94-.94-2.06-.94 2.06-2.06.94zm-11 1L8.5 8.5l.94-2.06 2.06-.94-2.06-.94L8.5 2.5l-.94 2.06-2.06.94zm10 10l.94 2.06.94-2.06 2.06-.94-2.06-.94-.94-2.06-.94 2.06-2.06.94z\"/><path d=\"M17.41 7.96l-1.37-1.37c-.4-.4-.92-.59-1.43-.59-.52 0-1.04.2-1.43.59L10.3 9.45l-7.72 7.72c-.78.78-.78 2.05 0 2.83L4 21.41c.39.39.9.59 1.41.59.51 0 1.02-.2 1.41-.59l7.78-7.78 2.81-2.81c.8-.78.8-2.07 0-2.86zM5.41 20L4 18.59l7.72-7.72 1.47 1.35L5.41 20z\"/>\n",
              "  </svg>\n",
              "      </button>\n",
              "      \n",
              "  <style>\n",
              "    .colab-df-container {\n",
              "      display:flex;\n",
              "      flex-wrap:wrap;\n",
              "      gap: 12px;\n",
              "    }\n",
              "\n",
              "    .colab-df-convert {\n",
              "      background-color: #E8F0FE;\n",
              "      border: none;\n",
              "      border-radius: 50%;\n",
              "      cursor: pointer;\n",
              "      display: none;\n",
              "      fill: #1967D2;\n",
              "      height: 32px;\n",
              "      padding: 0 0 0 0;\n",
              "      width: 32px;\n",
              "    }\n",
              "\n",
              "    .colab-df-convert:hover {\n",
              "      background-color: #E2EBFA;\n",
              "      box-shadow: 0px 1px 2px rgba(60, 64, 67, 0.3), 0px 1px 3px 1px rgba(60, 64, 67, 0.15);\n",
              "      fill: #174EA6;\n",
              "    }\n",
              "\n",
              "    [theme=dark] .colab-df-convert {\n",
              "      background-color: #3B4455;\n",
              "      fill: #D2E3FC;\n",
              "    }\n",
              "\n",
              "    [theme=dark] .colab-df-convert:hover {\n",
              "      background-color: #434B5C;\n",
              "      box-shadow: 0px 1px 3px 1px rgba(0, 0, 0, 0.15);\n",
              "      filter: drop-shadow(0px 1px 2px rgba(0, 0, 0, 0.3));\n",
              "      fill: #FFFFFF;\n",
              "    }\n",
              "  </style>\n",
              "\n",
              "      <script>\n",
              "        const buttonEl =\n",
              "          document.querySelector('#df-0f7262c4-8e69-4281-8874-31e3f2c58fb8 button.colab-df-convert');\n",
              "        buttonEl.style.display =\n",
              "          google.colab.kernel.accessAllowed ? 'block' : 'none';\n",
              "\n",
              "        async function convertToInteractive(key) {\n",
              "          const element = document.querySelector('#df-0f7262c4-8e69-4281-8874-31e3f2c58fb8');\n",
              "          const dataTable =\n",
              "            await google.colab.kernel.invokeFunction('convertToInteractive',\n",
              "                                                     [key], {});\n",
              "          if (!dataTable) return;\n",
              "\n",
              "          const docLinkHtml = 'Like what you see? Visit the ' +\n",
              "            '<a target=\"_blank\" href=https://colab.research.google.com/notebooks/data_table.ipynb>data table notebook</a>'\n",
              "            + ' to learn more about interactive tables.';\n",
              "          element.innerHTML = '';\n",
              "          dataTable['output_type'] = 'display_data';\n",
              "          await google.colab.output.renderOutput(dataTable, element);\n",
              "          const docLink = document.createElement('div');\n",
              "          docLink.innerHTML = docLinkHtml;\n",
              "          element.appendChild(docLink);\n",
              "        }\n",
              "      </script>\n",
              "    </div>\n",
              "  </div>\n",
              "  "
            ]
          },
          "metadata": {},
          "execution_count": 100
        }
      ]
    },
    {
      "cell_type": "code",
      "source": [
        "query_avg_delivery = '''select AVG(date_diff( DATE(ord.order_delivered_customer_date) , DATE(ord.order_purchase_timestamp),DAY)) as time_to_delivery,cust.customer_state from `target_db.orders`as ord\n",
        "left join `target_db.customers` as cust\n",
        "on ord.customer_id=cust.customer_id\n",
        "group by cust.customer_state\n",
        "order by  AVG(date_diff( DATE(ord.order_delivered_customer_date) , DATE(ord.order_purchase_timestamp),DAY)) DESC limit 5'''\n",
        "df_avg_delivery = client.query(query_avg_delivery).to_dataframe()\n",
        "df_avg_delivery"
      ],
      "metadata": {
        "colab": {
          "base_uri": "https://localhost:8080/",
          "height": 206
        },
        "id": "ONGK5iJEvfp8",
        "outputId": "e2834f7d-1ef0-4d71-8b17-54bc00be1663"
      },
      "execution_count": null,
      "outputs": [
        {
          "output_type": "execute_result",
          "data": {
            "text/plain": [
              "   time_to_delivery customer_state\n",
              "0         29.341463             RR\n",
              "1         27.179104             AP\n",
              "2         26.358621             AM\n",
              "3         24.501259             AL\n",
              "4         23.725159             PA"
            ],
            "text/html": [
              "\n",
              "  <div id=\"df-cc0ed0c7-ae45-4725-88f5-740e796e3bc4\">\n",
              "    <div class=\"colab-df-container\">\n",
              "      <div>\n",
              "<style scoped>\n",
              "    .dataframe tbody tr th:only-of-type {\n",
              "        vertical-align: middle;\n",
              "    }\n",
              "\n",
              "    .dataframe tbody tr th {\n",
              "        vertical-align: top;\n",
              "    }\n",
              "\n",
              "    .dataframe thead th {\n",
              "        text-align: right;\n",
              "    }\n",
              "</style>\n",
              "<table border=\"1\" class=\"dataframe\">\n",
              "  <thead>\n",
              "    <tr style=\"text-align: right;\">\n",
              "      <th></th>\n",
              "      <th>time_to_delivery</th>\n",
              "      <th>customer_state</th>\n",
              "    </tr>\n",
              "  </thead>\n",
              "  <tbody>\n",
              "    <tr>\n",
              "      <th>0</th>\n",
              "      <td>29.341463</td>\n",
              "      <td>RR</td>\n",
              "    </tr>\n",
              "    <tr>\n",
              "      <th>1</th>\n",
              "      <td>27.179104</td>\n",
              "      <td>AP</td>\n",
              "    </tr>\n",
              "    <tr>\n",
              "      <th>2</th>\n",
              "      <td>26.358621</td>\n",
              "      <td>AM</td>\n",
              "    </tr>\n",
              "    <tr>\n",
              "      <th>3</th>\n",
              "      <td>24.501259</td>\n",
              "      <td>AL</td>\n",
              "    </tr>\n",
              "    <tr>\n",
              "      <th>4</th>\n",
              "      <td>23.725159</td>\n",
              "      <td>PA</td>\n",
              "    </tr>\n",
              "  </tbody>\n",
              "</table>\n",
              "</div>\n",
              "      <button class=\"colab-df-convert\" onclick=\"convertToInteractive('df-cc0ed0c7-ae45-4725-88f5-740e796e3bc4')\"\n",
              "              title=\"Convert this dataframe to an interactive table.\"\n",
              "              style=\"display:none;\">\n",
              "        \n",
              "  <svg xmlns=\"http://www.w3.org/2000/svg\" height=\"24px\"viewBox=\"0 0 24 24\"\n",
              "       width=\"24px\">\n",
              "    <path d=\"M0 0h24v24H0V0z\" fill=\"none\"/>\n",
              "    <path d=\"M18.56 5.44l.94 2.06.94-2.06 2.06-.94-2.06-.94-.94-2.06-.94 2.06-2.06.94zm-11 1L8.5 8.5l.94-2.06 2.06-.94-2.06-.94L8.5 2.5l-.94 2.06-2.06.94zm10 10l.94 2.06.94-2.06 2.06-.94-2.06-.94-.94-2.06-.94 2.06-2.06.94z\"/><path d=\"M17.41 7.96l-1.37-1.37c-.4-.4-.92-.59-1.43-.59-.52 0-1.04.2-1.43.59L10.3 9.45l-7.72 7.72c-.78.78-.78 2.05 0 2.83L4 21.41c.39.39.9.59 1.41.59.51 0 1.02-.2 1.41-.59l7.78-7.78 2.81-2.81c.8-.78.8-2.07 0-2.86zM5.41 20L4 18.59l7.72-7.72 1.47 1.35L5.41 20z\"/>\n",
              "  </svg>\n",
              "      </button>\n",
              "      \n",
              "  <style>\n",
              "    .colab-df-container {\n",
              "      display:flex;\n",
              "      flex-wrap:wrap;\n",
              "      gap: 12px;\n",
              "    }\n",
              "\n",
              "    .colab-df-convert {\n",
              "      background-color: #E8F0FE;\n",
              "      border: none;\n",
              "      border-radius: 50%;\n",
              "      cursor: pointer;\n",
              "      display: none;\n",
              "      fill: #1967D2;\n",
              "      height: 32px;\n",
              "      padding: 0 0 0 0;\n",
              "      width: 32px;\n",
              "    }\n",
              "\n",
              "    .colab-df-convert:hover {\n",
              "      background-color: #E2EBFA;\n",
              "      box-shadow: 0px 1px 2px rgba(60, 64, 67, 0.3), 0px 1px 3px 1px rgba(60, 64, 67, 0.15);\n",
              "      fill: #174EA6;\n",
              "    }\n",
              "\n",
              "    [theme=dark] .colab-df-convert {\n",
              "      background-color: #3B4455;\n",
              "      fill: #D2E3FC;\n",
              "    }\n",
              "\n",
              "    [theme=dark] .colab-df-convert:hover {\n",
              "      background-color: #434B5C;\n",
              "      box-shadow: 0px 1px 3px 1px rgba(0, 0, 0, 0.15);\n",
              "      filter: drop-shadow(0px 1px 2px rgba(0, 0, 0, 0.3));\n",
              "      fill: #FFFFFF;\n",
              "    }\n",
              "  </style>\n",
              "\n",
              "      <script>\n",
              "        const buttonEl =\n",
              "          document.querySelector('#df-cc0ed0c7-ae45-4725-88f5-740e796e3bc4 button.colab-df-convert');\n",
              "        buttonEl.style.display =\n",
              "          google.colab.kernel.accessAllowed ? 'block' : 'none';\n",
              "\n",
              "        async function convertToInteractive(key) {\n",
              "          const element = document.querySelector('#df-cc0ed0c7-ae45-4725-88f5-740e796e3bc4');\n",
              "          const dataTable =\n",
              "            await google.colab.kernel.invokeFunction('convertToInteractive',\n",
              "                                                     [key], {});\n",
              "          if (!dataTable) return;\n",
              "\n",
              "          const docLinkHtml = 'Like what you see? Visit the ' +\n",
              "            '<a target=\"_blank\" href=https://colab.research.google.com/notebooks/data_table.ipynb>data table notebook</a>'\n",
              "            + ' to learn more about interactive tables.';\n",
              "          element.innerHTML = '';\n",
              "          dataTable['output_type'] = 'display_data';\n",
              "          await google.colab.output.renderOutput(dataTable, element);\n",
              "          const docLink = document.createElement('div');\n",
              "          docLink.innerHTML = docLinkHtml;\n",
              "          element.appendChild(docLink);\n",
              "        }\n",
              "      </script>\n",
              "    </div>\n",
              "  </div>\n",
              "  "
            ]
          },
          "metadata": {},
          "execution_count": 101
        }
      ]
    },
    {
      "cell_type": "code",
      "source": [
        "query_avg_delivery_fast = '''select date_diff( DATE(ord.order_delivered_customer_date), DATE(ord.order_estimated_delivery_date), DAY) as time_to_delivery, cust.customer_state FROM  `target_db.orders` as ord LEFT JOIN \n",
        "`target_db.customers` AS cust ON ord.customer_id = cust.customer_id where  date_diff( DATE(ord.order_delivered_customer_date) , DATE(ord.order_estimated_delivery_date),DAY) is not null order by time_to_delivery desc limit 5'''\n",
        "df_avg_delivery_fast = client.query(query_avg_delivery_fast).to_dataframe()\n",
        "df_avg_delivery_fast"
      ],
      "metadata": {
        "colab": {
          "base_uri": "https://localhost:8080/",
          "height": 206
        },
        "id": "j6MIpDLAvfs6",
        "outputId": "1f52a3a6-cf1e-4fbc-8b61-a94c1dacd655"
      },
      "execution_count": null,
      "outputs": [
        {
          "output_type": "execute_result",
          "data": {
            "text/plain": [
              "   time_to_delivery customer_state\n",
              "0               188             RJ\n",
              "1               181             ES\n",
              "2               175             SP\n",
              "3               167             SP\n",
              "4               166             SE"
            ],
            "text/html": [
              "\n",
              "  <div id=\"df-5e197f43-8ec4-4987-9205-efa70b2ac008\">\n",
              "    <div class=\"colab-df-container\">\n",
              "      <div>\n",
              "<style scoped>\n",
              "    .dataframe tbody tr th:only-of-type {\n",
              "        vertical-align: middle;\n",
              "    }\n",
              "\n",
              "    .dataframe tbody tr th {\n",
              "        vertical-align: top;\n",
              "    }\n",
              "\n",
              "    .dataframe thead th {\n",
              "        text-align: right;\n",
              "    }\n",
              "</style>\n",
              "<table border=\"1\" class=\"dataframe\">\n",
              "  <thead>\n",
              "    <tr style=\"text-align: right;\">\n",
              "      <th></th>\n",
              "      <th>time_to_delivery</th>\n",
              "      <th>customer_state</th>\n",
              "    </tr>\n",
              "  </thead>\n",
              "  <tbody>\n",
              "    <tr>\n",
              "      <th>0</th>\n",
              "      <td>188</td>\n",
              "      <td>RJ</td>\n",
              "    </tr>\n",
              "    <tr>\n",
              "      <th>1</th>\n",
              "      <td>181</td>\n",
              "      <td>ES</td>\n",
              "    </tr>\n",
              "    <tr>\n",
              "      <th>2</th>\n",
              "      <td>175</td>\n",
              "      <td>SP</td>\n",
              "    </tr>\n",
              "    <tr>\n",
              "      <th>3</th>\n",
              "      <td>167</td>\n",
              "      <td>SP</td>\n",
              "    </tr>\n",
              "    <tr>\n",
              "      <th>4</th>\n",
              "      <td>166</td>\n",
              "      <td>SE</td>\n",
              "    </tr>\n",
              "  </tbody>\n",
              "</table>\n",
              "</div>\n",
              "      <button class=\"colab-df-convert\" onclick=\"convertToInteractive('df-5e197f43-8ec4-4987-9205-efa70b2ac008')\"\n",
              "              title=\"Convert this dataframe to an interactive table.\"\n",
              "              style=\"display:none;\">\n",
              "        \n",
              "  <svg xmlns=\"http://www.w3.org/2000/svg\" height=\"24px\"viewBox=\"0 0 24 24\"\n",
              "       width=\"24px\">\n",
              "    <path d=\"M0 0h24v24H0V0z\" fill=\"none\"/>\n",
              "    <path d=\"M18.56 5.44l.94 2.06.94-2.06 2.06-.94-2.06-.94-.94-2.06-.94 2.06-2.06.94zm-11 1L8.5 8.5l.94-2.06 2.06-.94-2.06-.94L8.5 2.5l-.94 2.06-2.06.94zm10 10l.94 2.06.94-2.06 2.06-.94-2.06-.94-.94-2.06-.94 2.06-2.06.94z\"/><path d=\"M17.41 7.96l-1.37-1.37c-.4-.4-.92-.59-1.43-.59-.52 0-1.04.2-1.43.59L10.3 9.45l-7.72 7.72c-.78.78-.78 2.05 0 2.83L4 21.41c.39.39.9.59 1.41.59.51 0 1.02-.2 1.41-.59l7.78-7.78 2.81-2.81c.8-.78.8-2.07 0-2.86zM5.41 20L4 18.59l7.72-7.72 1.47 1.35L5.41 20z\"/>\n",
              "  </svg>\n",
              "      </button>\n",
              "      \n",
              "  <style>\n",
              "    .colab-df-container {\n",
              "      display:flex;\n",
              "      flex-wrap:wrap;\n",
              "      gap: 12px;\n",
              "    }\n",
              "\n",
              "    .colab-df-convert {\n",
              "      background-color: #E8F0FE;\n",
              "      border: none;\n",
              "      border-radius: 50%;\n",
              "      cursor: pointer;\n",
              "      display: none;\n",
              "      fill: #1967D2;\n",
              "      height: 32px;\n",
              "      padding: 0 0 0 0;\n",
              "      width: 32px;\n",
              "    }\n",
              "\n",
              "    .colab-df-convert:hover {\n",
              "      background-color: #E2EBFA;\n",
              "      box-shadow: 0px 1px 2px rgba(60, 64, 67, 0.3), 0px 1px 3px 1px rgba(60, 64, 67, 0.15);\n",
              "      fill: #174EA6;\n",
              "    }\n",
              "\n",
              "    [theme=dark] .colab-df-convert {\n",
              "      background-color: #3B4455;\n",
              "      fill: #D2E3FC;\n",
              "    }\n",
              "\n",
              "    [theme=dark] .colab-df-convert:hover {\n",
              "      background-color: #434B5C;\n",
              "      box-shadow: 0px 1px 3px 1px rgba(0, 0, 0, 0.15);\n",
              "      filter: drop-shadow(0px 1px 2px rgba(0, 0, 0, 0.3));\n",
              "      fill: #FFFFFF;\n",
              "    }\n",
              "  </style>\n",
              "\n",
              "      <script>\n",
              "        const buttonEl =\n",
              "          document.querySelector('#df-5e197f43-8ec4-4987-9205-efa70b2ac008 button.colab-df-convert');\n",
              "        buttonEl.style.display =\n",
              "          google.colab.kernel.accessAllowed ? 'block' : 'none';\n",
              "\n",
              "        async function convertToInteractive(key) {\n",
              "          const element = document.querySelector('#df-5e197f43-8ec4-4987-9205-efa70b2ac008');\n",
              "          const dataTable =\n",
              "            await google.colab.kernel.invokeFunction('convertToInteractive',\n",
              "                                                     [key], {});\n",
              "          if (!dataTable) return;\n",
              "\n",
              "          const docLinkHtml = 'Like what you see? Visit the ' +\n",
              "            '<a target=\"_blank\" href=https://colab.research.google.com/notebooks/data_table.ipynb>data table notebook</a>'\n",
              "            + ' to learn more about interactive tables.';\n",
              "          element.innerHTML = '';\n",
              "          dataTable['output_type'] = 'display_data';\n",
              "          await google.colab.output.renderOutput(dataTable, element);\n",
              "          const docLink = document.createElement('div');\n",
              "          docLink.innerHTML = docLinkHtml;\n",
              "          element.appendChild(docLink);\n",
              "        }\n",
              "      </script>\n",
              "    </div>\n",
              "  </div>\n",
              "  "
            ]
          },
          "metadata": {},
          "execution_count": 102
        }
      ]
    },
    {
      "cell_type": "code",
      "source": [
        "query_avg_delivery_fast = '''select date_diff( DATE(ord.order_delivered_customer_date), DATE(ord.order_estimated_delivery_date), DAY) as time_to_delivery, cust.customer_state FROM  `target_db.orders` as ord LEFT JOIN \n",
        "`target_db.customers` AS cust ON ord.customer_id = cust.customer_id where  date_diff( DATE(ord.order_delivered_customer_date) , DATE(ord.order_estimated_delivery_date),DAY) is not null order by time_to_delivery asc limit 5'''\n",
        "df_avg_delivery_fast = client.query(query_avg_delivery_fast).to_dataframe()\n",
        "df_avg_delivery_fast"
      ],
      "metadata": {
        "colab": {
          "base_uri": "https://localhost:8080/",
          "height": 206
        },
        "id": "f197t_pgvfvx",
        "outputId": "7b6728a3-b369-4a72-9ce2-c50fea39f6b9"
      },
      "execution_count": null,
      "outputs": [
        {
          "output_type": "execute_result",
          "data": {
            "text/plain": [
              "   time_to_delivery customer_state\n",
              "0              -147             SP\n",
              "1              -140             MA\n",
              "2              -135             RS\n",
              "3              -124             SP\n",
              "4              -109             RJ"
            ],
            "text/html": [
              "\n",
              "  <div id=\"df-f5806db4-cfd0-4d84-9629-a191dd7c379c\">\n",
              "    <div class=\"colab-df-container\">\n",
              "      <div>\n",
              "<style scoped>\n",
              "    .dataframe tbody tr th:only-of-type {\n",
              "        vertical-align: middle;\n",
              "    }\n",
              "\n",
              "    .dataframe tbody tr th {\n",
              "        vertical-align: top;\n",
              "    }\n",
              "\n",
              "    .dataframe thead th {\n",
              "        text-align: right;\n",
              "    }\n",
              "</style>\n",
              "<table border=\"1\" class=\"dataframe\">\n",
              "  <thead>\n",
              "    <tr style=\"text-align: right;\">\n",
              "      <th></th>\n",
              "      <th>time_to_delivery</th>\n",
              "      <th>customer_state</th>\n",
              "    </tr>\n",
              "  </thead>\n",
              "  <tbody>\n",
              "    <tr>\n",
              "      <th>0</th>\n",
              "      <td>-147</td>\n",
              "      <td>SP</td>\n",
              "    </tr>\n",
              "    <tr>\n",
              "      <th>1</th>\n",
              "      <td>-140</td>\n",
              "      <td>MA</td>\n",
              "    </tr>\n",
              "    <tr>\n",
              "      <th>2</th>\n",
              "      <td>-135</td>\n",
              "      <td>RS</td>\n",
              "    </tr>\n",
              "    <tr>\n",
              "      <th>3</th>\n",
              "      <td>-124</td>\n",
              "      <td>SP</td>\n",
              "    </tr>\n",
              "    <tr>\n",
              "      <th>4</th>\n",
              "      <td>-109</td>\n",
              "      <td>RJ</td>\n",
              "    </tr>\n",
              "  </tbody>\n",
              "</table>\n",
              "</div>\n",
              "      <button class=\"colab-df-convert\" onclick=\"convertToInteractive('df-f5806db4-cfd0-4d84-9629-a191dd7c379c')\"\n",
              "              title=\"Convert this dataframe to an interactive table.\"\n",
              "              style=\"display:none;\">\n",
              "        \n",
              "  <svg xmlns=\"http://www.w3.org/2000/svg\" height=\"24px\"viewBox=\"0 0 24 24\"\n",
              "       width=\"24px\">\n",
              "    <path d=\"M0 0h24v24H0V0z\" fill=\"none\"/>\n",
              "    <path d=\"M18.56 5.44l.94 2.06.94-2.06 2.06-.94-2.06-.94-.94-2.06-.94 2.06-2.06.94zm-11 1L8.5 8.5l.94-2.06 2.06-.94-2.06-.94L8.5 2.5l-.94 2.06-2.06.94zm10 10l.94 2.06.94-2.06 2.06-.94-2.06-.94-.94-2.06-.94 2.06-2.06.94z\"/><path d=\"M17.41 7.96l-1.37-1.37c-.4-.4-.92-.59-1.43-.59-.52 0-1.04.2-1.43.59L10.3 9.45l-7.72 7.72c-.78.78-.78 2.05 0 2.83L4 21.41c.39.39.9.59 1.41.59.51 0 1.02-.2 1.41-.59l7.78-7.78 2.81-2.81c.8-.78.8-2.07 0-2.86zM5.41 20L4 18.59l7.72-7.72 1.47 1.35L5.41 20z\"/>\n",
              "  </svg>\n",
              "      </button>\n",
              "      \n",
              "  <style>\n",
              "    .colab-df-container {\n",
              "      display:flex;\n",
              "      flex-wrap:wrap;\n",
              "      gap: 12px;\n",
              "    }\n",
              "\n",
              "    .colab-df-convert {\n",
              "      background-color: #E8F0FE;\n",
              "      border: none;\n",
              "      border-radius: 50%;\n",
              "      cursor: pointer;\n",
              "      display: none;\n",
              "      fill: #1967D2;\n",
              "      height: 32px;\n",
              "      padding: 0 0 0 0;\n",
              "      width: 32px;\n",
              "    }\n",
              "\n",
              "    .colab-df-convert:hover {\n",
              "      background-color: #E2EBFA;\n",
              "      box-shadow: 0px 1px 2px rgba(60, 64, 67, 0.3), 0px 1px 3px 1px rgba(60, 64, 67, 0.15);\n",
              "      fill: #174EA6;\n",
              "    }\n",
              "\n",
              "    [theme=dark] .colab-df-convert {\n",
              "      background-color: #3B4455;\n",
              "      fill: #D2E3FC;\n",
              "    }\n",
              "\n",
              "    [theme=dark] .colab-df-convert:hover {\n",
              "      background-color: #434B5C;\n",
              "      box-shadow: 0px 1px 3px 1px rgba(0, 0, 0, 0.15);\n",
              "      filter: drop-shadow(0px 1px 2px rgba(0, 0, 0, 0.3));\n",
              "      fill: #FFFFFF;\n",
              "    }\n",
              "  </style>\n",
              "\n",
              "      <script>\n",
              "        const buttonEl =\n",
              "          document.querySelector('#df-f5806db4-cfd0-4d84-9629-a191dd7c379c button.colab-df-convert');\n",
              "        buttonEl.style.display =\n",
              "          google.colab.kernel.accessAllowed ? 'block' : 'none';\n",
              "\n",
              "        async function convertToInteractive(key) {\n",
              "          const element = document.querySelector('#df-f5806db4-cfd0-4d84-9629-a191dd7c379c');\n",
              "          const dataTable =\n",
              "            await google.colab.kernel.invokeFunction('convertToInteractive',\n",
              "                                                     [key], {});\n",
              "          if (!dataTable) return;\n",
              "\n",
              "          const docLinkHtml = 'Like what you see? Visit the ' +\n",
              "            '<a target=\"_blank\" href=https://colab.research.google.com/notebooks/data_table.ipynb>data table notebook</a>'\n",
              "            + ' to learn more about interactive tables.';\n",
              "          element.innerHTML = '';\n",
              "          dataTable['output_type'] = 'display_data';\n",
              "          await google.colab.output.renderOutput(dataTable, element);\n",
              "          const docLink = document.createElement('div');\n",
              "          docLink.innerHTML = docLinkHtml;\n",
              "          element.appendChild(docLink);\n",
              "        }\n",
              "      </script>\n",
              "    </div>\n",
              "  </div>\n",
              "  "
            ]
          },
          "metadata": {},
          "execution_count": 103
        }
      ]
    },
    {
      "cell_type": "markdown",
      "source": [
        "Above two table for ascending and ecending values"
      ],
      "metadata": {
        "id": "gY3YLfMYW_oX"
      }
    },
    {
      "cell_type": "code",
      "source": [
        "query_payment_type = '''select count(pay.order_id) as no_of_payment , pay.payment_type, format_datetime(\"%B\", order_purchase_timestamp) as Month from `target_db.payments` as pay left join `target_db.orders` as ord\n",
        "on pay.order_id =ord.order_id group by pay.payment_type, format_datetime(\"%B\", order_purchase_timestamp)'''\n",
        "df_payment_type = client.query(query_payment_type).to_dataframe()\n",
        "df_payment_type.head()"
      ],
      "metadata": {
        "colab": {
          "base_uri": "https://localhost:8080/",
          "height": 206
        },
        "id": "fdboyZv3vf6G",
        "outputId": "ada47029-9c36-4ff5-f044-fb3cb148b8d6"
      },
      "execution_count": null,
      "outputs": [
        {
          "output_type": "execute_result",
          "data": {
            "text/plain": [
              "   no_of_payment payment_type    Month\n",
              "0           8350  credit_card      May\n",
              "1           7301  credit_card    April\n",
              "2            477      voucher  January\n",
              "3            572      voucher    April\n",
              "4            318      voucher  October"
            ],
            "text/html": [
              "\n",
              "  <div id=\"df-93122ade-027d-41ab-9046-dad118e22eec\">\n",
              "    <div class=\"colab-df-container\">\n",
              "      <div>\n",
              "<style scoped>\n",
              "    .dataframe tbody tr th:only-of-type {\n",
              "        vertical-align: middle;\n",
              "    }\n",
              "\n",
              "    .dataframe tbody tr th {\n",
              "        vertical-align: top;\n",
              "    }\n",
              "\n",
              "    .dataframe thead th {\n",
              "        text-align: right;\n",
              "    }\n",
              "</style>\n",
              "<table border=\"1\" class=\"dataframe\">\n",
              "  <thead>\n",
              "    <tr style=\"text-align: right;\">\n",
              "      <th></th>\n",
              "      <th>no_of_payment</th>\n",
              "      <th>payment_type</th>\n",
              "      <th>Month</th>\n",
              "    </tr>\n",
              "  </thead>\n",
              "  <tbody>\n",
              "    <tr>\n",
              "      <th>0</th>\n",
              "      <td>8350</td>\n",
              "      <td>credit_card</td>\n",
              "      <td>May</td>\n",
              "    </tr>\n",
              "    <tr>\n",
              "      <th>1</th>\n",
              "      <td>7301</td>\n",
              "      <td>credit_card</td>\n",
              "      <td>April</td>\n",
              "    </tr>\n",
              "    <tr>\n",
              "      <th>2</th>\n",
              "      <td>477</td>\n",
              "      <td>voucher</td>\n",
              "      <td>January</td>\n",
              "    </tr>\n",
              "    <tr>\n",
              "      <th>3</th>\n",
              "      <td>572</td>\n",
              "      <td>voucher</td>\n",
              "      <td>April</td>\n",
              "    </tr>\n",
              "    <tr>\n",
              "      <th>4</th>\n",
              "      <td>318</td>\n",
              "      <td>voucher</td>\n",
              "      <td>October</td>\n",
              "    </tr>\n",
              "  </tbody>\n",
              "</table>\n",
              "</div>\n",
              "      <button class=\"colab-df-convert\" onclick=\"convertToInteractive('df-93122ade-027d-41ab-9046-dad118e22eec')\"\n",
              "              title=\"Convert this dataframe to an interactive table.\"\n",
              "              style=\"display:none;\">\n",
              "        \n",
              "  <svg xmlns=\"http://www.w3.org/2000/svg\" height=\"24px\"viewBox=\"0 0 24 24\"\n",
              "       width=\"24px\">\n",
              "    <path d=\"M0 0h24v24H0V0z\" fill=\"none\"/>\n",
              "    <path d=\"M18.56 5.44l.94 2.06.94-2.06 2.06-.94-2.06-.94-.94-2.06-.94 2.06-2.06.94zm-11 1L8.5 8.5l.94-2.06 2.06-.94-2.06-.94L8.5 2.5l-.94 2.06-2.06.94zm10 10l.94 2.06.94-2.06 2.06-.94-2.06-.94-.94-2.06-.94 2.06-2.06.94z\"/><path d=\"M17.41 7.96l-1.37-1.37c-.4-.4-.92-.59-1.43-.59-.52 0-1.04.2-1.43.59L10.3 9.45l-7.72 7.72c-.78.78-.78 2.05 0 2.83L4 21.41c.39.39.9.59 1.41.59.51 0 1.02-.2 1.41-.59l7.78-7.78 2.81-2.81c.8-.78.8-2.07 0-2.86zM5.41 20L4 18.59l7.72-7.72 1.47 1.35L5.41 20z\"/>\n",
              "  </svg>\n",
              "      </button>\n",
              "      \n",
              "  <style>\n",
              "    .colab-df-container {\n",
              "      display:flex;\n",
              "      flex-wrap:wrap;\n",
              "      gap: 12px;\n",
              "    }\n",
              "\n",
              "    .colab-df-convert {\n",
              "      background-color: #E8F0FE;\n",
              "      border: none;\n",
              "      border-radius: 50%;\n",
              "      cursor: pointer;\n",
              "      display: none;\n",
              "      fill: #1967D2;\n",
              "      height: 32px;\n",
              "      padding: 0 0 0 0;\n",
              "      width: 32px;\n",
              "    }\n",
              "\n",
              "    .colab-df-convert:hover {\n",
              "      background-color: #E2EBFA;\n",
              "      box-shadow: 0px 1px 2px rgba(60, 64, 67, 0.3), 0px 1px 3px 1px rgba(60, 64, 67, 0.15);\n",
              "      fill: #174EA6;\n",
              "    }\n",
              "\n",
              "    [theme=dark] .colab-df-convert {\n",
              "      background-color: #3B4455;\n",
              "      fill: #D2E3FC;\n",
              "    }\n",
              "\n",
              "    [theme=dark] .colab-df-convert:hover {\n",
              "      background-color: #434B5C;\n",
              "      box-shadow: 0px 1px 3px 1px rgba(0, 0, 0, 0.15);\n",
              "      filter: drop-shadow(0px 1px 2px rgba(0, 0, 0, 0.3));\n",
              "      fill: #FFFFFF;\n",
              "    }\n",
              "  </style>\n",
              "\n",
              "      <script>\n",
              "        const buttonEl =\n",
              "          document.querySelector('#df-93122ade-027d-41ab-9046-dad118e22eec button.colab-df-convert');\n",
              "        buttonEl.style.display =\n",
              "          google.colab.kernel.accessAllowed ? 'block' : 'none';\n",
              "\n",
              "        async function convertToInteractive(key) {\n",
              "          const element = document.querySelector('#df-93122ade-027d-41ab-9046-dad118e22eec');\n",
              "          const dataTable =\n",
              "            await google.colab.kernel.invokeFunction('convertToInteractive',\n",
              "                                                     [key], {});\n",
              "          if (!dataTable) return;\n",
              "\n",
              "          const docLinkHtml = 'Like what you see? Visit the ' +\n",
              "            '<a target=\"_blank\" href=https://colab.research.google.com/notebooks/data_table.ipynb>data table notebook</a>'\n",
              "            + ' to learn more about interactive tables.';\n",
              "          element.innerHTML = '';\n",
              "          dataTable['output_type'] = 'display_data';\n",
              "          await google.colab.output.renderOutput(dataTable, element);\n",
              "          const docLink = document.createElement('div');\n",
              "          docLink.innerHTML = docLinkHtml;\n",
              "          element.appendChild(docLink);\n",
              "        }\n",
              "      </script>\n",
              "    </div>\n",
              "  </div>\n",
              "  "
            ]
          },
          "metadata": {},
          "execution_count": 104
        }
      ]
    },
    {
      "cell_type": "code",
      "source": [],
      "metadata": {
        "id": "27xNlWTcXGjY"
      },
      "execution_count": null,
      "outputs": []
    },
    {
      "cell_type": "code",
      "source": [
        "query_payment_installment = '''select count(order_id) as no_of_transactions, pay.payment_installments from `target_db.payments` as pay group by pay.payment_installments'''\n",
        "df_payment_installment = client.query(query_payment_installment).to_dataframe()\n",
        "df_payment_installment.head()"
      ],
      "metadata": {
        "colab": {
          "base_uri": "https://localhost:8080/",
          "height": 206
        },
        "id": "-LPOpl02XGmG",
        "outputId": "be5b6ec5-8c65-4a1a-8306-78d828db2034"
      },
      "execution_count": null,
      "outputs": [
        {
          "output_type": "execute_result",
          "data": {
            "text/plain": [
              "   no_of_transactions  payment_installments\n",
              "0                   2                     0\n",
              "1               52546                     1\n",
              "2               12413                     2\n",
              "3               10461                     3\n",
              "4                7098                     4"
            ],
            "text/html": [
              "\n",
              "  <div id=\"df-9ba16060-745c-4b7e-91d5-c9dbe786aa95\">\n",
              "    <div class=\"colab-df-container\">\n",
              "      <div>\n",
              "<style scoped>\n",
              "    .dataframe tbody tr th:only-of-type {\n",
              "        vertical-align: middle;\n",
              "    }\n",
              "\n",
              "    .dataframe tbody tr th {\n",
              "        vertical-align: top;\n",
              "    }\n",
              "\n",
              "    .dataframe thead th {\n",
              "        text-align: right;\n",
              "    }\n",
              "</style>\n",
              "<table border=\"1\" class=\"dataframe\">\n",
              "  <thead>\n",
              "    <tr style=\"text-align: right;\">\n",
              "      <th></th>\n",
              "      <th>no_of_transactions</th>\n",
              "      <th>payment_installments</th>\n",
              "    </tr>\n",
              "  </thead>\n",
              "  <tbody>\n",
              "    <tr>\n",
              "      <th>0</th>\n",
              "      <td>2</td>\n",
              "      <td>0</td>\n",
              "    </tr>\n",
              "    <tr>\n",
              "      <th>1</th>\n",
              "      <td>52546</td>\n",
              "      <td>1</td>\n",
              "    </tr>\n",
              "    <tr>\n",
              "      <th>2</th>\n",
              "      <td>12413</td>\n",
              "      <td>2</td>\n",
              "    </tr>\n",
              "    <tr>\n",
              "      <th>3</th>\n",
              "      <td>10461</td>\n",
              "      <td>3</td>\n",
              "    </tr>\n",
              "    <tr>\n",
              "      <th>4</th>\n",
              "      <td>7098</td>\n",
              "      <td>4</td>\n",
              "    </tr>\n",
              "  </tbody>\n",
              "</table>\n",
              "</div>\n",
              "      <button class=\"colab-df-convert\" onclick=\"convertToInteractive('df-9ba16060-745c-4b7e-91d5-c9dbe786aa95')\"\n",
              "              title=\"Convert this dataframe to an interactive table.\"\n",
              "              style=\"display:none;\">\n",
              "        \n",
              "  <svg xmlns=\"http://www.w3.org/2000/svg\" height=\"24px\"viewBox=\"0 0 24 24\"\n",
              "       width=\"24px\">\n",
              "    <path d=\"M0 0h24v24H0V0z\" fill=\"none\"/>\n",
              "    <path d=\"M18.56 5.44l.94 2.06.94-2.06 2.06-.94-2.06-.94-.94-2.06-.94 2.06-2.06.94zm-11 1L8.5 8.5l.94-2.06 2.06-.94-2.06-.94L8.5 2.5l-.94 2.06-2.06.94zm10 10l.94 2.06.94-2.06 2.06-.94-2.06-.94-.94-2.06-.94 2.06-2.06.94z\"/><path d=\"M17.41 7.96l-1.37-1.37c-.4-.4-.92-.59-1.43-.59-.52 0-1.04.2-1.43.59L10.3 9.45l-7.72 7.72c-.78.78-.78 2.05 0 2.83L4 21.41c.39.39.9.59 1.41.59.51 0 1.02-.2 1.41-.59l7.78-7.78 2.81-2.81c.8-.78.8-2.07 0-2.86zM5.41 20L4 18.59l7.72-7.72 1.47 1.35L5.41 20z\"/>\n",
              "  </svg>\n",
              "      </button>\n",
              "      \n",
              "  <style>\n",
              "    .colab-df-container {\n",
              "      display:flex;\n",
              "      flex-wrap:wrap;\n",
              "      gap: 12px;\n",
              "    }\n",
              "\n",
              "    .colab-df-convert {\n",
              "      background-color: #E8F0FE;\n",
              "      border: none;\n",
              "      border-radius: 50%;\n",
              "      cursor: pointer;\n",
              "      display: none;\n",
              "      fill: #1967D2;\n",
              "      height: 32px;\n",
              "      padding: 0 0 0 0;\n",
              "      width: 32px;\n",
              "    }\n",
              "\n",
              "    .colab-df-convert:hover {\n",
              "      background-color: #E2EBFA;\n",
              "      box-shadow: 0px 1px 2px rgba(60, 64, 67, 0.3), 0px 1px 3px 1px rgba(60, 64, 67, 0.15);\n",
              "      fill: #174EA6;\n",
              "    }\n",
              "\n",
              "    [theme=dark] .colab-df-convert {\n",
              "      background-color: #3B4455;\n",
              "      fill: #D2E3FC;\n",
              "    }\n",
              "\n",
              "    [theme=dark] .colab-df-convert:hover {\n",
              "      background-color: #434B5C;\n",
              "      box-shadow: 0px 1px 3px 1px rgba(0, 0, 0, 0.15);\n",
              "      filter: drop-shadow(0px 1px 2px rgba(0, 0, 0, 0.3));\n",
              "      fill: #FFFFFF;\n",
              "    }\n",
              "  </style>\n",
              "\n",
              "      <script>\n",
              "        const buttonEl =\n",
              "          document.querySelector('#df-9ba16060-745c-4b7e-91d5-c9dbe786aa95 button.colab-df-convert');\n",
              "        buttonEl.style.display =\n",
              "          google.colab.kernel.accessAllowed ? 'block' : 'none';\n",
              "\n",
              "        async function convertToInteractive(key) {\n",
              "          const element = document.querySelector('#df-9ba16060-745c-4b7e-91d5-c9dbe786aa95');\n",
              "          const dataTable =\n",
              "            await google.colab.kernel.invokeFunction('convertToInteractive',\n",
              "                                                     [key], {});\n",
              "          if (!dataTable) return;\n",
              "\n",
              "          const docLinkHtml = 'Like what you see? Visit the ' +\n",
              "            '<a target=\"_blank\" href=https://colab.research.google.com/notebooks/data_table.ipynb>data table notebook</a>'\n",
              "            + ' to learn more about interactive tables.';\n",
              "          element.innerHTML = '';\n",
              "          dataTable['output_type'] = 'display_data';\n",
              "          await google.colab.output.renderOutput(dataTable, element);\n",
              "          const docLink = document.createElement('div');\n",
              "          docLink.innerHTML = docLinkHtml;\n",
              "          element.appendChild(docLink);\n",
              "        }\n",
              "      </script>\n",
              "    </div>\n",
              "  </div>\n",
              "  "
            ]
          },
          "metadata": {},
          "execution_count": 105
        }
      ]
    },
    {
      "cell_type": "code",
      "source": [
        "df_payment_installment.describe()"
      ],
      "metadata": {
        "colab": {
          "base_uri": "https://localhost:8080/",
          "height": 300
        },
        "id": "_5_m_wKiXGo_",
        "outputId": "14f96c17-f469-4e8d-d04f-41908ca79365"
      },
      "execution_count": null,
      "outputs": [
        {
          "output_type": "execute_result",
          "data": {
            "text/plain": [
              "       no_of_transactions  payment_installments\n",
              "count           24.000000             24.000000\n",
              "mean          4328.583333             11.708333\n",
              "std          10870.384106              7.369025\n",
              "min              1.000000              0.000000\n",
              "25%             13.250000              5.750000\n",
              "50%             50.500000             11.500000\n",
              "75%           4510.750000             17.250000\n",
              "max          52546.000000             24.000000"
            ],
            "text/html": [
              "\n",
              "  <div id=\"df-16525ca3-c85b-44dc-af84-472cdaff0185\">\n",
              "    <div class=\"colab-df-container\">\n",
              "      <div>\n",
              "<style scoped>\n",
              "    .dataframe tbody tr th:only-of-type {\n",
              "        vertical-align: middle;\n",
              "    }\n",
              "\n",
              "    .dataframe tbody tr th {\n",
              "        vertical-align: top;\n",
              "    }\n",
              "\n",
              "    .dataframe thead th {\n",
              "        text-align: right;\n",
              "    }\n",
              "</style>\n",
              "<table border=\"1\" class=\"dataframe\">\n",
              "  <thead>\n",
              "    <tr style=\"text-align: right;\">\n",
              "      <th></th>\n",
              "      <th>no_of_transactions</th>\n",
              "      <th>payment_installments</th>\n",
              "    </tr>\n",
              "  </thead>\n",
              "  <tbody>\n",
              "    <tr>\n",
              "      <th>count</th>\n",
              "      <td>24.000000</td>\n",
              "      <td>24.000000</td>\n",
              "    </tr>\n",
              "    <tr>\n",
              "      <th>mean</th>\n",
              "      <td>4328.583333</td>\n",
              "      <td>11.708333</td>\n",
              "    </tr>\n",
              "    <tr>\n",
              "      <th>std</th>\n",
              "      <td>10870.384106</td>\n",
              "      <td>7.369025</td>\n",
              "    </tr>\n",
              "    <tr>\n",
              "      <th>min</th>\n",
              "      <td>1.000000</td>\n",
              "      <td>0.000000</td>\n",
              "    </tr>\n",
              "    <tr>\n",
              "      <th>25%</th>\n",
              "      <td>13.250000</td>\n",
              "      <td>5.750000</td>\n",
              "    </tr>\n",
              "    <tr>\n",
              "      <th>50%</th>\n",
              "      <td>50.500000</td>\n",
              "      <td>11.500000</td>\n",
              "    </tr>\n",
              "    <tr>\n",
              "      <th>75%</th>\n",
              "      <td>4510.750000</td>\n",
              "      <td>17.250000</td>\n",
              "    </tr>\n",
              "    <tr>\n",
              "      <th>max</th>\n",
              "      <td>52546.000000</td>\n",
              "      <td>24.000000</td>\n",
              "    </tr>\n",
              "  </tbody>\n",
              "</table>\n",
              "</div>\n",
              "      <button class=\"colab-df-convert\" onclick=\"convertToInteractive('df-16525ca3-c85b-44dc-af84-472cdaff0185')\"\n",
              "              title=\"Convert this dataframe to an interactive table.\"\n",
              "              style=\"display:none;\">\n",
              "        \n",
              "  <svg xmlns=\"http://www.w3.org/2000/svg\" height=\"24px\"viewBox=\"0 0 24 24\"\n",
              "       width=\"24px\">\n",
              "    <path d=\"M0 0h24v24H0V0z\" fill=\"none\"/>\n",
              "    <path d=\"M18.56 5.44l.94 2.06.94-2.06 2.06-.94-2.06-.94-.94-2.06-.94 2.06-2.06.94zm-11 1L8.5 8.5l.94-2.06 2.06-.94-2.06-.94L8.5 2.5l-.94 2.06-2.06.94zm10 10l.94 2.06.94-2.06 2.06-.94-2.06-.94-.94-2.06-.94 2.06-2.06.94z\"/><path d=\"M17.41 7.96l-1.37-1.37c-.4-.4-.92-.59-1.43-.59-.52 0-1.04.2-1.43.59L10.3 9.45l-7.72 7.72c-.78.78-.78 2.05 0 2.83L4 21.41c.39.39.9.59 1.41.59.51 0 1.02-.2 1.41-.59l7.78-7.78 2.81-2.81c.8-.78.8-2.07 0-2.86zM5.41 20L4 18.59l7.72-7.72 1.47 1.35L5.41 20z\"/>\n",
              "  </svg>\n",
              "      </button>\n",
              "      \n",
              "  <style>\n",
              "    .colab-df-container {\n",
              "      display:flex;\n",
              "      flex-wrap:wrap;\n",
              "      gap: 12px;\n",
              "    }\n",
              "\n",
              "    .colab-df-convert {\n",
              "      background-color: #E8F0FE;\n",
              "      border: none;\n",
              "      border-radius: 50%;\n",
              "      cursor: pointer;\n",
              "      display: none;\n",
              "      fill: #1967D2;\n",
              "      height: 32px;\n",
              "      padding: 0 0 0 0;\n",
              "      width: 32px;\n",
              "    }\n",
              "\n",
              "    .colab-df-convert:hover {\n",
              "      background-color: #E2EBFA;\n",
              "      box-shadow: 0px 1px 2px rgba(60, 64, 67, 0.3), 0px 1px 3px 1px rgba(60, 64, 67, 0.15);\n",
              "      fill: #174EA6;\n",
              "    }\n",
              "\n",
              "    [theme=dark] .colab-df-convert {\n",
              "      background-color: #3B4455;\n",
              "      fill: #D2E3FC;\n",
              "    }\n",
              "\n",
              "    [theme=dark] .colab-df-convert:hover {\n",
              "      background-color: #434B5C;\n",
              "      box-shadow: 0px 1px 3px 1px rgba(0, 0, 0, 0.15);\n",
              "      filter: drop-shadow(0px 1px 2px rgba(0, 0, 0, 0.3));\n",
              "      fill: #FFFFFF;\n",
              "    }\n",
              "  </style>\n",
              "\n",
              "      <script>\n",
              "        const buttonEl =\n",
              "          document.querySelector('#df-16525ca3-c85b-44dc-af84-472cdaff0185 button.colab-df-convert');\n",
              "        buttonEl.style.display =\n",
              "          google.colab.kernel.accessAllowed ? 'block' : 'none';\n",
              "\n",
              "        async function convertToInteractive(key) {\n",
              "          const element = document.querySelector('#df-16525ca3-c85b-44dc-af84-472cdaff0185');\n",
              "          const dataTable =\n",
              "            await google.colab.kernel.invokeFunction('convertToInteractive',\n",
              "                                                     [key], {});\n",
              "          if (!dataTable) return;\n",
              "\n",
              "          const docLinkHtml = 'Like what you see? Visit the ' +\n",
              "            '<a target=\"_blank\" href=https://colab.research.google.com/notebooks/data_table.ipynb>data table notebook</a>'\n",
              "            + ' to learn more about interactive tables.';\n",
              "          element.innerHTML = '';\n",
              "          dataTable['output_type'] = 'display_data';\n",
              "          await google.colab.output.renderOutput(dataTable, element);\n",
              "          const docLink = document.createElement('div');\n",
              "          docLink.innerHTML = docLinkHtml;\n",
              "          element.appendChild(docLink);\n",
              "        }\n",
              "      </script>\n",
              "    </div>\n",
              "  </div>\n",
              "  "
            ]
          },
          "metadata": {},
          "execution_count": 106
        }
      ]
    },
    {
      "cell_type": "markdown",
      "source": [
        "average loan taken is for 12 months"
      ],
      "metadata": {
        "id": "IayLtUtEZAnM"
      }
    },
    {
      "cell_type": "code",
      "source": [],
      "metadata": {
        "id": "Yx1qUJgMXGui"
      },
      "execution_count": null,
      "outputs": []
    },
    {
      "cell_type": "code",
      "source": [],
      "metadata": {
        "id": "mHx23vCFXGxc"
      },
      "execution_count": null,
      "outputs": []
    },
    {
      "cell_type": "code",
      "source": [],
      "metadata": {
        "id": "7pbaqyC5XG0K"
      },
      "execution_count": null,
      "outputs": []
    },
    {
      "cell_type": "code",
      "source": [],
      "metadata": {
        "id": "kMiOUzmqXG3j"
      },
      "execution_count": null,
      "outputs": []
    },
    {
      "cell_type": "code",
      "source": [],
      "metadata": {
        "id": "H_5pWKz8XG66"
      },
      "execution_count": null,
      "outputs": []
    }
  ]
}